{
 "cells": [
  {
   "cell_type": "code",
   "execution_count": 1,
   "metadata": {},
   "outputs": [],
   "source": [
    "from pyspark.sql import SparkSession\n",
    "from pyspark.sql import functions as F\n",
    "\n",
    "spark = SparkSession.builder.master(\"local[*]\").getOrCreate()"
   ]
  },
  {
   "cell_type": "code",
   "execution_count": 2,
   "metadata": {},
   "outputs": [],
   "source": [
    "# !pip install numpy"
   ]
  },
  {
   "cell_type": "markdown",
   "metadata": {},
   "source": [
    "## Reading and analyzing the data\n",
    "\n",
    "### The 'Kaggle Telco Customer Churn' data is used: [link](https://www.kaggle.com/blastchar/telco-customer-churn)"
   ]
  },
  {
   "cell_type": "code",
   "execution_count": 3,
   "metadata": {},
   "outputs": [],
   "source": [
    "from pyspark.sql.functions import col\n",
    "from pyspark.sql.types import *\n",
    "\n",
    "churn_schema = StructType([\n",
    "    StructField(\"customerID\", StringType(), True),\n",
    "    StructField(\"gender\", StringType(), True),\n",
    "    StructField(\"SeniorCitizen\", IntegerType(), True),\n",
    "    StructField(\"Partner\", StringType(), True),\n",
    "    StructField(\"Dependents\", StringType(), True),\n",
    "    StructField(\"tenure\", IntegerType(), True),\n",
    "    StructField(\"PhoneService\", StringType(), True),\n",
    "    StructField(\"MultipleLines\", StringType(), True),\n",
    "    StructField(\"InternetService\", StringType(), True),\n",
    "    StructField(\"OnlineSecurity\", StringType(), True),\n",
    "    StructField(\"OnlineBackup\", StringType(), True),\n",
    "    StructField(\"DeviceProtection\", StringType(), True),\n",
    "    StructField(\"TechSupport\", StringType(), True),\n",
    "    StructField(\"StreamingTV\", StringType(), True),\n",
    "    StructField(\"StreamingMovies\", StringType(), True),\n",
    "    StructField(\"Contract\", StringType(), True),\n",
    "    StructField(\"PaperlessBilling\", StringType(), True),\n",
    "    StructField(\"PaymentMethod\", StringType(), True),\n",
    "    StructField(\"MonthlyCharges\", FloatType(), True),\n",
    "    StructField(\"TotalCharges\", FloatType(), True),\n",
    "    StructField(\"Churn\", StringType(), True),\n",
    "\n",
    "])"
   ]
  },
  {
   "cell_type": "code",
   "execution_count": 4,
   "metadata": {},
   "outputs": [],
   "source": [
    "churn_df = spark.read.csv(\"WA_Fn-UseC_-Telco-Customer-Churn.xls\", header=True, schema=churn_schema)"
   ]
  },
  {
   "cell_type": "code",
   "execution_count": 5,
   "metadata": {},
   "outputs": [
    {
     "name": "stdout",
     "output_type": "stream",
     "text": [
      "root\n",
      " |-- customerID: string (nullable = true)\n",
      " |-- gender: string (nullable = true)\n",
      " |-- SeniorCitizen: integer (nullable = true)\n",
      " |-- Partner: string (nullable = true)\n",
      " |-- Dependents: string (nullable = true)\n",
      " |-- tenure: integer (nullable = true)\n",
      " |-- PhoneService: string (nullable = true)\n",
      " |-- MultipleLines: string (nullable = true)\n",
      " |-- InternetService: string (nullable = true)\n",
      " |-- OnlineSecurity: string (nullable = true)\n",
      " |-- OnlineBackup: string (nullable = true)\n",
      " |-- DeviceProtection: string (nullable = true)\n",
      " |-- TechSupport: string (nullable = true)\n",
      " |-- StreamingTV: string (nullable = true)\n",
      " |-- StreamingMovies: string (nullable = true)\n",
      " |-- Contract: string (nullable = true)\n",
      " |-- PaperlessBilling: string (nullable = true)\n",
      " |-- PaymentMethod: string (nullable = true)\n",
      " |-- MonthlyCharges: float (nullable = true)\n",
      " |-- TotalCharges: float (nullable = true)\n",
      " |-- Churn: string (nullable = true)\n",
      "\n"
     ]
    }
   ],
   "source": [
    "churn_df.printSchema()"
   ]
  },
  {
   "cell_type": "code",
   "execution_count": 6,
   "metadata": {},
   "outputs": [
    {
     "name": "stdout",
     "output_type": "stream",
     "text": [
      "+----------+------+-------------+-------+----------+------+------------+----------------+---------------+-------------------+-------------------+-------------------+-------------------+-------------------+-------------------+--------------+----------------+--------------------+--------------+------------+-----+\n",
      "|customerID|gender|SeniorCitizen|Partner|Dependents|tenure|PhoneService|   MultipleLines|InternetService|     OnlineSecurity|       OnlineBackup|   DeviceProtection|        TechSupport|        StreamingTV|    StreamingMovies|      Contract|PaperlessBilling|       PaymentMethod|MonthlyCharges|TotalCharges|Churn|\n",
      "+----------+------+-------------+-------+----------+------+------------+----------------+---------------+-------------------+-------------------+-------------------+-------------------+-------------------+-------------------+--------------+----------------+--------------------+--------------+------------+-----+\n",
      "|7590-VHVEG|Female|            0|    Yes|        No|     1|          No|No phone service|            DSL|                 No|                Yes|                 No|                 No|                 No|                 No|Month-to-month|             Yes|    Electronic check|         29.85|       29.85|   No|\n",
      "|5575-GNVDE|  Male|            0|     No|        No|    34|         Yes|              No|            DSL|                Yes|                 No|                Yes|                 No|                 No|                 No|      One year|              No|        Mailed check|         56.95|      1889.5|   No|\n",
      "|3668-QPYBK|  Male|            0|     No|        No|     2|         Yes|              No|            DSL|                Yes|                Yes|                 No|                 No|                 No|                 No|Month-to-month|             Yes|        Mailed check|         53.85|      108.15|  Yes|\n",
      "|7795-CFOCW|  Male|            0|     No|        No|    45|          No|No phone service|            DSL|                Yes|                 No|                Yes|                Yes|                 No|                 No|      One year|              No|Bank transfer (au...|          42.3|     1840.75|   No|\n",
      "|9237-HQITU|Female|            0|     No|        No|     2|         Yes|              No|    Fiber optic|                 No|                 No|                 No|                 No|                 No|                 No|Month-to-month|             Yes|    Electronic check|          70.7|      151.65|  Yes|\n",
      "|9305-CDSKC|Female|            0|     No|        No|     8|         Yes|             Yes|    Fiber optic|                 No|                 No|                Yes|                 No|                Yes|                Yes|Month-to-month|             Yes|    Electronic check|         99.65|       820.5|  Yes|\n",
      "|1452-KIOVK|  Male|            0|     No|       Yes|    22|         Yes|             Yes|    Fiber optic|                 No|                Yes|                 No|                 No|                Yes|                 No|Month-to-month|             Yes|Credit card (auto...|          89.1|      1949.4|   No|\n",
      "|6713-OKOMC|Female|            0|     No|        No|    10|          No|No phone service|            DSL|                Yes|                 No|                 No|                 No|                 No|                 No|Month-to-month|              No|        Mailed check|         29.75|       301.9|   No|\n",
      "|7892-POOKP|Female|            0|    Yes|        No|    28|         Yes|             Yes|    Fiber optic|                 No|                 No|                Yes|                Yes|                Yes|                Yes|Month-to-month|             Yes|    Electronic check|         104.8|     3046.05|  Yes|\n",
      "|6388-TABGU|  Male|            0|     No|       Yes|    62|         Yes|              No|            DSL|                Yes|                Yes|                 No|                 No|                 No|                 No|      One year|              No|Bank transfer (au...|         56.15|     3487.95|   No|\n",
      "|9763-GRSKD|  Male|            0|    Yes|       Yes|    13|         Yes|              No|            DSL|                Yes|                 No|                 No|                 No|                 No|                 No|Month-to-month|             Yes|        Mailed check|         49.95|      587.45|   No|\n",
      "|7469-LKBCI|  Male|            0|     No|        No|    16|         Yes|              No|             No|No internet service|No internet service|No internet service|No internet service|No internet service|No internet service|      Two year|              No|Credit card (auto...|         18.95|       326.8|   No|\n",
      "|8091-TTVAX|  Male|            0|    Yes|        No|    58|         Yes|             Yes|    Fiber optic|                 No|                 No|                Yes|                 No|                Yes|                Yes|      One year|              No|Credit card (auto...|        100.35|      5681.1|   No|\n",
      "|0280-XJGEX|  Male|            0|     No|        No|    49|         Yes|             Yes|    Fiber optic|                 No|                Yes|                Yes|                 No|                Yes|                Yes|Month-to-month|             Yes|Bank transfer (au...|         103.7|      5036.3|  Yes|\n",
      "|5129-JLPIS|  Male|            0|     No|        No|    25|         Yes|              No|    Fiber optic|                Yes|                 No|                Yes|                Yes|                Yes|                Yes|Month-to-month|             Yes|    Electronic check|         105.5|     2686.05|   No|\n",
      "|3655-SNQYZ|Female|            0|    Yes|       Yes|    69|         Yes|             Yes|    Fiber optic|                Yes|                Yes|                Yes|                Yes|                Yes|                Yes|      Two year|              No|Credit card (auto...|        113.25|     7895.15|   No|\n",
      "|8191-XWSZG|Female|            0|     No|        No|    52|         Yes|              No|             No|No internet service|No internet service|No internet service|No internet service|No internet service|No internet service|      One year|              No|        Mailed check|         20.65|     1022.95|   No|\n",
      "|9959-WOFKT|  Male|            0|     No|       Yes|    71|         Yes|             Yes|    Fiber optic|                Yes|                 No|                Yes|                 No|                Yes|                Yes|      Two year|              No|Bank transfer (au...|         106.7|     7382.25|   No|\n",
      "|4190-MFLUW|Female|            0|    Yes|       Yes|    10|         Yes|              No|            DSL|                 No|                 No|                Yes|                Yes|                 No|                 No|Month-to-month|              No|Credit card (auto...|          55.2|      528.35|  Yes|\n",
      "|4183-MYFRB|Female|            0|     No|        No|    21|         Yes|              No|    Fiber optic|                 No|                Yes|                Yes|                 No|                 No|                Yes|Month-to-month|             Yes|    Electronic check|         90.05|      1862.9|   No|\n",
      "+----------+------+-------------+-------+----------+------+------------+----------------+---------------+-------------------+-------------------+-------------------+-------------------+-------------------+-------------------+--------------+----------------+--------------------+--------------+------------+-----+\n",
      "only showing top 20 rows\n",
      "\n"
     ]
    }
   ],
   "source": [
    "churn_df.show()"
   ]
  },
  {
   "cell_type": "code",
   "execution_count": 7,
   "metadata": {},
   "outputs": [
    {
     "name": "stdout",
     "output_type": "stream",
     "text": [
      "+----------+------+-------------+-------+----------+------+------------+-------------+---------------+--------------+------------+----------------+-----------+-----------+---------------+--------+----------------+-------------+--------------+------------+-----+\n",
      "|customerID|gender|SeniorCitizen|Partner|Dependents|tenure|PhoneService|MultipleLines|InternetService|OnlineSecurity|OnlineBackup|DeviceProtection|TechSupport|StreamingTV|StreamingMovies|Contract|PaperlessBilling|PaymentMethod|MonthlyCharges|TotalCharges|Churn|\n",
      "+----------+------+-------------+-------+----------+------+------------+-------------+---------------+--------------+------------+----------------+-----------+-----------+---------------+--------+----------------+-------------+--------------+------------+-----+\n",
      "|         0|     0|            0|      0|         0|     0|           0|            0|              0|             0|           0|               0|          0|          0|              0|       0|               0|            0|             0|           0|    0|\n",
      "+----------+------+-------------+-------+----------+------+------------+-------------+---------------+--------------+------------+----------------+-----------+-----------+---------------+--------+----------------+-------------+--------------+------------+-----+\n",
      "\n"
     ]
    }
   ],
   "source": [
    "# Counting number of missing (nan) values in each column, used this blogpost as a reference:\n",
    "#  https://www.datasciencemadesimple.com/count-of-missing-nanna-and-null-values-in-pyspark/\n",
    "\n",
    "churn_df.select([F.count(F.when(F.isnan(col), col)).alias(col) for col in churn_df.columns]).show()"
   ]
  },
  {
   "cell_type": "code",
   "execution_count": 8,
   "metadata": {},
   "outputs": [
    {
     "name": "stdout",
     "output_type": "stream",
     "text": [
      "+----------+------+-------------+-------+----------+------+------------+-------------+---------------+--------------+------------+----------------+-----------+-----------+---------------+--------+----------------+-------------+--------------+------------+-----+\n",
      "|customerID|gender|SeniorCitizen|Partner|Dependents|tenure|PhoneService|MultipleLines|InternetService|OnlineSecurity|OnlineBackup|DeviceProtection|TechSupport|StreamingTV|StreamingMovies|Contract|PaperlessBilling|PaymentMethod|MonthlyCharges|TotalCharges|Churn|\n",
      "+----------+------+-------------+-------+----------+------+------------+-------------+---------------+--------------+------------+----------------+-----------+-----------+---------------+--------+----------------+-------------+--------------+------------+-----+\n",
      "|         0|     0|            0|      0|         0|     0|           0|            0|              0|             0|           0|               0|          0|          0|              0|       0|               0|            0|             0|          11|    0|\n",
      "+----------+------+-------------+-------+----------+------+------------+-------------+---------------+--------------+------------+----------------+-----------+-----------+---------------+--------+----------------+-------------+--------------+------------+-----+\n",
      "\n"
     ]
    }
   ],
   "source": [
    "# Counting number of null values in each column, used this blogpost as a reference:\n",
    "#  https://www.datasciencemadesimple.com/count-of-missing-nanna-and-null-values-in-pyspark/\n",
    "\n",
    "churn_df.select([F.count(F.when(F.isnull(col), col)).alias(col) for col in churn_df.columns]).show()"
   ]
  },
  {
   "cell_type": "code",
   "execution_count": 9,
   "metadata": {},
   "outputs": [
    {
     "name": "stdout",
     "output_type": "stream",
     "text": [
      "+----------+\n",
      "|sum(count)|\n",
      "+----------+\n",
      "|      null|\n",
      "+----------+\n",
      "\n"
     ]
    }
   ],
   "source": [
    "# Checking number of duplicate rows\n",
    "#  Used this stackoverflow answer: https://stackoverflow.com/a/48554666\n",
    "churn_df.groupBy(churn_df.columns)\\\n",
    "    .count()\\\n",
    "    .where(F.col('count') > 1)\\\n",
    "    .select(F.sum('count'))\\\n",
    "    .show()"
   ]
  },
  {
   "cell_type": "markdown",
   "metadata": {},
   "source": [
    "## Imputing null values with mean value "
   ]
  },
  {
   "cell_type": "code",
   "execution_count": 10,
   "metadata": {},
   "outputs": [],
   "source": [
    "churn_df = churn_df.na.fill(\n",
    "    {\n",
    "        'MonthlyCharges': churn_df.agg({\"MonthlyCharges\": \"avg\"}).collect()[0][0],\n",
    "        'TotalCharges': churn_df.agg({\"TotalCharges\": \"avg\"}).collect()[0][0]\n",
    "    }\n",
    ")"
   ]
  },
  {
   "cell_type": "markdown",
   "metadata": {},
   "source": [
    "## Data preparation"
   ]
  },
  {
   "cell_type": "code",
   "execution_count": 11,
   "metadata": {},
   "outputs": [],
   "source": [
    "from pyspark.ml.feature import StringIndexer, VectorIndexer, OneHotEncoder"
   ]
  },
  {
   "cell_type": "code",
   "execution_count": 12,
   "metadata": {},
   "outputs": [],
   "source": [
    "# Change the label column to label\n",
    "churn_df = churn_df.withColumnRenamed('Churn','label')"
   ]
  },
  {
   "cell_type": "code",
   "execution_count": 13,
   "metadata": {},
   "outputs": [],
   "source": [
    "# List of columns need to be indexed and featurized\n",
    "col_list = [\n",
    "    \"gender\",\n",
    "    \"SeniorCitizen\", \n",
    "    \"Partner\",\n",
    "    \"Dependents\",\n",
    "    \"PhoneService\", \n",
    "    \"MultipleLines\",\n",
    "    \"InternetService\", \n",
    "    \"OnlineSecurity\",\n",
    "    \"OnlineBackup\",\n",
    "    \"DeviceProtection\",\n",
    "    \"TechSupport\", \n",
    "    \"StreamingTV\",\n",
    "    \"StreamingMovies\",\n",
    "    \"Contract\",\n",
    "    \"PaperlessBilling\", \n",
    "    \"PaymentMethod\"\n",
    "]\n",
    "\n",
    "featurized_col_list = col_list + [\"tenure\", \"MonthlyCharges\", \"TotalCharges\"]"
   ]
  },
  {
   "cell_type": "code",
   "execution_count": 14,
   "metadata": {},
   "outputs": [],
   "source": [
    "# List of features and label indexers \n",
    "indexers = [\n",
    "    StringIndexer(inputCol=c, outputCol=f'{c}_indexed')\n",
    "    for c in col_list\n",
    "]\n",
    "\n",
    "label_indexer = StringIndexer(inputCol=\"label\", outputCol=\"labelIndex\")\n",
    "indexers.append(label_indexer)"
   ]
  },
  {
   "cell_type": "code",
   "execution_count": 15,
   "metadata": {},
   "outputs": [],
   "source": [
    "# One hot encode the categorical columns\n",
    "encoder = OneHotEncoder(\n",
    "    inputCols = [f'{c}_indexed' for c in col_list], \n",
    "    outputCols=[f'{c}_vector' for c in col_list],\n",
    "    dropLast=True\n",
    ")"
   ]
  },
  {
   "cell_type": "code",
   "execution_count": 16,
   "metadata": {},
   "outputs": [],
   "source": [
    "# Vectorizing the features\n",
    "from pyspark.ml.linalg import Vectors\n",
    "from pyspark.ml.feature import VectorAssembler\n",
    "\n",
    "vector_assembler = VectorAssembler(inputCols=[f'{c}_vector' for c in col_list], outputCol=\"features\")"
   ]
  },
  {
   "cell_type": "markdown",
   "metadata": {},
   "source": [
    "### Pipeline preparation"
   ]
  },
  {
   "cell_type": "code",
   "execution_count": 17,
   "metadata": {},
   "outputs": [],
   "source": [
    "# Define the pipline\n",
    "from pyspark.ml import Pipeline\n",
    "\n",
    "pipeline = Pipeline(stages=indexers + [encoder, vector_assembler])"
   ]
  },
  {
   "cell_type": "code",
   "execution_count": 18,
   "metadata": {},
   "outputs": [],
   "source": [
    "# fit and transform the pipeline\n",
    "pipeline_model = pipeline.fit(churn_df)\n",
    "df = pipeline_model.transform(churn_df)"
   ]
  },
  {
   "cell_type": "code",
   "execution_count": 19,
   "metadata": {},
   "outputs": [
    {
     "name": "stdout",
     "output_type": "stream",
     "text": [
      "root\n",
      " |-- customerID: string (nullable = true)\n",
      " |-- gender: string (nullable = true)\n",
      " |-- SeniorCitizen: integer (nullable = true)\n",
      " |-- Partner: string (nullable = true)\n",
      " |-- Dependents: string (nullable = true)\n",
      " |-- tenure: integer (nullable = true)\n",
      " |-- PhoneService: string (nullable = true)\n",
      " |-- MultipleLines: string (nullable = true)\n",
      " |-- InternetService: string (nullable = true)\n",
      " |-- OnlineSecurity: string (nullable = true)\n",
      " |-- OnlineBackup: string (nullable = true)\n",
      " |-- DeviceProtection: string (nullable = true)\n",
      " |-- TechSupport: string (nullable = true)\n",
      " |-- StreamingTV: string (nullable = true)\n",
      " |-- StreamingMovies: string (nullable = true)\n",
      " |-- Contract: string (nullable = true)\n",
      " |-- PaperlessBilling: string (nullable = true)\n",
      " |-- PaymentMethod: string (nullable = true)\n",
      " |-- MonthlyCharges: float (nullable = false)\n",
      " |-- TotalCharges: float (nullable = false)\n",
      " |-- label: string (nullable = true)\n",
      " |-- gender_indexed: double (nullable = false)\n",
      " |-- SeniorCitizen_indexed: double (nullable = false)\n",
      " |-- Partner_indexed: double (nullable = false)\n",
      " |-- Dependents_indexed: double (nullable = false)\n",
      " |-- PhoneService_indexed: double (nullable = false)\n",
      " |-- MultipleLines_indexed: double (nullable = false)\n",
      " |-- InternetService_indexed: double (nullable = false)\n",
      " |-- OnlineSecurity_indexed: double (nullable = false)\n",
      " |-- OnlineBackup_indexed: double (nullable = false)\n",
      " |-- DeviceProtection_indexed: double (nullable = false)\n",
      " |-- TechSupport_indexed: double (nullable = false)\n",
      " |-- StreamingTV_indexed: double (nullable = false)\n",
      " |-- StreamingMovies_indexed: double (nullable = false)\n",
      " |-- Contract_indexed: double (nullable = false)\n",
      " |-- PaperlessBilling_indexed: double (nullable = false)\n",
      " |-- PaymentMethod_indexed: double (nullable = false)\n",
      " |-- labelIndex: double (nullable = false)\n",
      " |-- MultipleLines_vector: vector (nullable = true)\n",
      " |-- SeniorCitizen_vector: vector (nullable = true)\n",
      " |-- Dependents_vector: vector (nullable = true)\n",
      " |-- Partner_vector: vector (nullable = true)\n",
      " |-- OnlineSecurity_vector: vector (nullable = true)\n",
      " |-- DeviceProtection_vector: vector (nullable = true)\n",
      " |-- Contract_vector: vector (nullable = true)\n",
      " |-- TechSupport_vector: vector (nullable = true)\n",
      " |-- InternetService_vector: vector (nullable = true)\n",
      " |-- StreamingMovies_vector: vector (nullable = true)\n",
      " |-- OnlineBackup_vector: vector (nullable = true)\n",
      " |-- PhoneService_vector: vector (nullable = true)\n",
      " |-- StreamingTV_vector: vector (nullable = true)\n",
      " |-- PaymentMethod_vector: vector (nullable = true)\n",
      " |-- gender_vector: vector (nullable = true)\n",
      " |-- PaperlessBilling_vector: vector (nullable = true)\n",
      " |-- features: vector (nullable = true)\n",
      "\n"
     ]
    }
   ],
   "source": [
    "df.printSchema()"
   ]
  },
  {
   "cell_type": "code",
   "execution_count": 20,
   "metadata": {},
   "outputs": [
    {
     "name": "stdout",
     "output_type": "stream",
     "text": [
      "+-------------------+-----------------------+----------------------+\n",
      "|    StreamingMovies|StreamingMovies_indexed|StreamingMovies_vector|\n",
      "+-------------------+-----------------------+----------------------+\n",
      "|                 No|                    0.0|         (2,[0],[1.0])|\n",
      "|                 No|                    0.0|         (2,[0],[1.0])|\n",
      "|                 No|                    0.0|         (2,[0],[1.0])|\n",
      "|                 No|                    0.0|         (2,[0],[1.0])|\n",
      "|                 No|                    0.0|         (2,[0],[1.0])|\n",
      "|                Yes|                    1.0|         (2,[1],[1.0])|\n",
      "|                 No|                    0.0|         (2,[0],[1.0])|\n",
      "|                 No|                    0.0|         (2,[0],[1.0])|\n",
      "|                Yes|                    1.0|         (2,[1],[1.0])|\n",
      "|                 No|                    0.0|         (2,[0],[1.0])|\n",
      "|                 No|                    0.0|         (2,[0],[1.0])|\n",
      "|No internet service|                    2.0|             (2,[],[])|\n",
      "|                Yes|                    1.0|         (2,[1],[1.0])|\n",
      "|                Yes|                    1.0|         (2,[1],[1.0])|\n",
      "|                Yes|                    1.0|         (2,[1],[1.0])|\n",
      "|                Yes|                    1.0|         (2,[1],[1.0])|\n",
      "|No internet service|                    2.0|             (2,[],[])|\n",
      "|                Yes|                    1.0|         (2,[1],[1.0])|\n",
      "|                 No|                    0.0|         (2,[0],[1.0])|\n",
      "|                Yes|                    1.0|         (2,[1],[1.0])|\n",
      "+-------------------+-----------------------+----------------------+\n",
      "only showing top 20 rows\n",
      "\n"
     ]
    }
   ],
   "source": [
    "df.select(\"StreamingMovies\", \"StreamingMovies_indexed\", \"StreamingMovies_vector\").show()"
   ]
  },
  {
   "cell_type": "code",
   "execution_count": 21,
   "metadata": {},
   "outputs": [],
   "source": [
    "cols_drop = [f'{c}_indexed' for c in col_list] + [f'{c}_vector' for c in col_list] + [f'{c}' for c in featurized_col_list] + ['customerID']\n",
    "df = df.drop(*cols_drop)"
   ]
  },
  {
   "cell_type": "code",
   "execution_count": 22,
   "metadata": {},
   "outputs": [
    {
     "name": "stdout",
     "output_type": "stream",
     "text": [
      "root\n",
      " |-- label: string (nullable = true)\n",
      " |-- labelIndex: double (nullable = false)\n",
      " |-- features: vector (nullable = true)\n",
      "\n"
     ]
    }
   ],
   "source": [
    "df.printSchema()"
   ]
  },
  {
   "cell_type": "code",
   "execution_count": 23,
   "metadata": {},
   "outputs": [
    {
     "name": "stdout",
     "output_type": "stream",
     "text": [
      "+-----+----------+--------------------+\n",
      "|label|labelIndex|            features|\n",
      "+-----+----------+--------------------+\n",
      "|   No|       0.0|(27,[1,3,8,9,12,1...|\n",
      "|   No|       0.0|(27,[0,1,2,3,4,5,...|\n",
      "|  Yes|       1.0|(27,[0,1,2,3,4,5,...|\n",
      "|   No|       0.0|(27,[0,1,2,3,8,10...|\n",
      "|  Yes|       1.0|(27,[1,2,3,4,5,7,...|\n",
      "|  Yes|       1.0|(27,[1,2,3,4,6,7,...|\n",
      "|   No|       0.0|(27,[0,1,2,4,6,7,...|\n",
      "|   No|       0.0|(27,[1,2,3,8,10,1...|\n",
      "|  Yes|       1.0|(27,[1,3,4,6,7,9,...|\n",
      "|   No|       0.0|(27,[0,1,2,4,5,8,...|\n",
      "|   No|       0.0|(27,[0,1,4,5,8,10...|\n",
      "|   No|       0.0|(27,[0,1,2,3,4,5,...|\n",
      "|   No|       0.0|(27,[0,1,3,4,6,7,...|\n",
      "|  Yes|       1.0|(27,[0,1,2,3,4,6,...|\n",
      "|   No|       0.0|(27,[0,1,2,3,4,5,...|\n",
      "|   No|       0.0|(27,[1,4,6,7,10,1...|\n",
      "|   No|       0.0|(27,[1,2,3,4,5,25...|\n",
      "|   No|       0.0|(27,[0,1,2,4,6,7,...|\n",
      "|  Yes|       1.0|(27,[1,4,5,8,9,11...|\n",
      "|   No|       0.0|(27,[1,2,3,4,5,7,...|\n",
      "+-----+----------+--------------------+\n",
      "only showing top 20 rows\n",
      "\n"
     ]
    }
   ],
   "source": [
    "df.show()"
   ]
  },
  {
   "cell_type": "markdown",
   "metadata": {},
   "source": [
    "### Splitting data to train/test splits"
   ]
  },
  {
   "cell_type": "code",
   "execution_count": 24,
   "metadata": {},
   "outputs": [],
   "source": [
    "(train_data, test_data) = df.randomSplit(weights=[0.7, 0.3], seed=420)"
   ]
  },
  {
   "cell_type": "code",
   "execution_count": 25,
   "metadata": {},
   "outputs": [
    {
     "name": "stdout",
     "output_type": "stream",
     "text": [
      "+-------+-----+-------------------+\n",
      "|summary|label|         labelIndex|\n",
      "+-------+-----+-------------------+\n",
      "|  count| 4840|               4840|\n",
      "|   mean| null|0.26776859504132233|\n",
      "| stddev| null| 0.4428420632218157|\n",
      "|    min|   No|                0.0|\n",
      "|    max|  Yes|                1.0|\n",
      "+-------+-----+-------------------+\n",
      "\n"
     ]
    }
   ],
   "source": [
    "train_data.describe().show()"
   ]
  },
  {
   "cell_type": "code",
   "execution_count": 26,
   "metadata": {},
   "outputs": [
    {
     "name": "stdout",
     "output_type": "stream",
     "text": [
      "+-------+-----+-------------------+\n",
      "|summary|label|         labelIndex|\n",
      "+-------+-----+-------------------+\n",
      "|  count| 2203|               2203|\n",
      "|   mean| null|0.26009986382206085|\n",
      "| stddev| null|0.43878847015331973|\n",
      "|    min|   No|                0.0|\n",
      "|    max|  Yes|                1.0|\n",
      "+-------+-----+-------------------+\n",
      "\n"
     ]
    }
   ],
   "source": [
    "test_data.describe().show()"
   ]
  },
  {
   "cell_type": "markdown",
   "metadata": {},
   "source": [
    "### Classifier model training"
   ]
  },
  {
   "cell_type": "code",
   "execution_count": 27,
   "metadata": {},
   "outputs": [],
   "source": [
    "from pyspark.ml.classification import DecisionTreeClassifier\n",
    "\n",
    "model = DecisionTreeClassifier(\n",
    "    labelCol=\"labelIndex\",\n",
    "    featuresCol=\"features\",\n",
    "    maxDepth=5,\n",
    "    maxBins=32\n",
    ")"
   ]
  },
  {
   "cell_type": "code",
   "execution_count": 28,
   "metadata": {},
   "outputs": [],
   "source": [
    "model = model.fit(train_data)"
   ]
  },
  {
   "cell_type": "code",
   "execution_count": 29,
   "metadata": {},
   "outputs": [
    {
     "name": "stdout",
     "output_type": "stream",
     "text": [
      "+-----+----------+--------------------+--------------+--------------------+----------+\n",
      "|label|labelIndex|            features| rawPrediction|         probability|prediction|\n",
      "+-----+----------+--------------------+--------------+--------------------+----------+\n",
      "|   No|       0.0|(27,[0,1,2,3,4,5]...|[2031.0,146.0]|[0.93293523197060...|       0.0|\n",
      "|   No|       0.0|(27,[0,1,2,3,4,5]...|[2031.0,146.0]|[0.93293523197060...|       0.0|\n",
      "|   No|       0.0|(27,[0,1,2,3,4,5]...|[2031.0,146.0]|[0.93293523197060...|       0.0|\n",
      "|   No|       0.0|(27,[0,1,2,3,4,5,...| [149.0,166.0]|[0.47301587301587...|       1.0|\n",
      "|   No|       0.0|(27,[0,1,2,3,4,5,...| [263.0,491.0]|[0.34880636604774...|       1.0|\n",
      "|   No|       0.0|(27,[0,1,2,3,4,5,...| [263.0,491.0]|[0.34880636604774...|       1.0|\n",
      "|   No|       0.0|(27,[0,1,2,3,4,5,...| [149.0,166.0]|[0.47301587301587...|       1.0|\n",
      "|   No|       0.0|(27,[0,1,2,3,4,5,...| [149.0,166.0]|[0.47301587301587...|       1.0|\n",
      "|   No|       0.0|(27,[0,1,2,3,4,5,...| [149.0,166.0]|[0.47301587301587...|       1.0|\n",
      "|   No|       0.0|(27,[0,1,2,3,4,5,...| [149.0,166.0]|[0.47301587301587...|       1.0|\n",
      "|   No|       0.0|(27,[0,1,2,3,4,5,...| [263.0,491.0]|[0.34880636604774...|       1.0|\n",
      "|   No|       0.0|(27,[0,1,2,3,4,5,...| [149.0,166.0]|[0.47301587301587...|       1.0|\n",
      "|   No|       0.0|(27,[0,1,2,3,4,5,...| [149.0,166.0]|[0.47301587301587...|       1.0|\n",
      "|   No|       0.0|(27,[0,1,2,3,4,5,...| [263.0,491.0]|[0.34880636604774...|       1.0|\n",
      "|   No|       0.0|(27,[0,1,2,3,4,5,...| [263.0,491.0]|[0.34880636604774...|       1.0|\n",
      "|   No|       0.0|(27,[0,1,2,3,4,5,...| [149.0,166.0]|[0.47301587301587...|       1.0|\n",
      "|   No|       0.0|(27,[0,1,2,3,4,5,...| [263.0,491.0]|[0.34880636604774...|       1.0|\n",
      "|   No|       0.0|(27,[0,1,2,3,4,5,...| [263.0,491.0]|[0.34880636604774...|       1.0|\n",
      "|   No|       0.0|(27,[0,1,2,3,4,5,...| [263.0,491.0]|[0.34880636604774...|       1.0|\n",
      "|   No|       0.0|(27,[0,1,2,3,4,5,...| [263.0,491.0]|[0.34880636604774...|       1.0|\n",
      "+-----+----------+--------------------+--------------+--------------------+----------+\n",
      "only showing top 20 rows\n",
      "\n"
     ]
    }
   ],
   "source": [
    "predictions = model.transform(test_data)\n",
    "predictions.show()"
   ]
  },
  {
   "cell_type": "markdown",
   "metadata": {},
   "source": [
    "### Link to MulticlassClassificationEvaluator list of metric names:\n",
    "[link](https://spark.apache.org/docs/latest/api/python/pyspark.ml.html#pyspark.ml.evaluation.MulticlassClassificationEvaluator.metricName)"
   ]
  },
  {
   "cell_type": "code",
   "execution_count": 30,
   "metadata": {},
   "outputs": [
    {
     "name": "stdout",
     "output_type": "stream",
     "text": [
      "[[1412.  218.]\n",
      " [ 277.  296.]]\n"
     ]
    }
   ],
   "source": [
    "# Confusion Matrix calculation\n",
    "#  taken from this stackoverflow post: https://stackoverflow.com/a/58405759/10086080\n",
    "from pyspark.mllib.evaluation import MulticlassMetrics\n",
    "\n",
    "#select only prediction and label columns\n",
    "preds_and_labels = predictions.select(['prediction','labelIndex'])\n",
    "\n",
    "metrics = MulticlassMetrics(preds_and_labels.rdd.map(tuple))\n",
    "\n",
    "print(metrics.confusionMatrix().toArray())"
   ]
  },
  {
   "cell_type": "code",
   "execution_count": 31,
   "metadata": {},
   "outputs": [
    {
     "name": "stdout",
     "output_type": "stream",
     "text": [
      "Test Error = 0.224694 \n",
      "Accuracy = 0.775306 \n"
     ]
    }
   ],
   "source": [
    "# Accuracy metric calculation\n",
    "from pyspark.ml.evaluation import MulticlassClassificationEvaluator\n",
    "\n",
    "evaluator = MulticlassClassificationEvaluator(labelCol=\"labelIndex\", predictionCol=\"prediction\", metricName=\"accuracy\")\n",
    "accuracy = evaluator.evaluate(predictions)\n",
    "\n",
    "print(\"Test Error = %g \" % (1.0 - accuracy))\n",
    "print(\"Accuracy = %g \" % accuracy)"
   ]
  },
  {
   "cell_type": "code",
   "execution_count": 32,
   "metadata": {},
   "outputs": [
    {
     "name": "stdout",
     "output_type": "stream",
     "text": [
      "Weighted Precision = 0.76834 \n"
     ]
    }
   ],
   "source": [
    "# Weighted Precision metric calculation\n",
    "from pyspark.ml.evaluation import MulticlassClassificationEvaluator\n",
    "\n",
    "evaluator = MulticlassClassificationEvaluator(labelCol=\"labelIndex\", predictionCol=\"prediction\", metricName=\"weightedPrecision\")\n",
    "precision = evaluator.evaluate(predictions)\n",
    "\n",
    "print(\"Weighted Precision = %g \" % precision)"
   ]
  },
  {
   "cell_type": "code",
   "execution_count": 33,
   "metadata": {},
   "outputs": [
    {
     "name": "stdout",
     "output_type": "stream",
     "text": [
      "Weighted Recall = 0.775306 \n"
     ]
    }
   ],
   "source": [
    "# Weighted Recall metric calculation\n",
    "from pyspark.ml.evaluation import MulticlassClassificationEvaluator\n",
    "\n",
    "evaluator = MulticlassClassificationEvaluator(labelCol=\"labelIndex\", predictionCol=\"prediction\", metricName=\"weightedRecall\")\n",
    "recall = evaluator.evaluate(predictions)\n",
    "\n",
    "print(\"Weighted Recall = %g \" % recall)"
   ]
  },
  {
   "cell_type": "code",
   "execution_count": 34,
   "metadata": {},
   "outputs": [
    {
     "name": "stdout",
     "output_type": "stream",
     "text": [
      "F1-score = 0.771206 \n"
     ]
    }
   ],
   "source": [
    "# F1-score metric calculation\n",
    "from pyspark.ml.evaluation import MulticlassClassificationEvaluator\n",
    "\n",
    "evaluator = MulticlassClassificationEvaluator(labelCol=\"labelIndex\", predictionCol=\"prediction\", metricName=\"f1\")\n",
    "f1 = evaluator.evaluate(predictions)\n",
    "\n",
    "print(\"F1-score = %g \" % f1)"
   ]
  },
  {
   "cell_type": "code",
   "execution_count": 35,
   "metadata": {},
   "outputs": [
    {
     "name": "stdout",
     "output_type": "stream",
     "text": [
      "0.6914185376717095\n"
     ]
    }
   ],
   "source": [
    "# Receiver Operating Characteristic Area Under Curve metric calculation\n",
    "from pyspark.ml.evaluation import BinaryClassificationEvaluator\n",
    "\n",
    "evaluator = BinaryClassificationEvaluator(labelCol=\"labelIndex\", rawPredictionCol=\"prediction\", metricName=\"areaUnderROC\")\n",
    "roc_auc = evaluator.evaluate(predictions)\n",
    "\n",
    "print(roc_auc)"
   ]
  },
  {
   "cell_type": "code",
   "execution_count": 36,
   "metadata": {},
   "outputs": [],
   "source": [
    "model_parameter_string = model.toDebugString"
   ]
  },
  {
   "cell_type": "code",
   "execution_count": 37,
   "metadata": {},
   "outputs": [
    {
     "name": "stdout",
     "output_type": "stream",
     "text": [
      "DecisionTreeClassificationModel: uid=DecisionTreeClassifier_3ef04cb3d4b8, depth=5, numNodes=17, numClasses=2, numFeatures=27\n",
      "  If (feature 21 in {0.0})\n",
      "   Predict: 0.0\n",
      "  Else (feature 21 not in {0.0})\n",
      "   If (feature 7 in {0.0})\n",
      "    If (feature 11 in {0.0})\n",
      "     Predict: 0.0\n",
      "    Else (feature 11 not in {0.0})\n",
      "     If (feature 24 in {0.0})\n",
      "      Predict: 0.0\n",
      "     Else (feature 24 not in {0.0})\n",
      "      If (feature 1 in {0.0})\n",
      "       Predict: 1.0\n",
      "      Else (feature 1 not in {0.0})\n",
      "       Predict: 0.0\n",
      "   Else (feature 7 not in {0.0})\n",
      "    If (feature 9 in {0.0})\n",
      "     Predict: 0.0\n",
      "    Else (feature 9 not in {0.0})\n",
      "     If (feature 24 in {0.0})\n",
      "      If (feature 11 in {0.0})\n",
      "       Predict: 0.0\n",
      "      Else (feature 11 not in {0.0})\n",
      "       Predict: 1.0\n",
      "     Else (feature 24 not in {0.0})\n",
      "      Predict: 1.0\n",
      "\n"
     ]
    }
   ],
   "source": [
    "print(model_parameter_string)"
   ]
  },
  {
   "cell_type": "code",
   "execution_count": 53,
   "metadata": {},
   "outputs": [
    {
     "data": {
      "text/plain": [
       "{Param(parent='DecisionTreeClassifier_3ef04cb3d4b8', name='featuresCol', doc='features column name.'): 'features',\n",
       " Param(parent='DecisionTreeClassifier_3ef04cb3d4b8', name='labelCol', doc='label column name.'): 'labelIndex',\n",
       " Param(parent='DecisionTreeClassifier_3ef04cb3d4b8', name='predictionCol', doc='prediction column name.'): 'prediction',\n",
       " Param(parent='DecisionTreeClassifier_3ef04cb3d4b8', name='probabilityCol', doc='Column name for predicted class conditional probabilities. Note: Not all models output well-calibrated probability estimates! These probabilities should be treated as confidences, not precise probabilities.'): 'probability',\n",
       " Param(parent='DecisionTreeClassifier_3ef04cb3d4b8', name='rawPredictionCol', doc='raw prediction (a.k.a. confidence) column name.'): 'rawPrediction',\n",
       " Param(parent='DecisionTreeClassifier_3ef04cb3d4b8', name='seed', doc='random seed.'): 1898502691226342252,\n",
       " Param(parent='DecisionTreeClassifier_3ef04cb3d4b8', name='cacheNodeIds', doc='If false, the algorithm will pass trees to executors to match instances with nodes. If true, the algorithm will cache node IDs for each instance. Caching can speed up training of deeper trees. Users can set how often should the cache be checkpointed or disable it by setting checkpointInterval.'): False,\n",
       " Param(parent='DecisionTreeClassifier_3ef04cb3d4b8', name='checkpointInterval', doc='set checkpoint interval (>= 1) or disable checkpoint (-1). E.g. 10 means that the cache will get checkpointed every 10 iterations. Note: this setting will be ignored if the checkpoint directory is not set in the SparkContext.'): 10,\n",
       " Param(parent='DecisionTreeClassifier_3ef04cb3d4b8', name='impurity', doc='Criterion used for information gain calculation (case-insensitive). Supported options: entropy, gini'): 'gini',\n",
       " Param(parent='DecisionTreeClassifier_3ef04cb3d4b8', name='leafCol', doc='Leaf indices column name. Predicted leaf index of each instance in each tree by preorder.'): '',\n",
       " Param(parent='DecisionTreeClassifier_3ef04cb3d4b8', name='maxBins', doc='Max number of bins for discretizing continuous features.  Must be >=2 and >= number of categories for any categorical feature.'): 32,\n",
       " Param(parent='DecisionTreeClassifier_3ef04cb3d4b8', name='maxDepth', doc='Maximum depth of the tree. (>= 0) E.g., depth 0 means 1 leaf node; depth 1 means 1 internal node + 2 leaf nodes.'): 5,\n",
       " Param(parent='DecisionTreeClassifier_3ef04cb3d4b8', name='maxMemoryInMB', doc='Maximum memory in MB allocated to histogram aggregation. If too small, then 1 node will be split per iteration, and its aggregates may exceed this size.'): 256,\n",
       " Param(parent='DecisionTreeClassifier_3ef04cb3d4b8', name='minInfoGain', doc='Minimum information gain for a split to be considered at a tree node.'): 0.0,\n",
       " Param(parent='DecisionTreeClassifier_3ef04cb3d4b8', name='minInstancesPerNode', doc='Minimum number of instances each child must have after split. If a split causes the left or right child to have fewer than minInstancesPerNode, the split will be discarded as invalid. Should be >= 1.'): 1,\n",
       " Param(parent='DecisionTreeClassifier_3ef04cb3d4b8', name='minWeightFractionPerNode', doc='Minimum fraction of the weighted sample count that each child must have after split. If a split causes the fraction of the total weight in the left or right child to be less than minWeightFractionPerNode, the split will be discarded as invalid. Should be in interval [0.0, 0.5).'): 0.0}"
      ]
     },
     "execution_count": 53,
     "metadata": {},
     "output_type": "execute_result"
    }
   ],
   "source": [
    "model.extractParamMap()"
   ]
  },
  {
   "cell_type": "markdown",
   "metadata": {},
   "source": [
    "### Testing grid search training with Cross Validation"
   ]
  },
  {
   "cell_type": "code",
   "execution_count": 57,
   "metadata": {},
   "outputs": [],
   "source": [
    "model = DecisionTreeClassifier(\n",
    "    labelCol=\"labelIndex\",\n",
    "    featuresCol=\"features\",\n",
    "    maxDepth=5,\n",
    "    maxBins=32\n",
    ")"
   ]
  },
  {
   "cell_type": "code",
   "execution_count": 58,
   "metadata": {},
   "outputs": [],
   "source": [
    "# Cross Validator takes a pipeline object containing the model not the model object itself\n",
    "pipeline = Pipeline(stages=[model])"
   ]
  },
  {
   "cell_type": "code",
   "execution_count": 59,
   "metadata": {},
   "outputs": [],
   "source": [
    "from pyspark.ml.tuning import ParamGridBuilder, CrossValidator\n",
    "\n",
    "param_grid = ParamGridBuilder() \\\n",
    "    .baseOn({model.labelCol: 'labelIndex'}) \\\n",
    "    .baseOn([model.predictionCol, 'prediction']) \\\n",
    "    .addGrid(model.maxDepth, [i for i in range(2, 10)]) \\\n",
    "    .addGrid(model.maxBins, [i for i in range(2, 60)]) \\\n",
    "    .build()"
   ]
  },
  {
   "cell_type": "code",
   "execution_count": 60,
   "metadata": {},
   "outputs": [
    {
     "data": {
      "text/plain": [
       "464"
      ]
     },
     "execution_count": 60,
     "metadata": {},
     "output_type": "execute_result"
    }
   ],
   "source": [
    "len(param_grid)"
   ]
  },
  {
   "cell_type": "code",
   "execution_count": 61,
   "metadata": {},
   "outputs": [],
   "source": [
    "evaluator = MulticlassClassificationEvaluator(labelCol=\"labelIndex\", predictionCol=\"prediction\", metricName=\"accuracy\")"
   ]
  },
  {
   "cell_type": "code",
   "execution_count": 62,
   "metadata": {},
   "outputs": [],
   "source": [
    "cross_validator = CrossValidator(\n",
    "    estimator=pipeline,\n",
    "    estimatorParamMaps=param_grid,\n",
    "    evaluator=evaluator,\n",
    "    numFolds=10\n",
    ")"
   ]
  },
  {
   "cell_type": "code",
   "execution_count": 63,
   "metadata": {},
   "outputs": [
    {
     "name": "stdout",
     "output_type": "stream",
     "text": [
      "CrossValidatorModel_cebded9f894c\n"
     ]
    }
   ],
   "source": [
    "# Run cross validations\n",
    "dtcv_model = cross_validator.fit(train_data)\n",
    "print(dtcv_model)"
   ]
  },
  {
   "cell_type": "code",
   "execution_count": 64,
   "metadata": {},
   "outputs": [
    {
     "data": {
      "text/plain": [
       "464"
      ]
     },
     "execution_count": 64,
     "metadata": {},
     "output_type": "execute_result"
    }
   ],
   "source": [
    "len(dtcv_model.avgMetrics)"
   ]
  },
  {
   "cell_type": "code",
   "execution_count": 65,
   "metadata": {},
   "outputs": [
    {
     "data": {
      "text/plain": [
       "[0.7663922180010716,\n",
       " 0.7663922180010716,\n",
       " 0.7663922180010716,\n",
       " 0.7663922180010716,\n",
       " 0.7663922180010716,\n",
       " 0.7663922180010716,\n",
       " 0.7663922180010716,\n",
       " 0.7663922180010716,\n",
       " 0.7663922180010716,\n",
       " 0.7663922180010716,\n",
       " 0.7663922180010716,\n",
       " 0.7663922180010716,\n",
       " 0.7663922180010716,\n",
       " 0.7663922180010716,\n",
       " 0.7663922180010716,\n",
       " 0.7663922180010716,\n",
       " 0.7663922180010716,\n",
       " 0.7663922180010716,\n",
       " 0.7663922180010716,\n",
       " 0.7663922180010716,\n",
       " 0.7663922180010716,\n",
       " 0.7663922180010716,\n",
       " 0.7663922180010716,\n",
       " 0.7663922180010716,\n",
       " 0.7663922180010716,\n",
       " 0.7663922180010716,\n",
       " 0.7663922180010716,\n",
       " 0.7663922180010716,\n",
       " 0.7663922180010716,\n",
       " 0.7663922180010716,\n",
       " 0.7663922180010716,\n",
       " 0.7663922180010716,\n",
       " 0.7663922180010716,\n",
       " 0.7663922180010716,\n",
       " 0.7663922180010716,\n",
       " 0.7663922180010716,\n",
       " 0.7663922180010716,\n",
       " 0.7663922180010716,\n",
       " 0.7663922180010716,\n",
       " 0.7663922180010716,\n",
       " 0.7663922180010716,\n",
       " 0.7663922180010716,\n",
       " 0.7663922180010716,\n",
       " 0.7663922180010716,\n",
       " 0.7663922180010716,\n",
       " 0.7663922180010716,\n",
       " 0.7663922180010716,\n",
       " 0.7663922180010716,\n",
       " 0.7663922180010716,\n",
       " 0.7663922180010716,\n",
       " 0.7663922180010716,\n",
       " 0.7663922180010716,\n",
       " 0.7663922180010716,\n",
       " 0.7663922180010716,\n",
       " 0.7663922180010716,\n",
       " 0.7663922180010716,\n",
       " 0.7663922180010716,\n",
       " 0.7663922180010716,\n",
       " 0.7694867345055107,\n",
       " 0.7694867345055107,\n",
       " 0.7694867345055107,\n",
       " 0.7694867345055107,\n",
       " 0.7694867345055107,\n",
       " 0.7694867345055107,\n",
       " 0.7694867345055107,\n",
       " 0.7694867345055107,\n",
       " 0.7694867345055107,\n",
       " 0.7694867345055107,\n",
       " 0.7694867345055107,\n",
       " 0.7694867345055107,\n",
       " 0.7694867345055107,\n",
       " 0.7694867345055107,\n",
       " 0.7694867345055107,\n",
       " 0.7694867345055107,\n",
       " 0.7694867345055107,\n",
       " 0.7694867345055107,\n",
       " 0.7694867345055107,\n",
       " 0.7694867345055107,\n",
       " 0.7694867345055107,\n",
       " 0.7694867345055107,\n",
       " 0.7694867345055107,\n",
       " 0.7694867345055107,\n",
       " 0.7694867345055107,\n",
       " 0.7694867345055107,\n",
       " 0.7694867345055107,\n",
       " 0.7694867345055107,\n",
       " 0.7694867345055107,\n",
       " 0.7694867345055107,\n",
       " 0.7694867345055107,\n",
       " 0.7694867345055107,\n",
       " 0.7694867345055107,\n",
       " 0.7694867345055107,\n",
       " 0.7694867345055107,\n",
       " 0.7694867345055107,\n",
       " 0.7694867345055107,\n",
       " 0.7694867345055107,\n",
       " 0.7694867345055107,\n",
       " 0.7694867345055107,\n",
       " 0.7694867345055107,\n",
       " 0.7694867345055107,\n",
       " 0.7694867345055107,\n",
       " 0.7694867345055107,\n",
       " 0.7694867345055107,\n",
       " 0.7694867345055107,\n",
       " 0.7694867345055107,\n",
       " 0.7694867345055107,\n",
       " 0.7694867345055107,\n",
       " 0.7694867345055107,\n",
       " 0.7694867345055107,\n",
       " 0.7694867345055107,\n",
       " 0.7694867345055107,\n",
       " 0.7694867345055107,\n",
       " 0.7694867345055107,\n",
       " 0.7694867345055107,\n",
       " 0.7694867345055107,\n",
       " 0.7694867345055107,\n",
       " 0.773263401496769,\n",
       " 0.773263401496769,\n",
       " 0.773263401496769,\n",
       " 0.773263401496769,\n",
       " 0.773263401496769,\n",
       " 0.773263401496769,\n",
       " 0.773263401496769,\n",
       " 0.773263401496769,\n",
       " 0.773263401496769,\n",
       " 0.773263401496769,\n",
       " 0.773263401496769,\n",
       " 0.773263401496769,\n",
       " 0.773263401496769,\n",
       " 0.773263401496769,\n",
       " 0.773263401496769,\n",
       " 0.773263401496769,\n",
       " 0.773263401496769,\n",
       " 0.773263401496769,\n",
       " 0.773263401496769,\n",
       " 0.773263401496769,\n",
       " 0.773263401496769,\n",
       " 0.773263401496769,\n",
       " 0.773263401496769,\n",
       " 0.773263401496769,\n",
       " 0.773263401496769,\n",
       " 0.773263401496769,\n",
       " 0.773263401496769,\n",
       " 0.773263401496769,\n",
       " 0.773263401496769,\n",
       " 0.773263401496769,\n",
       " 0.773263401496769,\n",
       " 0.773263401496769,\n",
       " 0.773263401496769,\n",
       " 0.773263401496769,\n",
       " 0.773263401496769,\n",
       " 0.773263401496769,\n",
       " 0.773263401496769,\n",
       " 0.773263401496769,\n",
       " 0.773263401496769,\n",
       " 0.773263401496769,\n",
       " 0.773263401496769,\n",
       " 0.773263401496769,\n",
       " 0.773263401496769,\n",
       " 0.773263401496769,\n",
       " 0.773263401496769,\n",
       " 0.773263401496769,\n",
       " 0.773263401496769,\n",
       " 0.773263401496769,\n",
       " 0.773263401496769,\n",
       " 0.773263401496769,\n",
       " 0.773263401496769,\n",
       " 0.773263401496769,\n",
       " 0.773263401496769,\n",
       " 0.773263401496769,\n",
       " 0.773263401496769,\n",
       " 0.773263401496769,\n",
       " 0.773263401496769,\n",
       " 0.773263401496769,\n",
       " 0.7726129804874927,\n",
       " 0.7726129804874927,\n",
       " 0.7726129804874927,\n",
       " 0.7726129804874927,\n",
       " 0.7726129804874927,\n",
       " 0.7726129804874927,\n",
       " 0.7726129804874927,\n",
       " 0.7726129804874927,\n",
       " 0.7726129804874927,\n",
       " 0.7726129804874927,\n",
       " 0.7726129804874927,\n",
       " 0.7726129804874927,\n",
       " 0.7726129804874927,\n",
       " 0.7726129804874927,\n",
       " 0.7726129804874927,\n",
       " 0.7726129804874927,\n",
       " 0.7726129804874927,\n",
       " 0.7726129804874927,\n",
       " 0.7726129804874927,\n",
       " 0.7726129804874927,\n",
       " 0.7726129804874927,\n",
       " 0.7726129804874927,\n",
       " 0.7726129804874927,\n",
       " 0.7726129804874927,\n",
       " 0.7726129804874927,\n",
       " 0.7726129804874927,\n",
       " 0.7726129804874927,\n",
       " 0.7726129804874927,\n",
       " 0.7726129804874927,\n",
       " 0.7726129804874927,\n",
       " 0.7726129804874927,\n",
       " 0.7726129804874927,\n",
       " 0.7726129804874927,\n",
       " 0.7726129804874927,\n",
       " 0.7726129804874927,\n",
       " 0.7726129804874927,\n",
       " 0.7726129804874927,\n",
       " 0.7726129804874927,\n",
       " 0.7726129804874927,\n",
       " 0.7726129804874927,\n",
       " 0.7726129804874927,\n",
       " 0.7726129804874927,\n",
       " 0.7726129804874927,\n",
       " 0.7726129804874927,\n",
       " 0.7726129804874927,\n",
       " 0.7726129804874927,\n",
       " 0.7726129804874927,\n",
       " 0.7726129804874927,\n",
       " 0.7726129804874927,\n",
       " 0.7726129804874927,\n",
       " 0.7726129804874927,\n",
       " 0.7726129804874927,\n",
       " 0.7726129804874927,\n",
       " 0.7726129804874927,\n",
       " 0.7726129804874927,\n",
       " 0.7726129804874927,\n",
       " 0.7726129804874927,\n",
       " 0.7726129804874927,\n",
       " 0.7701235850164988,\n",
       " 0.7701235850164988,\n",
       " 0.7701235850164988,\n",
       " 0.7701235850164988,\n",
       " 0.7701235850164988,\n",
       " 0.7701235850164988,\n",
       " 0.7701235850164988,\n",
       " 0.7701235850164988,\n",
       " 0.7701235850164988,\n",
       " 0.7701235850164988,\n",
       " 0.7701235850164988,\n",
       " 0.7701235850164988,\n",
       " 0.7701235850164988,\n",
       " 0.7701235850164988,\n",
       " 0.7701235850164988,\n",
       " 0.7701235850164988,\n",
       " 0.7701235850164988,\n",
       " 0.7701235850164988,\n",
       " 0.7701235850164988,\n",
       " 0.7701235850164988,\n",
       " 0.7701235850164988,\n",
       " 0.7701235850164988,\n",
       " 0.7701235850164988,\n",
       " 0.7701235850164988,\n",
       " 0.7701235850164988,\n",
       " 0.7701235850164988,\n",
       " 0.7701235850164988,\n",
       " 0.7701235850164988,\n",
       " 0.7701235850164988,\n",
       " 0.7701235850164988,\n",
       " 0.7701235850164988,\n",
       " 0.7701235850164988,\n",
       " 0.7701235850164988,\n",
       " 0.7701235850164988,\n",
       " 0.7701235850164988,\n",
       " 0.7701235850164988,\n",
       " 0.7701235850164988,\n",
       " 0.7701235850164988,\n",
       " 0.7701235850164988,\n",
       " 0.7701235850164988,\n",
       " 0.7701235850164988,\n",
       " 0.7701235850164988,\n",
       " 0.7701235850164988,\n",
       " 0.7701235850164988,\n",
       " 0.7701235850164988,\n",
       " 0.7701235850164988,\n",
       " 0.7701235850164988,\n",
       " 0.7701235850164988,\n",
       " 0.7701235850164988,\n",
       " 0.7701235850164988,\n",
       " 0.7701235850164988,\n",
       " 0.7701235850164988,\n",
       " 0.7701235850164988,\n",
       " 0.7701235850164988,\n",
       " 0.7701235850164988,\n",
       " 0.7701235850164988,\n",
       " 0.7701235850164988,\n",
       " 0.7701235850164988,\n",
       " 0.7752227712434372,\n",
       " 0.7752227712434372,\n",
       " 0.7752227712434372,\n",
       " 0.7752227712434372,\n",
       " 0.7752227712434372,\n",
       " 0.7752227712434372,\n",
       " 0.7752227712434372,\n",
       " 0.7752227712434372,\n",
       " 0.7752227712434372,\n",
       " 0.7752227712434372,\n",
       " 0.7752227712434372,\n",
       " 0.7752227712434372,\n",
       " 0.7752227712434372,\n",
       " 0.7752227712434372,\n",
       " 0.7752227712434372,\n",
       " 0.7752227712434372,\n",
       " 0.7752227712434372,\n",
       " 0.7752227712434372,\n",
       " 0.7752227712434372,\n",
       " 0.7752227712434372,\n",
       " 0.7752227712434372,\n",
       " 0.7752227712434372,\n",
       " 0.7752227712434372,\n",
       " 0.7752227712434372,\n",
       " 0.7752227712434372,\n",
       " 0.7752227712434372,\n",
       " 0.7752227712434372,\n",
       " 0.7752227712434372,\n",
       " 0.7752227712434372,\n",
       " 0.7752227712434372,\n",
       " 0.7752227712434372,\n",
       " 0.7752227712434372,\n",
       " 0.7752227712434372,\n",
       " 0.7752227712434372,\n",
       " 0.7752227712434372,\n",
       " 0.7752227712434372,\n",
       " 0.7752227712434372,\n",
       " 0.7752227712434372,\n",
       " 0.7752227712434372,\n",
       " 0.7752227712434372,\n",
       " 0.7752227712434372,\n",
       " 0.7752227712434372,\n",
       " 0.7752227712434372,\n",
       " 0.7752227712434372,\n",
       " 0.7752227712434372,\n",
       " 0.7752227712434372,\n",
       " 0.7752227712434372,\n",
       " 0.7752227712434372,\n",
       " 0.7752227712434372,\n",
       " 0.7752227712434372,\n",
       " 0.7752227712434372,\n",
       " 0.7752227712434372,\n",
       " 0.7752227712434372,\n",
       " 0.7752227712434372,\n",
       " 0.7752227712434372,\n",
       " 0.7752227712434372,\n",
       " 0.7752227712434372,\n",
       " 0.7752227712434372,\n",
       " 0.7661681264637379,\n",
       " 0.7661681264637379,\n",
       " 0.7661681264637379,\n",
       " 0.7661681264637379,\n",
       " 0.7661681264637379,\n",
       " 0.7661681264637379,\n",
       " 0.7661681264637379,\n",
       " 0.7661681264637379,\n",
       " 0.7661681264637379,\n",
       " 0.7661681264637379,\n",
       " 0.7661681264637379,\n",
       " 0.7661681264637379,\n",
       " 0.7661681264637379,\n",
       " 0.7661681264637379,\n",
       " 0.7661681264637379,\n",
       " 0.7661681264637379,\n",
       " 0.7661681264637379,\n",
       " 0.7661681264637379,\n",
       " 0.7661681264637379,\n",
       " 0.7661681264637379,\n",
       " 0.7661681264637379,\n",
       " 0.7661681264637379,\n",
       " 0.7661681264637379,\n",
       " 0.7661681264637379,\n",
       " 0.7661681264637379,\n",
       " 0.7661681264637379,\n",
       " 0.7661681264637379,\n",
       " 0.7661681264637379,\n",
       " 0.7661681264637379,\n",
       " 0.7661681264637379,\n",
       " 0.7661681264637379,\n",
       " 0.7661681264637379,\n",
       " 0.7661681264637379,\n",
       " 0.7661681264637379,\n",
       " 0.7661681264637379,\n",
       " 0.7661681264637379,\n",
       " 0.7661681264637379,\n",
       " 0.7661681264637379,\n",
       " 0.7661681264637379,\n",
       " 0.7661681264637379,\n",
       " 0.7661681264637379,\n",
       " 0.7661681264637379,\n",
       " 0.7661681264637379,\n",
       " 0.7661681264637379,\n",
       " 0.7661681264637379,\n",
       " 0.7661681264637379,\n",
       " 0.7661681264637379,\n",
       " 0.7661681264637379,\n",
       " 0.7661681264637379,\n",
       " 0.7661681264637379,\n",
       " 0.7661681264637379,\n",
       " 0.7661681264637379,\n",
       " 0.7661681264637379,\n",
       " 0.7661681264637379,\n",
       " 0.7661681264637379,\n",
       " 0.7661681264637379,\n",
       " 0.7661681264637379,\n",
       " 0.7661681264637379,\n",
       " 0.7595425514263359,\n",
       " 0.7595425514263359,\n",
       " 0.7595425514263359,\n",
       " 0.7595425514263359,\n",
       " 0.7595425514263359,\n",
       " 0.7595425514263359,\n",
       " 0.7595425514263359,\n",
       " 0.7595425514263359,\n",
       " 0.7595425514263359,\n",
       " 0.7595425514263359,\n",
       " 0.7595425514263359,\n",
       " 0.7595425514263359,\n",
       " 0.7595425514263359,\n",
       " 0.7595425514263359,\n",
       " 0.7595425514263359,\n",
       " 0.7595425514263359,\n",
       " 0.7595425514263359,\n",
       " 0.7595425514263359,\n",
       " 0.7595425514263359,\n",
       " 0.7595425514263359,\n",
       " 0.7595425514263359,\n",
       " 0.7595425514263359,\n",
       " 0.7595425514263359,\n",
       " 0.7595425514263359,\n",
       " 0.7595425514263359,\n",
       " 0.7595425514263359,\n",
       " 0.7595425514263359,\n",
       " 0.7595425514263359,\n",
       " 0.7595425514263359,\n",
       " 0.7595425514263359,\n",
       " 0.7595425514263359,\n",
       " 0.7595425514263359,\n",
       " 0.7595425514263359,\n",
       " 0.7595425514263359,\n",
       " 0.7595425514263359,\n",
       " 0.7595425514263359,\n",
       " 0.7595425514263359,\n",
       " 0.7595425514263359,\n",
       " 0.7595425514263359,\n",
       " 0.7595425514263359,\n",
       " 0.7595425514263359,\n",
       " 0.7595425514263359,\n",
       " 0.7595425514263359,\n",
       " 0.7595425514263359,\n",
       " 0.7595425514263359,\n",
       " 0.7595425514263359,\n",
       " 0.7595425514263359,\n",
       " 0.7595425514263359,\n",
       " 0.7595425514263359,\n",
       " 0.7595425514263359,\n",
       " 0.7595425514263359,\n",
       " 0.7595425514263359,\n",
       " 0.7595425514263359,\n",
       " 0.7595425514263359,\n",
       " 0.7595425514263359,\n",
       " 0.7595425514263359,\n",
       " 0.7595425514263359,\n",
       " 0.7595425514263359]"
      ]
     },
     "execution_count": 65,
     "metadata": {},
     "output_type": "execute_result"
    }
   ],
   "source": [
    "dtcv_model.avgMetrics"
   ]
  },
  {
   "cell_type": "code",
   "execution_count": 66,
   "metadata": {},
   "outputs": [],
   "source": [
    "# Use test set here so we can measure the accuracy of our model on new data\n",
    "dtpredictions = dtcv_model.transform(test_data)"
   ]
  },
  {
   "cell_type": "code",
   "execution_count": 67,
   "metadata": {},
   "outputs": [
    {
     "name": "stdout",
     "output_type": "stream",
     "text": [
      "Accuracy: 0.7653200181570585\n"
     ]
    }
   ],
   "source": [
    "# cvModel uses the best model found from the Cross Validation\n",
    "# Evaluate best model\n",
    "from pyspark.mllib.evaluation import BinaryClassificationMetrics\n",
    "\n",
    "print('Accuracy:', evaluator.evaluate(dtpredictions))"
   ]
  },
  {
   "cell_type": "markdown",
   "metadata": {},
   "source": [
    "### Extacting best model from cross validator object"
   ]
  },
  {
   "cell_type": "code",
   "execution_count": 68,
   "metadata": {},
   "outputs": [],
   "source": [
    "best_model = dtcv_model.bestModel"
   ]
  },
  {
   "cell_type": "code",
   "execution_count": 69,
   "metadata": {},
   "outputs": [
    {
     "data": {
      "text/plain": [
       "['__class__',\n",
       " '__delattr__',\n",
       " '__dict__',\n",
       " '__dir__',\n",
       " '__doc__',\n",
       " '__eq__',\n",
       " '__format__',\n",
       " '__ge__',\n",
       " '__getattribute__',\n",
       " '__gt__',\n",
       " '__hash__',\n",
       " '__init__',\n",
       " '__init_subclass__',\n",
       " '__le__',\n",
       " '__lt__',\n",
       " '__metaclass__',\n",
       " '__module__',\n",
       " '__ne__',\n",
       " '__new__',\n",
       " '__reduce__',\n",
       " '__reduce_ex__',\n",
       " '__repr__',\n",
       " '__setattr__',\n",
       " '__sizeof__',\n",
       " '__str__',\n",
       " '__subclasshook__',\n",
       " '__weakref__',\n",
       " '_copyValues',\n",
       " '_copy_params',\n",
       " '_defaultParamMap',\n",
       " '_dummy',\n",
       " '_from_java',\n",
       " '_paramMap',\n",
       " '_params',\n",
       " '_randomUID',\n",
       " '_resetUid',\n",
       " '_resolveParam',\n",
       " '_set',\n",
       " '_setDefault',\n",
       " '_shouldOwn',\n",
       " '_to_java',\n",
       " '_transform',\n",
       " 'clear',\n",
       " 'copy',\n",
       " 'explainParam',\n",
       " 'explainParams',\n",
       " 'extractParamMap',\n",
       " 'getOrDefault',\n",
       " 'getParam',\n",
       " 'hasDefault',\n",
       " 'hasParam',\n",
       " 'isDefined',\n",
       " 'isSet',\n",
       " 'load',\n",
       " 'params',\n",
       " 'read',\n",
       " 'save',\n",
       " 'set',\n",
       " 'stages',\n",
       " 'transform',\n",
       " 'uid',\n",
       " 'write']"
      ]
     },
     "execution_count": 69,
     "metadata": {},
     "output_type": "execute_result"
    }
   ],
   "source": [
    "dir(best_model)"
   ]
  },
  {
   "cell_type": "code",
   "execution_count": 70,
   "metadata": {},
   "outputs": [
    {
     "data": {
      "text/plain": [
       "[DecisionTreeClassificationModel: uid=DecisionTreeClassifier_09e51251a702, depth=7, numNodes=105, numClasses=2, numFeatures=27]"
      ]
     },
     "execution_count": 70,
     "metadata": {},
     "output_type": "execute_result"
    }
   ],
   "source": [
    "best_model.stages"
   ]
  },
  {
   "cell_type": "code",
   "execution_count": 71,
   "metadata": {},
   "outputs": [],
   "source": [
    "best_model = best_model.stages[0]"
   ]
  },
  {
   "cell_type": "code",
   "execution_count": 72,
   "metadata": {},
   "outputs": [
    {
     "name": "stdout",
     "output_type": "stream",
     "text": [
      "DecisionTreeClassificationModel: uid=DecisionTreeClassifier_09e51251a702, depth=7, numNodes=105, numClasses=2, numFeatures=27\n",
      "  If (feature 21 in {0.0})\n",
      "   If (feature 7 in {0.0})\n",
      "    If (feature 9 in {0.0})\n",
      "     Predict: 0.0\n",
      "    Else (feature 9 not in {0.0})\n",
      "     If (feature 22 in {1.0})\n",
      "      If (feature 15 in {0.0})\n",
      "       Predict: 0.0\n",
      "      Else (feature 15 not in {0.0})\n",
      "       If (feature 24 in {0.0})\n",
      "        Predict: 0.0\n",
      "       Else (feature 24 not in {0.0})\n",
      "        If (feature 4 in {1.0})\n",
      "         Predict: 0.0\n",
      "        Else (feature 4 not in {1.0})\n",
      "         Predict: 1.0\n",
      "     Else (feature 22 not in {1.0})\n",
      "      If (feature 23 in {0.0})\n",
      "       If (feature 4 in {1.0})\n",
      "        Predict: 0.0\n",
      "       Else (feature 4 not in {1.0})\n",
      "        If (feature 2 in {1.0})\n",
      "         Predict: 0.0\n",
      "        Else (feature 2 not in {1.0})\n",
      "         Predict: 1.0\n",
      "      Else (feature 23 not in {0.0})\n",
      "       Predict: 0.0\n",
      "   Else (feature 7 not in {0.0})\n",
      "    If (feature 22 in {1.0})\n",
      "     Predict: 0.0\n",
      "    Else (feature 22 not in {1.0})\n",
      "     If (feature 19 in {1.0})\n",
      "      If (feature 24 in {0.0})\n",
      "       Predict: 0.0\n",
      "      Else (feature 24 not in {0.0})\n",
      "       If (feature 3 in {1.0})\n",
      "        Predict: 0.0\n",
      "       Else (feature 3 not in {1.0})\n",
      "        If (feature 0 in {1.0})\n",
      "         Predict: 0.0\n",
      "        Else (feature 0 not in {1.0})\n",
      "         Predict: 1.0\n",
      "     Else (feature 19 not in {1.0})\n",
      "      Predict: 0.0\n",
      "  Else (feature 21 not in {0.0})\n",
      "   If (feature 7 in {0.0})\n",
      "    If (feature 11 in {0.0})\n",
      "     If (feature 6 in {1.0})\n",
      "      Predict: 0.0\n",
      "     Else (feature 6 not in {1.0})\n",
      "      If (feature 1 in {0.0})\n",
      "       If (feature 8 in {0.0})\n",
      "        Predict: 1.0\n",
      "       Else (feature 8 not in {0.0})\n",
      "        Predict: 0.0\n",
      "      Else (feature 1 not in {0.0})\n",
      "       Predict: 0.0\n",
      "    Else (feature 11 not in {0.0})\n",
      "     If (feature 24 in {0.0})\n",
      "      If (feature 9 in {0.0})\n",
      "       If (feature 1 in {0.0})\n",
      "        If (feature 23 in {1.0})\n",
      "         Predict: 0.0\n",
      "        Else (feature 23 not in {1.0})\n",
      "         Predict: 1.0\n",
      "       Else (feature 1 not in {0.0})\n",
      "        Predict: 0.0\n",
      "      Else (feature 9 not in {0.0})\n",
      "       Predict: 0.0\n",
      "     Else (feature 24 not in {0.0})\n",
      "      If (feature 1 in {0.0})\n",
      "       If (feature 2 in {0.0})\n",
      "        If (feature 5 in {0.0})\n",
      "         Predict: 0.0\n",
      "        Else (feature 5 not in {0.0})\n",
      "         Predict: 1.0\n",
      "       Else (feature 2 not in {0.0})\n",
      "        If (feature 17 in {0.0})\n",
      "         Predict: 0.0\n",
      "        Else (feature 17 not in {0.0})\n",
      "         Predict: 1.0\n",
      "      Else (feature 1 not in {0.0})\n",
      "       If (feature 9 in {0.0})\n",
      "        Predict: 0.0\n",
      "       Else (feature 9 not in {0.0})\n",
      "        If (feature 15 in {0.0})\n",
      "         Predict: 0.0\n",
      "        Else (feature 15 not in {0.0})\n",
      "         Predict: 1.0\n",
      "   Else (feature 7 not in {0.0})\n",
      "    If (feature 9 in {0.0})\n",
      "     If (feature 15 in {0.0})\n",
      "      If (feature 0 in {1.0})\n",
      "       If (feature 5 in {0.0})\n",
      "        Predict: 0.0\n",
      "       Else (feature 5 not in {0.0})\n",
      "        If (feature 3 in {0.0})\n",
      "         Predict: 1.0\n",
      "        Else (feature 3 not in {0.0})\n",
      "         Predict: 0.0\n",
      "      Else (feature 0 not in {1.0})\n",
      "       If (feature 5 in {0.0})\n",
      "        Predict: 0.0\n",
      "       Else (feature 5 not in {0.0})\n",
      "        If (feature 23 in {0.0})\n",
      "         Predict: 0.0\n",
      "        Else (feature 23 not in {0.0})\n",
      "         Predict: 1.0\n",
      "     Else (feature 15 not in {0.0})\n",
      "      If (feature 23 in {0.0})\n",
      "       Predict: 0.0\n",
      "      Else (feature 23 not in {0.0})\n",
      "       If (feature 0 in {1.0})\n",
      "        Predict: 0.0\n",
      "       Else (feature 0 not in {1.0})\n",
      "        If (feature 3 in {0.0})\n",
      "         Predict: 1.0\n",
      "        Else (feature 3 not in {0.0})\n",
      "         Predict: 0.0\n",
      "    Else (feature 9 not in {0.0})\n",
      "     If (feature 24 in {0.0})\n",
      "      If (feature 11 in {0.0})\n",
      "       If (feature 13 in {1.0})\n",
      "        If (feature 0 in {1.0})\n",
      "         Predict: 0.0\n",
      "        Else (feature 0 not in {1.0})\n",
      "         Predict: 1.0\n",
      "       Else (feature 13 not in {1.0})\n",
      "        If (feature 25 in {1.0})\n",
      "         Predict: 1.0\n",
      "        Else (feature 25 not in {1.0})\n",
      "         Predict: 0.0\n",
      "      Else (feature 11 not in {0.0})\n",
      "       If (feature 17 in {0.0})\n",
      "        If (feature 2 in {0.0})\n",
      "         Predict: 0.0\n",
      "        Else (feature 2 not in {0.0})\n",
      "         Predict: 1.0\n",
      "       Else (feature 17 not in {0.0})\n",
      "        If (feature 13 in {0.0})\n",
      "         Predict: 0.0\n",
      "        Else (feature 13 not in {0.0})\n",
      "         Predict: 1.0\n",
      "     Else (feature 24 not in {0.0})\n",
      "      If (feature 2 in {0.0})\n",
      "       If (feature 15 in {0.0})\n",
      "        Predict: 0.0\n",
      "       Else (feature 15 not in {0.0})\n",
      "        Predict: 1.0\n",
      "      Else (feature 2 not in {0.0})\n",
      "       If (feature 11 in {0.0})\n",
      "        If (feature 23 in {0.0})\n",
      "         Predict: 0.0\n",
      "        Else (feature 23 not in {0.0})\n",
      "         Predict: 1.0\n",
      "       Else (feature 11 not in {0.0})\n",
      "        Predict: 1.0\n",
      "\n"
     ]
    }
   ],
   "source": [
    "print(best_model.toDebugString)"
   ]
  },
  {
   "cell_type": "code",
   "execution_count": 73,
   "metadata": {},
   "outputs": [
    {
     "data": {
      "text/plain": [
       "{Param(parent='DecisionTreeClassifier_09e51251a702', name='featuresCol', doc='features column name.'): 'features',\n",
       " Param(parent='DecisionTreeClassifier_09e51251a702', name='labelCol', doc='label column name.'): 'labelIndex',\n",
       " Param(parent='DecisionTreeClassifier_09e51251a702', name='predictionCol', doc='prediction column name.'): 'prediction',\n",
       " Param(parent='DecisionTreeClassifier_09e51251a702', name='probabilityCol', doc='Column name for predicted class conditional probabilities. Note: Not all models output well-calibrated probability estimates! These probabilities should be treated as confidences, not precise probabilities.'): 'probability',\n",
       " Param(parent='DecisionTreeClassifier_09e51251a702', name='rawPredictionCol', doc='raw prediction (a.k.a. confidence) column name.'): 'rawPrediction',\n",
       " Param(parent='DecisionTreeClassifier_09e51251a702', name='seed', doc='random seed.'): 1898502691226342252,\n",
       " Param(parent='DecisionTreeClassifier_09e51251a702', name='cacheNodeIds', doc='If false, the algorithm will pass trees to executors to match instances with nodes. If true, the algorithm will cache node IDs for each instance. Caching can speed up training of deeper trees. Users can set how often should the cache be checkpointed or disable it by setting checkpointInterval.'): False,\n",
       " Param(parent='DecisionTreeClassifier_09e51251a702', name='checkpointInterval', doc='set checkpoint interval (>= 1) or disable checkpoint (-1). E.g. 10 means that the cache will get checkpointed every 10 iterations. Note: this setting will be ignored if the checkpoint directory is not set in the SparkContext.'): 10,\n",
       " Param(parent='DecisionTreeClassifier_09e51251a702', name='impurity', doc='Criterion used for information gain calculation (case-insensitive). Supported options: entropy, gini'): 'gini',\n",
       " Param(parent='DecisionTreeClassifier_09e51251a702', name='leafCol', doc='Leaf indices column name. Predicted leaf index of each instance in each tree by preorder.'): '',\n",
       " Param(parent='DecisionTreeClassifier_09e51251a702', name='maxBins', doc='Max number of bins for discretizing continuous features.  Must be >=2 and >= number of categories for any categorical feature.'): 2,\n",
       " Param(parent='DecisionTreeClassifier_09e51251a702', name='maxDepth', doc='Maximum depth of the tree. (>= 0) E.g., depth 0 means 1 leaf node; depth 1 means 1 internal node + 2 leaf nodes.'): 7,\n",
       " Param(parent='DecisionTreeClassifier_09e51251a702', name='maxMemoryInMB', doc='Maximum memory in MB allocated to histogram aggregation. If too small, then 1 node will be split per iteration, and its aggregates may exceed this size.'): 256,\n",
       " Param(parent='DecisionTreeClassifier_09e51251a702', name='minInfoGain', doc='Minimum information gain for a split to be considered at a tree node.'): 0.0,\n",
       " Param(parent='DecisionTreeClassifier_09e51251a702', name='minInstancesPerNode', doc='Minimum number of instances each child must have after split. If a split causes the left or right child to have fewer than minInstancesPerNode, the split will be discarded as invalid. Should be >= 1.'): 1,\n",
       " Param(parent='DecisionTreeClassifier_09e51251a702', name='minWeightFractionPerNode', doc='Minimum fraction of the weighted sample count that each child must have after split. If a split causes the fraction of the total weight in the left or right child to be less than minWeightFractionPerNode, the split will be discarded as invalid. Should be in interval [0.0, 0.5).'): 0.0}"
      ]
     },
     "execution_count": 73,
     "metadata": {},
     "output_type": "execute_result"
    }
   ],
   "source": [
    "best_model.extractParamMap()"
   ]
  },
  {
   "cell_type": "code",
   "execution_count": null,
   "metadata": {},
   "outputs": [],
   "source": []
  }
 ],
 "metadata": {
  "kernelspec": {
   "display_name": "Python 3",
   "language": "python",
   "name": "python3"
  },
  "language_info": {
   "codemirror_mode": {
    "name": "ipython",
    "version": 3
   },
   "file_extension": ".py",
   "mimetype": "text/x-python",
   "name": "python",
   "nbconvert_exporter": "python",
   "pygments_lexer": "ipython3",
   "version": "3.7.4"
  }
 },
 "nbformat": 4,
 "nbformat_minor": 4
}
