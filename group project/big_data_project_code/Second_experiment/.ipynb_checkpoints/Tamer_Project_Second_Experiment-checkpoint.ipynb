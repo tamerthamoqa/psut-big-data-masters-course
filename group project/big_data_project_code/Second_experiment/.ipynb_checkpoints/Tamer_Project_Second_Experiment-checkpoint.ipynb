{
 "cells": [
  {
   "cell_type": "code",
   "execution_count": 1,
   "metadata": {},
   "outputs": [],
   "source": [
    "from pyspark.sql import SparkSession\n",
    "from pyspark.sql import functions as F\n",
    "\n",
    "# WARNING: this will allocate 12 gigabytes of RAM to the spark driver, it was necessary as out of memory exceptions would\n",
    "#  occur during cross validation model training with parallel processes\n",
    "# StackOverflow post: https://stackoverflow.com/questions/32336915/pyspark-java-lang-outofmemoryerror-java-heap-space/60267878#60267878\n",
    "spark = SparkSession.builder.master(\"local[*]\").config(\"spark.driver.memory\", \"12g\").getOrCreate()"
   ]
  },
  {
   "cell_type": "code",
   "execution_count": 2,
   "metadata": {},
   "outputs": [],
   "source": [
    "# !pip install numpy"
   ]
  },
  {
   "cell_type": "markdown",
   "metadata": {},
   "source": [
    "### Reading and analyzing the data\n",
    "\n",
    "#### The 'Kaggle Telco Customer Churn' data is used: [link](https://www.kaggle.com/blastchar/telco-customer-churn)"
   ]
  },
  {
   "cell_type": "code",
   "execution_count": 3,
   "metadata": {},
   "outputs": [],
   "source": [
    "from pyspark.sql.functions import col\n",
    "from pyspark.sql.types import *\n",
    "\n",
    "churn_schema = StructType([\n",
    "    StructField(\"customerID\", StringType(), True),\n",
    "    StructField(\"gender\", StringType(), True),\n",
    "    StructField(\"SeniorCitizen\", IntegerType(), True),\n",
    "    StructField(\"Partner\", StringType(), True),\n",
    "    StructField(\"Dependents\", StringType(), True),\n",
    "    StructField(\"tenure\", IntegerType(), True),\n",
    "    StructField(\"PhoneService\", StringType(), True),\n",
    "    StructField(\"MultipleLines\", StringType(), True),\n",
    "    StructField(\"InternetService\", StringType(), True),\n",
    "    StructField(\"OnlineSecurity\", StringType(), True),\n",
    "    StructField(\"OnlineBackup\", StringType(), True),\n",
    "    StructField(\"DeviceProtection\", StringType(), True),\n",
    "    StructField(\"TechSupport\", StringType(), True),\n",
    "    StructField(\"StreamingTV\", StringType(), True),\n",
    "    StructField(\"StreamingMovies\", StringType(), True),\n",
    "    StructField(\"Contract\", StringType(), True),\n",
    "    StructField(\"PaperlessBilling\", StringType(), True),\n",
    "    StructField(\"PaymentMethod\", StringType(), True),\n",
    "    StructField(\"MonthlyCharges\", FloatType(), True),\n",
    "    StructField(\"TotalCharges\", FloatType(), True),\n",
    "    StructField(\"Churn\", StringType(), True)\n",
    "])"
   ]
  },
  {
   "cell_type": "code",
   "execution_count": 4,
   "metadata": {},
   "outputs": [],
   "source": [
    "churn_df = spark.read.csv(\"WA_Fn-UseC_-Telco-Customer-Churn.xls\", header=True, schema=churn_schema)"
   ]
  },
  {
   "cell_type": "code",
   "execution_count": 5,
   "metadata": {},
   "outputs": [
    {
     "name": "stdout",
     "output_type": "stream",
     "text": [
      "root\n",
      " |-- customerID: string (nullable = true)\n",
      " |-- gender: string (nullable = true)\n",
      " |-- SeniorCitizen: integer (nullable = true)\n",
      " |-- Partner: string (nullable = true)\n",
      " |-- Dependents: string (nullable = true)\n",
      " |-- tenure: integer (nullable = true)\n",
      " |-- PhoneService: string (nullable = true)\n",
      " |-- MultipleLines: string (nullable = true)\n",
      " |-- InternetService: string (nullable = true)\n",
      " |-- OnlineSecurity: string (nullable = true)\n",
      " |-- OnlineBackup: string (nullable = true)\n",
      " |-- DeviceProtection: string (nullable = true)\n",
      " |-- TechSupport: string (nullable = true)\n",
      " |-- StreamingTV: string (nullable = true)\n",
      " |-- StreamingMovies: string (nullable = true)\n",
      " |-- Contract: string (nullable = true)\n",
      " |-- PaperlessBilling: string (nullable = true)\n",
      " |-- PaymentMethod: string (nullable = true)\n",
      " |-- MonthlyCharges: float (nullable = true)\n",
      " |-- TotalCharges: float (nullable = true)\n",
      " |-- Churn: string (nullable = true)\n",
      "\n"
     ]
    }
   ],
   "source": [
    "churn_df.printSchema()"
   ]
  },
  {
   "cell_type": "code",
   "execution_count": 6,
   "metadata": {},
   "outputs": [
    {
     "name": "stdout",
     "output_type": "stream",
     "text": [
      "+----------+------+-------------+-------+----------+------+------------+----------------+---------------+-------------------+-------------------+-------------------+-------------------+-------------------+-------------------+--------------+----------------+--------------------+--------------+------------+-----+\n",
      "|customerID|gender|SeniorCitizen|Partner|Dependents|tenure|PhoneService|   MultipleLines|InternetService|     OnlineSecurity|       OnlineBackup|   DeviceProtection|        TechSupport|        StreamingTV|    StreamingMovies|      Contract|PaperlessBilling|       PaymentMethod|MonthlyCharges|TotalCharges|Churn|\n",
      "+----------+------+-------------+-------+----------+------+------------+----------------+---------------+-------------------+-------------------+-------------------+-------------------+-------------------+-------------------+--------------+----------------+--------------------+--------------+------------+-----+\n",
      "|7590-VHVEG|Female|            0|    Yes|        No|     1|          No|No phone service|            DSL|                 No|                Yes|                 No|                 No|                 No|                 No|Month-to-month|             Yes|    Electronic check|         29.85|       29.85|   No|\n",
      "|5575-GNVDE|  Male|            0|     No|        No|    34|         Yes|              No|            DSL|                Yes|                 No|                Yes|                 No|                 No|                 No|      One year|              No|        Mailed check|         56.95|      1889.5|   No|\n",
      "|3668-QPYBK|  Male|            0|     No|        No|     2|         Yes|              No|            DSL|                Yes|                Yes|                 No|                 No|                 No|                 No|Month-to-month|             Yes|        Mailed check|         53.85|      108.15|  Yes|\n",
      "|7795-CFOCW|  Male|            0|     No|        No|    45|          No|No phone service|            DSL|                Yes|                 No|                Yes|                Yes|                 No|                 No|      One year|              No|Bank transfer (au...|          42.3|     1840.75|   No|\n",
      "|9237-HQITU|Female|            0|     No|        No|     2|         Yes|              No|    Fiber optic|                 No|                 No|                 No|                 No|                 No|                 No|Month-to-month|             Yes|    Electronic check|          70.7|      151.65|  Yes|\n",
      "|9305-CDSKC|Female|            0|     No|        No|     8|         Yes|             Yes|    Fiber optic|                 No|                 No|                Yes|                 No|                Yes|                Yes|Month-to-month|             Yes|    Electronic check|         99.65|       820.5|  Yes|\n",
      "|1452-KIOVK|  Male|            0|     No|       Yes|    22|         Yes|             Yes|    Fiber optic|                 No|                Yes|                 No|                 No|                Yes|                 No|Month-to-month|             Yes|Credit card (auto...|          89.1|      1949.4|   No|\n",
      "|6713-OKOMC|Female|            0|     No|        No|    10|          No|No phone service|            DSL|                Yes|                 No|                 No|                 No|                 No|                 No|Month-to-month|              No|        Mailed check|         29.75|       301.9|   No|\n",
      "|7892-POOKP|Female|            0|    Yes|        No|    28|         Yes|             Yes|    Fiber optic|                 No|                 No|                Yes|                Yes|                Yes|                Yes|Month-to-month|             Yes|    Electronic check|         104.8|     3046.05|  Yes|\n",
      "|6388-TABGU|  Male|            0|     No|       Yes|    62|         Yes|              No|            DSL|                Yes|                Yes|                 No|                 No|                 No|                 No|      One year|              No|Bank transfer (au...|         56.15|     3487.95|   No|\n",
      "|9763-GRSKD|  Male|            0|    Yes|       Yes|    13|         Yes|              No|            DSL|                Yes|                 No|                 No|                 No|                 No|                 No|Month-to-month|             Yes|        Mailed check|         49.95|      587.45|   No|\n",
      "|7469-LKBCI|  Male|            0|     No|        No|    16|         Yes|              No|             No|No internet service|No internet service|No internet service|No internet service|No internet service|No internet service|      Two year|              No|Credit card (auto...|         18.95|       326.8|   No|\n",
      "|8091-TTVAX|  Male|            0|    Yes|        No|    58|         Yes|             Yes|    Fiber optic|                 No|                 No|                Yes|                 No|                Yes|                Yes|      One year|              No|Credit card (auto...|        100.35|      5681.1|   No|\n",
      "|0280-XJGEX|  Male|            0|     No|        No|    49|         Yes|             Yes|    Fiber optic|                 No|                Yes|                Yes|                 No|                Yes|                Yes|Month-to-month|             Yes|Bank transfer (au...|         103.7|      5036.3|  Yes|\n",
      "|5129-JLPIS|  Male|            0|     No|        No|    25|         Yes|              No|    Fiber optic|                Yes|                 No|                Yes|                Yes|                Yes|                Yes|Month-to-month|             Yes|    Electronic check|         105.5|     2686.05|   No|\n",
      "|3655-SNQYZ|Female|            0|    Yes|       Yes|    69|         Yes|             Yes|    Fiber optic|                Yes|                Yes|                Yes|                Yes|                Yes|                Yes|      Two year|              No|Credit card (auto...|        113.25|     7895.15|   No|\n",
      "|8191-XWSZG|Female|            0|     No|        No|    52|         Yes|              No|             No|No internet service|No internet service|No internet service|No internet service|No internet service|No internet service|      One year|              No|        Mailed check|         20.65|     1022.95|   No|\n",
      "|9959-WOFKT|  Male|            0|     No|       Yes|    71|         Yes|             Yes|    Fiber optic|                Yes|                 No|                Yes|                 No|                Yes|                Yes|      Two year|              No|Bank transfer (au...|         106.7|     7382.25|   No|\n",
      "|4190-MFLUW|Female|            0|    Yes|       Yes|    10|         Yes|              No|            DSL|                 No|                 No|                Yes|                Yes|                 No|                 No|Month-to-month|              No|Credit card (auto...|          55.2|      528.35|  Yes|\n",
      "|4183-MYFRB|Female|            0|     No|        No|    21|         Yes|              No|    Fiber optic|                 No|                Yes|                Yes|                 No|                 No|                Yes|Month-to-month|             Yes|    Electronic check|         90.05|      1862.9|   No|\n",
      "+----------+------+-------------+-------+----------+------+------------+----------------+---------------+-------------------+-------------------+-------------------+-------------------+-------------------+-------------------+--------------+----------------+--------------------+--------------+------------+-----+\n",
      "only showing top 20 rows\n",
      "\n"
     ]
    }
   ],
   "source": [
    "churn_df.show()"
   ]
  },
  {
   "cell_type": "code",
   "execution_count": 7,
   "metadata": {},
   "outputs": [
    {
     "name": "stdout",
     "output_type": "stream",
     "text": [
      "+----------+------+-------------+-------+----------+------+------------+-------------+---------------+--------------+------------+----------------+-----------+-----------+---------------+--------+----------------+-------------+--------------+------------+-----+\n",
      "|customerID|gender|SeniorCitizen|Partner|Dependents|tenure|PhoneService|MultipleLines|InternetService|OnlineSecurity|OnlineBackup|DeviceProtection|TechSupport|StreamingTV|StreamingMovies|Contract|PaperlessBilling|PaymentMethod|MonthlyCharges|TotalCharges|Churn|\n",
      "+----------+------+-------------+-------+----------+------+------------+-------------+---------------+--------------+------------+----------------+-----------+-----------+---------------+--------+----------------+-------------+--------------+------------+-----+\n",
      "|         0|     0|            0|      0|         0|     0|           0|            0|              0|             0|           0|               0|          0|          0|              0|       0|               0|            0|             0|           0|    0|\n",
      "+----------+------+-------------+-------+----------+------+------------+-------------+---------------+--------------+------------+----------------+-----------+-----------+---------------+--------+----------------+-------------+--------------+------------+-----+\n",
      "\n"
     ]
    }
   ],
   "source": [
    "# Counting number of missing (nan) values in each column, used this blogpost as a reference:\n",
    "#  https://www.datasciencemadesimple.com/count-of-missing-nanna-and-null-values-in-pyspark/\n",
    "\n",
    "churn_df.select([F.count(F.when(F.isnan(col), col)).alias(col) for col in churn_df.columns]).show()"
   ]
  },
  {
   "cell_type": "code",
   "execution_count": 8,
   "metadata": {},
   "outputs": [
    {
     "name": "stdout",
     "output_type": "stream",
     "text": [
      "+----------+------+-------------+-------+----------+------+------------+-------------+---------------+--------------+------------+----------------+-----------+-----------+---------------+--------+----------------+-------------+--------------+------------+-----+\n",
      "|customerID|gender|SeniorCitizen|Partner|Dependents|tenure|PhoneService|MultipleLines|InternetService|OnlineSecurity|OnlineBackup|DeviceProtection|TechSupport|StreamingTV|StreamingMovies|Contract|PaperlessBilling|PaymentMethod|MonthlyCharges|TotalCharges|Churn|\n",
      "+----------+------+-------------+-------+----------+------+------------+-------------+---------------+--------------+------------+----------------+-----------+-----------+---------------+--------+----------------+-------------+--------------+------------+-----+\n",
      "|         0|     0|            0|      0|         0|     0|           0|            0|              0|             0|           0|               0|          0|          0|              0|       0|               0|            0|             0|          11|    0|\n",
      "+----------+------+-------------+-------+----------+------+------------+-------------+---------------+--------------+------------+----------------+-----------+-----------+---------------+--------+----------------+-------------+--------------+------------+-----+\n",
      "\n"
     ]
    }
   ],
   "source": [
    "# Counting number of null values in each column, used this blogpost as a reference:\n",
    "#  https://www.datasciencemadesimple.com/count-of-missing-nanna-and-null-values-in-pyspark/\n",
    "\n",
    "churn_df.select([F.count(F.when(F.isnull(col), col)).alias(col) for col in churn_df.columns]).show()"
   ]
  },
  {
   "cell_type": "code",
   "execution_count": 9,
   "metadata": {},
   "outputs": [
    {
     "name": "stdout",
     "output_type": "stream",
     "text": [
      "+----------+\n",
      "|sum(count)|\n",
      "+----------+\n",
      "|      null|\n",
      "+----------+\n",
      "\n"
     ]
    }
   ],
   "source": [
    "# Checking number of duplicate rows\n",
    "#  Used this stackoverflow answer: https://stackoverflow.com/a/48554666\n",
    "churn_df.groupBy(churn_df.columns) \\\n",
    "    .count() \\\n",
    "    .where(F.col('count') > 1) \\\n",
    "    .select(F.sum('count')) \\\n",
    "    .show()"
   ]
  },
  {
   "cell_type": "markdown",
   "metadata": {},
   "source": [
    "### Imputing null values with mean value "
   ]
  },
  {
   "cell_type": "code",
   "execution_count": 10,
   "metadata": {},
   "outputs": [],
   "source": [
    "churn_df = churn_df.na.fill(\n",
    "    {\n",
    "        'MonthlyCharges': churn_df.agg({\"MonthlyCharges\": \"avg\"}).collect()[0][0],\n",
    "        'TotalCharges': churn_df.agg({\"TotalCharges\": \"avg\"}).collect()[0][0]\n",
    "    }\n",
    ")"
   ]
  },
  {
   "cell_type": "markdown",
   "metadata": {},
   "source": [
    "### Data preparation"
   ]
  },
  {
   "cell_type": "code",
   "execution_count": 11,
   "metadata": {},
   "outputs": [],
   "source": [
    "from pyspark.ml.feature import StringIndexer, VectorIndexer, OneHotEncoder"
   ]
  },
  {
   "cell_type": "code",
   "execution_count": 12,
   "metadata": {},
   "outputs": [],
   "source": [
    "# Change the label column to label\n",
    "churn_df = churn_df.withColumnRenamed('Churn','label')"
   ]
  },
  {
   "cell_type": "code",
   "execution_count": 13,
   "metadata": {},
   "outputs": [],
   "source": [
    "# List of columns need to be indexed and featurized\n",
    "col_list = [\n",
    "    \"gender\",\n",
    "    \"SeniorCitizen\", \n",
    "    \"Partner\",\n",
    "    \"Dependents\",\n",
    "    \"PhoneService\", \n",
    "    \"MultipleLines\",\n",
    "    \"InternetService\", \n",
    "    \"OnlineSecurity\",\n",
    "    \"OnlineBackup\",\n",
    "    \"DeviceProtection\",\n",
    "    \"TechSupport\", \n",
    "    \"StreamingTV\",\n",
    "    \"StreamingMovies\",\n",
    "    \"Contract\",\n",
    "    \"PaperlessBilling\", \n",
    "    \"PaymentMethod\"\n",
    "]\n",
    "\n",
    "numerical_cols = [\"tenure\", \"MonthlyCharges\", \"TotalCharges\"]\n",
    "\n",
    "featurized_col_list = col_list + numerical_cols"
   ]
  },
  {
   "cell_type": "code",
   "execution_count": 14,
   "metadata": {},
   "outputs": [],
   "source": [
    "# List of features and label indexers \n",
    "indexers = [\n",
    "    StringIndexer(inputCol=c, outputCol=f'{c}_indexed')\n",
    "    for c in col_list\n",
    "]\n",
    "\n",
    "label_indexer = StringIndexer(inputCol=\"label\", outputCol=\"labelIndex\")\n",
    "indexers.append(label_indexer)"
   ]
  },
  {
   "cell_type": "code",
   "execution_count": 15,
   "metadata": {},
   "outputs": [],
   "source": [
    "# One hot encode the categorical columns\n",
    "encoder = OneHotEncoder(\n",
    "    inputCols = [f'{c}_indexed' for c in col_list], \n",
    "    outputCols=[f'{c}_vector' for c in col_list],\n",
    "    dropLast=True\n",
    ")"
   ]
  },
  {
   "cell_type": "code",
   "execution_count": 16,
   "metadata": {},
   "outputs": [],
   "source": [
    "# Vectorizing the features\n",
    "from pyspark.ml.linalg import Vectors\n",
    "from pyspark.ml.feature import VectorAssembler\n",
    "\n",
    "vector_assembler = VectorAssembler(inputCols=numerical_cols + [f'{c}_vector' for c in col_list], outputCol=\"features\")"
   ]
  },
  {
   "cell_type": "code",
   "execution_count": 17,
   "metadata": {},
   "outputs": [],
   "source": [
    "from pyspark.ml import Pipeline\n",
    "\n",
    "pipeline = Pipeline(stages=indexers + [encoder, vector_assembler])\n",
    "pipeline_model = pipeline.fit(churn_df)\n",
    "\n",
    "transformed_df = pipeline_model.transform(churn_df)"
   ]
  },
  {
   "cell_type": "code",
   "execution_count": 18,
   "metadata": {},
   "outputs": [],
   "source": [
    "cols_drop = [f'{c}_indexed' for c in col_list] + [f'{c}_vector' for c in col_list] + [f'{c}' for c in featurized_col_list] + ['customerID']\n",
    "transformed_df = transformed_df.drop(*cols_drop)"
   ]
  },
  {
   "cell_type": "code",
   "execution_count": 19,
   "metadata": {},
   "outputs": [
    {
     "name": "stdout",
     "output_type": "stream",
     "text": [
      "+-----+----------+------------------------------------------------------------------------------------------------------------------------------------------------------------+\n",
      "|label|labelIndex|features                                                                                                                                                    |\n",
      "+-----+----------+------------------------------------------------------------------------------------------------------------------------------------------------------------+\n",
      "|No   |0.0       |(30,[0,1,2,4,6,11,12,15,16,18,20,22,24,26,27],[1.0,29.850000381469727,29.850000381469727,1.0,1.0,1.0,1.0,1.0,1.0,1.0,1.0,1.0,1.0,1.0,1.0])                  |\n",
      "|No   |0.0       |(30,[0,1,2,3,4,5,6,7,8,11,13,14,17,18,20,22,28],[34.0,56.95000076293945,1889.5,1.0,1.0,1.0,1.0,1.0,1.0,1.0,1.0,1.0,1.0,1.0,1.0,1.0,1.0])                    |\n",
      "|Yes  |1.0       |[2.0,53.849998474121094,108.1500015258789,1.0,1.0,1.0,1.0,1.0,1.0,0.0,0.0,1.0,0.0,1.0,0.0,1.0,1.0,0.0,1.0,0.0,1.0,0.0,1.0,0.0,1.0,0.0,1.0,0.0,1.0,0.0]      |\n",
      "|No   |0.0       |(30,[0,1,2,3,4,5,6,11,13,14,17,19,20,22,29],[45.0,42.29999923706055,1840.75,1.0,1.0,1.0,1.0,1.0,1.0,1.0,1.0,1.0,1.0,1.0,1.0])                               |\n",
      "|Yes  |1.0       |(30,[0,1,2,4,5,6,7,8,10,12,14,16,18,20,22,24,26,27],[2.0,70.69999694824219,151.64999389648438,1.0,1.0,1.0,1.0,1.0,1.0,1.0,1.0,1.0,1.0,1.0,1.0,1.0,1.0,1.0]) |\n",
      "|Yes  |1.0       |(30,[0,1,2,4,5,6,7,9,10,12,14,17,18,21,23,24,26,27],[8.0,99.6500015258789,820.5,1.0,1.0,1.0,1.0,1.0,1.0,1.0,1.0,1.0,1.0,1.0,1.0,1.0,1.0,1.0])               |\n",
      "|No   |0.0       |(30,[0,1,2,3,4,5,7,9,10,12,15,16,18,21,22,24,26],[22.0,89.0999984741211,1949.4000244140625,1.0,1.0,1.0,1.0,1.0,1.0,1.0,1.0,1.0,1.0,1.0,1.0,1.0,1.0])        |\n",
      "|No   |0.0       |(30,[0,1,2,4,5,6,11,13,14,16,18,20,22,24,28],[10.0,29.75,301.8999938964844,1.0,1.0,1.0,1.0,1.0,1.0,1.0,1.0,1.0,1.0,1.0,1.0])                                |\n",
      "|Yes  |1.0       |(30,[0,1,2,4,6,7,9,10,12,14,17,19,21,23,24,26,27],[28.0,104.80000305175781,3046.050048828125,1.0,1.0,1.0,1.0,1.0,1.0,1.0,1.0,1.0,1.0,1.0,1.0,1.0,1.0])      |\n",
      "|No   |0.0       |(30,[0,1,2,3,4,5,7,8,11,13,15,16,18,20,22,29],[62.0,56.150001525878906,3487.949951171875,1.0,1.0,1.0,1.0,1.0,1.0,1.0,1.0,1.0,1.0,1.0,1.0,1.0])              |\n",
      "|No   |0.0       |(30,[0,1,2,3,4,7,8,11,13,14,16,18,20,22,24,26,28],[13.0,49.95000076293945,587.4500122070312,1.0,1.0,1.0,1.0,1.0,1.0,1.0,1.0,1.0,1.0,1.0,1.0,1.0,1.0])       |\n",
      "|No   |0.0       |(30,[0,1,2,3,4,5,6,7,8,25],[16.0,18.950000762939453,326.79998779296875,1.0,1.0,1.0,1.0,1.0,1.0,1.0])                                                        |\n",
      "|No   |0.0       |(30,[0,1,2,3,4,6,7,9,10,12,14,17,18,21,23],[58.0,100.3499984741211,5681.10009765625,1.0,1.0,1.0,1.0,1.0,1.0,1.0,1.0,1.0,1.0,1.0,1.0])                       |\n",
      "|Yes  |1.0       |[49.0,103.69999694824219,5036.2998046875,1.0,1.0,1.0,1.0,1.0,0.0,1.0,1.0,0.0,1.0,0.0,0.0,1.0,0.0,1.0,1.0,0.0,0.0,1.0,0.0,1.0,1.0,0.0,1.0,0.0,0.0,1.0]       |\n",
      "|No   |0.0       |[25.0,105.5,2686.050048828125,1.0,1.0,1.0,1.0,1.0,1.0,0.0,1.0,0.0,0.0,1.0,1.0,0.0,0.0,1.0,0.0,1.0,0.0,1.0,0.0,1.0,1.0,0.0,1.0,1.0,0.0,0.0]                  |\n",
      "|No   |0.0       |(30,[0,1,2,4,7,9,10,13,15,17,19,21,23,25],[69.0,113.25,7895.14990234375,1.0,1.0,1.0,1.0,1.0,1.0,1.0,1.0,1.0,1.0,1.0])                                       |\n",
      "|No   |0.0       |(30,[0,1,2,4,5,6,7,8,28],[52.0,20.649999618530273,1022.9500122070312,1.0,1.0,1.0,1.0,1.0,1.0])                                                              |\n",
      "|No   |0.0       |(30,[0,1,2,3,4,5,7,9,10,13,14,17,18,21,23,25,29],[71.0,106.69999694824219,7382.25,1.0,1.0,1.0,1.0,1.0,1.0,1.0,1.0,1.0,1.0,1.0,1.0,1.0,1.0])                 |\n",
      "|Yes  |1.0       |(30,[0,1,2,4,7,8,11,12,14,17,19,20,22,24],[10.0,55.20000076293945,528.3499755859375,1.0,1.0,1.0,1.0,1.0,1.0,1.0,1.0,1.0,1.0,1.0])                           |\n",
      "|No   |0.0       |(30,[0,1,2,4,5,6,7,8,10,12,15,17,18,20,23,24,26,27],[21.0,90.05000305175781,1862.9000244140625,1.0,1.0,1.0,1.0,1.0,1.0,1.0,1.0,1.0,1.0,1.0,1.0,1.0,1.0,1.0])|\n",
      "+-----+----------+------------------------------------------------------------------------------------------------------------------------------------------------------------+\n",
      "only showing top 20 rows\n",
      "\n"
     ]
    }
   ],
   "source": [
    "transformed_df.show(truncate=False)"
   ]
  },
  {
   "cell_type": "markdown",
   "metadata": {},
   "source": [
    "### Data scaling and dimensionality reduction"
   ]
  },
  {
   "cell_type": "code",
   "execution_count": 20,
   "metadata": {},
   "outputs": [],
   "source": [
    "from pyspark.ml.feature import MinMaxScaler, PCA"
   ]
  },
  {
   "cell_type": "code",
   "execution_count": 21,
   "metadata": {},
   "outputs": [],
   "source": [
    "# Features Scaling\n",
    "scaler = MinMaxScaler(inputCol=\"features\", outputCol=\"scaledFeatures\")\n",
    "scalerModel = scaler.fit(transformed_df)\n",
    "\n",
    "scaled_df = scalerModel.transform(transformed_df)"
   ]
  },
  {
   "cell_type": "code",
   "execution_count": 22,
   "metadata": {},
   "outputs": [],
   "source": [
    "# Principal Component Analysis Dimensionality reduction\n",
    "#  training using removed new pca feature columns were not tested\n",
    "\n",
    "pca = PCA(k=7, inputCol=\"features\", outputCol=\"pcaFeatures\")\n",
    "model = pca.fit(scaled_df)\n",
    "reduced_df = model.transform(scaled_df)\n",
    "\n",
    "scaler = MinMaxScaler(inputCol=\"pcaFeatures\", outputCol=\"scaledPcaFeatures\")\n",
    "scalerModel = scaler.fit(reduced_df)\n",
    "\n",
    "scaled_pca_df = scalerModel.transform(reduced_df)\n",
    "\n",
    "\n",
    "pca = PCA(k=7, inputCol=\"scaledFeatures\", outputCol=\"pcaScaledFeatures\")\n",
    "model = pca.fit(scaled_pca_df)\n",
    "pca_scaled_df = model.transform(scaled_pca_df)"
   ]
  },
  {
   "cell_type": "code",
   "execution_count": 23,
   "metadata": {},
   "outputs": [
    {
     "name": "stdout",
     "output_type": "stream",
     "text": [
      "root\n",
      " |-- label: string (nullable = true)\n",
      " |-- labelIndex: double (nullable = false)\n",
      " |-- features: vector (nullable = true)\n",
      " |-- scaledFeatures: vector (nullable = true)\n",
      " |-- pcaFeatures: vector (nullable = true)\n",
      " |-- scaledPcaFeatures: vector (nullable = true)\n",
      " |-- pcaScaledFeatures: vector (nullable = true)\n",
      "\n"
     ]
    }
   ],
   "source": [
    "pca_scaled_df.printSchema()"
   ]
  },
  {
   "cell_type": "code",
   "execution_count": 24,
   "metadata": {},
   "outputs": [
    {
     "name": "stdout",
     "output_type": "stream",
     "text": [
      "+-----+----------+------------------------------------------------------------------------------------------------------------------------------------------------------------+-------------------------------------------------------------------------------------------------------------------------------------------------------------------------------+----------------------------------------------------------------------------------------------------------------------------------------------+------------------------------------------------------------------------------------------------------------------------------------------+-----------------------------------------------------------------------------------------------------------------------------------------------+\n",
      "|label|labelIndex|features                                                                                                                                                    |scaledFeatures                                                                                                                                                                 |pcaFeatures                                                                                                                                   |scaledPcaFeatures                                                                                                                         |pcaScaledFeatures                                                                                                                              |\n",
      "+-----+----------+------------------------------------------------------------------------------------------------------------------------------------------------------------+-------------------------------------------------------------------------------------------------------------------------------------------------------------------------------+----------------------------------------------------------------------------------------------------------------------------------------------+------------------------------------------------------------------------------------------------------------------------------------------+-----------------------------------------------------------------------------------------------------------------------------------------------+\n",
      "|No   |0.0       |(30,[0,1,2,4,6,11,12,15,16,18,20,22,24,26,27],[1.0,29.850000381469727,29.850000381469727,1.0,1.0,1.0,1.0,1.0,1.0,1.0,1.0,1.0,1.0,1.0,1.0])                  |(30,[0,1,2,4,6,11,12,15,16,18,20,22,24,26,27],[0.013888888888888888,0.11542288936785797,0.001275098245151048,1.0,1.0,1.0,1.0,1.0,1.0,1.0,1.0,1.0,1.0,1.0,1.0])                 |[-30.114400999943427,-26.28413689708729,13.69603437434676,-2.0733189375236067,0.3713839517221935,-0.0642564806995767,0.179624077778732]       |[0.9987141069597467,0.595218697393231,0.4210944673748036,0.1726977299238119,0.398905704589858,0.3878708037451489,0.2867310799551696]      |[1.9367169353720095,1.001412592042416,1.4955278717761433,-0.00688837204542235,1.144801555046603,0.005815407820780216,-0.16074768615650606]     |\n",
      "|No   |0.0       |(30,[0,1,2,3,4,5,6,7,8,11,13,14,17,18,20,22,28],[34.0,56.95000076293945,1889.5,1.0,1.0,1.0,1.0,1.0,1.0,1.0,1.0,1.0,1.0,1.0,1.0,1.0,1.0])                    |(30,[0,1,2,3,4,5,6,7,8,11,13,14,17,18,20,22,28],[0.4722222222222222,0.385074634457109,0.2158666100576614,1.0,1.0,1.0,1.0,1.0,1.0,1.0,1.0,1.0,1.0,1.0,1.0,1.0,1.0])             |[-1890.1497505508087,-28.931028330314703,33.2122789218038,-1.2165509131043097,1.5853718817675313,0.7993290418622786,1.632319148475462]        |[0.7840984553526865,0.5720883047527535,0.6774278414474967,0.36678937823718116,0.685200109332235,0.5904107241943248,0.6809852580389472]    |[0.9241416160508752,0.041729462196713196,1.4834476174080242,-0.9402600963997645,0.20940664728754727,-0.542423958483921,1.4515098934508817]     |\n",
      "|Yes  |1.0       |[2.0,53.849998474121094,108.1500015258789,1.0,1.0,1.0,1.0,1.0,1.0,0.0,0.0,1.0,0.0,1.0,0.0,1.0,1.0,0.0,1.0,0.0,1.0,0.0,1.0,0.0,1.0,0.0,1.0,0.0,1.0,0.0]      |[0.027777777777777776,0.35422884053851833,0.010310408988541875,1.0,1.0,1.0,1.0,1.0,1.0,0.0,0.0,1.0,0.0,1.0,0.0,1.0,1.0,0.0,1.0,0.0,1.0,0.0,1.0,0.0,1.0,0.0,1.0,0.0,1.0,0.0]    |[-108.62458510010445,-47.05831455001095,24.2083600069876,-1.28699273360912,1.5668958487356188,1.3742448441326973,0.6821887951384835]          |[0.9896554004558542,0.4136793717287651,0.5591671325442303,0.3508315359014568,0.680842912075196,0.7252478628617165,0.42312463120577404]    |[1.5792638131900953,0.16243453219452936,1.557593876514567,-0.23487110899245134,1.6113606881407796,-0.4147392264370966,0.09590999034967174]     |\n",
      "|No   |0.0       |(30,[0,1,2,3,4,5,6,11,13,14,17,19,20,22,29],[45.0,42.29999923706055,1840.75,1.0,1.0,1.0,1.0,1.0,1.0,1.0,1.0,1.0,1.0,1.0,1.0])                               |(30,[0,1,2,3,4,5,6,11,13,14,17,19,20,22,29],[0.625,0.23930347499562732,0.21024117720577754,1.0,1.0,1.0,1.0,1.0,1.0,1.0,1.0,1.0,1.0,1.0,1.0])                                   |[-1841.375559868836,-11.11954797954914,37.22361342978408,-1.4081632713258299,1.949956941659417,-0.041866539534413244,1.024337992451731]       |[0.7897261466314281,0.7277375047348669,0.7301141513809715,0.32338164430636174,0.7711800932483955,0.3931219998154594,0.5159822124627008]   |[0.2386083447181171,0.4268520058602033,2.1546424396066244,-0.9620426035443401,-0.1583959003859144,-1.0756449428492518,0.9931839182366411]      |\n",
      "|Yes  |1.0       |(30,[0,1,2,4,5,6,7,8,10,12,14,16,18,20,22,24,26,27],[2.0,70.69999694824219,151.64999389648438,1.0,1.0,1.0,1.0,1.0,1.0,1.0,1.0,1.0,1.0,1.0,1.0,1.0,1.0,1.0]) |(30,[0,1,2,4,5,6,7,8,10,12,14,16,18,20,22,24,26,27],[0.027777777777777776,0.5218905168979322,0.015330025114455744,1.0,1.0,1.0,1.0,1.0,1.0,1.0,1.0,1.0,1.0,1.0,1.0,1.0,1.0,1.0])|[-152.26670471020262,-62.05270000963458,31.14516261076052,-1.2974472949876343,0.04526038165436555,1.0372462263350122,1.4957341204026422]      |[0.9846198607066252,0.2826479215038243,0.6502775924678863,0.3484631666433669,0.32199608213459957,0.646210325227062,0.6439167644041662]    |[2.723210166277881,1.1057081507169475,0.30802571572361925,-0.4121365710986865,0.680351333073643,-0.032940662248405306,0.3933178601608597]      |\n",
      "|Yes  |1.0       |(30,[0,1,2,4,5,6,7,9,10,12,14,17,18,21,23,24,26,27],[8.0,99.6500015258789,820.5,1.0,1.0,1.0,1.0,1.0,1.0,1.0,1.0,1.0,1.0,1.0,1.0,1.0,1.0,1.0])               |(30,[0,1,2,4,5,6,7,9,10,12,14,17,18,21,23,24,26,27],[0.1111111111111111,0.8099502639390935,0.09251096454660823,1.0,1.0,1.0,1.0,1.0,1.0,1.0,1.0,1.0,1.0,1.0,1.0,1.0,1.0,1.0])   |[-821.3694202870187,-82.83829297427647,41.381598513407546,0.5474562071602957,0.012292154265925809,-0.4753551664712567,0.6490384001208482]     |[0.9074170724207755,0.10100884084418119,0.7847266227115794,0.7664063572213534,0.31422119508507823,0.29145430191918986,0.41412777976429294]|[1.2836456997110577,2.6646127781110995,-0.5410349034584803,-1.0567395221636626,-0.0077791690416490825,-0.7398143852452915,0.5748194749552381]  |\n",
      "|No   |0.0       |(30,[0,1,2,3,4,5,7,9,10,12,15,16,18,21,22,24,26],[22.0,89.0999984741211,1949.4000244140625,1.0,1.0,1.0,1.0,1.0,1.0,1.0,1.0,1.0,1.0,1.0,1.0,1.0,1.0])        |(30,[0,1,2,3,4,5,7,9,10,12,15,16,18,21,22,24,26],[0.3055555555555555,0.7049751091952348,0.22277868318930266,1.0,1.0,1.0,1.0,1.0,1.0,1.0,1.0,1.0,1.0,1.0,1.0,1.0,1.0])          |[-1950.2159825607396,-62.88309763322056,35.92818381686556,-0.6732679407877153,-0.0011111277425411292,0.9733122185381299,-0.023275203026501164]|[0.777167859369387,0.27539132501477104,0.713099512998796,0.48986433504241944,0.3110603031608357,0.6312156448915658,0.23166522972874135]   |[1.3646824202911048,2.0044641432137826,0.26225298785712753,0.5106662354887087,0.965733649407278,-0.11772214318938576,-0.3198607946059541]      |\n",
      "|No   |0.0       |(30,[0,1,2,4,5,6,11,13,14,16,18,20,22,24,28],[10.0,29.75,301.8999938964844,1.0,1.0,1.0,1.0,1.0,1.0,1.0,1.0,1.0,1.0,1.0,1.0])                                |(30,[0,1,2,4,5,6,11,13,14,16,18,20,22,24,28],[0.1388888888888889,0.1144278606965174,0.03266789764769778,1.0,1.0,1.0,1.0,1.0,1.0,1.0,1.0,1.0,1.0,1.0,1.0])                      |[-302.2227630792265,-21.173048665219017,18.484025989825952,-2.002321387927879,1.1509066537002515,0.1705590594610857,0.6413331052212536]       |[0.9673175458946699,0.6398829689002368,0.4839816710498296,0.18878146675162463,0.5827403065843298,0.4429429646161231,0.41203660125834823]  |[1.7870546144704647,0.07137909168245282,1.7857281672644458,-0.5124290936018477,0.0016423601091296054,-0.8592959285173243,-0.019417854048020843]|\n",
      "|Yes  |1.0       |(30,[0,1,2,4,6,7,9,10,12,14,17,19,21,23,24,26,27],[28.0,104.80000305175781,3046.050048828125,1.0,1.0,1.0,1.0,1.0,1.0,1.0,1.0,1.0,1.0,1.0,1.0,1.0,1.0])      |(30,[0,1,2,4,6,7,9,10,12,14,17,19,21,23,24,26,27],[0.38888888888888884,0.8611940602164956,0.3493249616376739,1.0,1.0,1.0,1.0,1.0,1.0,1.0,1.0,1.0,1.0,1.0,1.0,1.0,1.0])         |[-3046.9707794457204,-70.14661161674238,35.25683865704366,0.46651029375007647,0.3363712173504789,-0.3782564088049968,0.7881747981585345]      |[0.6506214765581811,0.21191764858082596,0.7042818242489928,0.7480689247889639,0.39064866207957655,0.3142272342341008,0.45188870244958584] |[0.5067865928111008,2.7153239417164836,-0.19413740382678657,-1.1465705515263738,-0.14071734094577718,-0.38033035290609807,0.2628978169318601]  |\n",
      "|No   |0.0       |(30,[0,1,2,3,4,5,7,8,11,13,15,16,18,20,22,29],[62.0,56.150001525878906,3487.949951171875,1.0,1.0,1.0,1.0,1.0,1.0,1.0,1.0,1.0,1.0,1.0,1.0,1.0])              |(30,[0,1,2,3,4,5,7,8,11,13,15,16,18,20,22,29],[0.861111111111111,0.3771144430435712,0.4003173355430852,1.0,1.0,1.0,1.0,1.0,1.0,1.0,1.0,1.0,1.0,1.0,1.0,1.0])                   |[-3488.7195794239997,-9.775800757763832,39.081114778311914,-1.9909060327751926,1.2707675083212635,1.6501097784736733,1.2355422961936888]      |[0.5996513664595383,0.7394801098373159,0.7545112420638077,0.19136749358096283,0.6110070555167956,0.7899474906303565,0.5733020043854514]   |[0.6638682337738314,0.2130616966742141,1.8758412557898045,0.1879397966008593,1.2073134486998758,0.2693519653912973,0.20305567879954947]        |\n",
      "|No   |0.0       |(30,[0,1,2,3,4,7,8,11,13,14,16,18,20,22,24,26,28],[13.0,49.95000076293945,587.4500122070312,1.0,1.0,1.0,1.0,1.0,1.0,1.0,1.0,1.0,1.0,1.0,1.0,1.0,1.0])       |(30,[0,1,2,3,4,7,8,11,13,14,16,18,20,22,24,26,28],[0.18055555555555555,0.31542289316357663,0.06561851208585545,1.0,1.0,1.0,1.0,1.0,1.0,1.0,1.0,1.0,1.0,1.0,1.0,1.0,1.0])       |[-587.9521088527212,-36.883159931415996,26.699417389882406,-1.5321447698426287,1.4418620600656458,0.9769709127610279,1.0756701383003904]      |[0.9343493607785942,0.5025970049007062,0.5918855760138946,0.2952949595543286,0.6513562316774616,0.6320737320381119,0.5299135001631082]    |[1.610336762700652,0.07706785819918566,1.5947048245405655,-0.4089347648175886,0.08107941392786965,0.7753184830441554,0.1392627524251281]       |\n",
      "|No   |0.0       |(30,[0,1,2,3,4,5,6,7,8,25],[16.0,18.950000762939453,326.79998779296875,1.0,1.0,1.0,1.0,1.0,1.0,1.0])                                                        |(30,[0,1,2,3,4,5,6,7,8,25],[0.2222222222222222,0.006965181720790578,0.03554119495389246,1.0,1.0,1.0,1.0,1.0,1.0,1.0])                                                          |[-327.08141975298327,-8.700992547845402,18.83008380949642,0.3703132357394817,0.2474153539835271,0.7741029846615533,1.0589572873449966]        |[0.9644492902986659,0.7488725373455001,0.4885269188983419,0.7262765083821681,0.3696702278458568,0.5844943632952626,0.5253777159852936]    |[0.02754118353860019,-0.39787779445143723,-0.3391114545921588,-0.4361029712210356,0.5694192571141775,-0.6641793382919327,0.2591187566511268]   |\n",
      "|No   |0.0       |(30,[0,1,2,3,4,6,7,9,10,12,14,17,18,21,23],[58.0,100.3499984741211,5681.10009765625,1.0,1.0,1.0,1.0,1.0,1.0,1.0,1.0,1.0,1.0,1.0,1.0])                       |(30,[0,1,2,3,4,6,7,9,10,12,14,17,18,21,23],[0.8055555555555555,0.8169154077026974,0.653392594684564,1.0,1.0,1.0,1.0,1.0,1.0,1.0,1.0,1.0,1.0,1.0,1.0])                          |[-5682.046713883596,-42.87078919350621,29.03375712515919,-0.313845995338192,-0.4232301458313298,-0.08686299359356003,1.2461644261110576]      |[0.34657965346055924,0.45027290347396687,0.6225456335429146,0.5712875392750687,0.21151210336147436,0.3825688143028088,0.5761847973297841] |[0.23262328760359527,2.435238346054864,-0.2324899686240457,-0.6184283978203037,-0.48597899277234946,-0.17397578689790724,0.7588081673873149]   |\n",
      "|Yes  |1.0       |[49.0,103.69999694824219,5036.2998046875,1.0,1.0,1.0,1.0,1.0,0.0,1.0,1.0,0.0,1.0,0.0,0.0,1.0,0.0,1.0,1.0,0.0,0.0,1.0,0.0,1.0,1.0,0.0,1.0,0.0,0.0,1.0]       |[0.6805555555555555,0.850248725853156,0.5789868356902924,1.0,1.0,1.0,1.0,1.0,0.0,1.0,1.0,0.0,1.0,0.0,0.0,1.0,0.0,1.0,1.0,0.0,0.0,1.0,0.0,1.0,1.0,0.0,1.0,0.0,0.0,1.0]          |[-5037.244828948728,-52.312690532416255,30.055088669897742,-0.21695427254655117,-0.3838070825933042,0.2803632997244763,0.7320368306445457]    |[0.4209785495493741,0.36776295142227083,0.6359601693299146,0.5932373245711504,0.2208092323884739,0.4686957609598534,0.4366531387803938]   |[0.4082532781583992,2.7377826894300767,-0.2207529235544654,-0.3234395312597085,1.0146025853408684,-0.7911830699393245,0.6417630454979137]      |\n",
      "|No   |0.0       |[25.0,105.5,2686.050048828125,1.0,1.0,1.0,1.0,1.0,1.0,0.0,1.0,0.0,0.0,1.0,1.0,0.0,0.0,1.0,0.0,1.0,0.0,1.0,0.0,1.0,1.0,0.0,1.0,1.0,0.0,0.0]                  |[0.3472222222222222,0.8681592039800995,0.3077833036545316,1.0,1.0,1.0,1.0,1.0,1.0,0.0,1.0,0.0,0.0,1.0,1.0,0.0,0.0,1.0,0.0,1.0,0.0,1.0,0.0,1.0,1.0,0.0,1.0,1.0,0.0,0.0]         |[-2686.9776946899765,-73.45636632636356,37.11122295345974,0.7874907550349668,1.2504450086355625,0.43456806032829615,1.9177756299903905]       |[0.6921584024437807,0.1829946920076275,0.7286379744484781,0.8207836212196525,0.6062144065897361,0.5048619762675501,0.7584567197162959]    |[0.4573731360818422,1.8713882441583471,-0.028731768603737336,-1.9336358927137651,0.6204675722363772,-0.34617909590253615,0.5352371653053368]   |\n",
      "|No   |0.0       |(30,[0,1,2,4,7,9,10,13,15,17,19,21,23,25],[69.0,113.25,7895.14990234375,1.0,1.0,1.0,1.0,1.0,1.0,1.0,1.0,1.0,1.0,1.0])                                       |(30,[0,1,2,4,7,9,10,13,15,17,19,21,23,25],[0.9583333333333333,0.945273631840796,0.9088795384178172,1.0,1.0,1.0,1.0,1.0,1.0,1.0,1.0,1.0,1.0,1.0])                               |[-7896.1354609075415,-41.1179213978588,18.379566464687997,0.2612542448510504,0.9898981163224646,0.9909830644402863,0.4215798517616588]        |[0.09111241232821055,0.4655906909174571,0.4826096620822471,0.701570358407354,0.5447697121276842,0.6353600540204671,0.35239666713067497]   |[-1.5604181358289018,2.2692224365337075,0.6227497641729253,-0.1096221000649403,0.49167248931251595,0.014779221600536288,0.21872848357356928]   |\n",
      "|No   |0.0       |(30,[0,1,2,4,5,6,7,8,28],[52.0,20.649999618530273,1022.9500122070312,1.0,1.0,1.0,1.0,1.0,1.0])                                                              |(30,[0,1,2,4,5,6,7,8,28],[0.7222222222222222,0.0238805932192067,0.1158723788960179,1.0,1.0,1.0,1.0,1.0,1.0])                                                                   |[-1023.5140626030063,8.287034389998368,43.625862329390124,0.031768363393996746,0.08510439404997587,0.9771842082566847,1.3955640658448312]     |[0.884093104873601,0.897325824218779,0.8142035907246202,0.6495827821590044,0.3313924834735512,0.6321237570230078,0.61673111249075]        |[0.159347238165141,-0.5003153640214948,-0.3766436599922992,-0.47564954818226585,0.7061089798347849,-0.7949788670551883,0.2001848461954059]     |\n",
      "|No   |0.0       |(30,[0,1,2,3,4,5,7,9,10,13,14,17,18,21,23,25,29],[71.0,106.69999694824219,7382.25,1.0,1.0,1.0,1.0,1.0,1.0,1.0,1.0,1.0,1.0,1.0,1.0,1.0,1.0])                 |(30,[0,1,2,3,4,5,7,9,10,13,14,17,18,21,23,25,29],[0.986111111111111,0.8800994721218128,0.8496942264101751,1.0,1.0,1.0,1.0,1.0,1.0,1.0,1.0,1.0,1.0,1.0,1.0,1.0,1.0])            |[-7383.236243347655,-36.331680827215386,23.365288397945015,-0.3343186855676882,0.19677397829100343,0.4389636193798503,1.189531783130368]      |[0.150292040184179,0.507416215863819,0.5480939268562569,0.5666496698882588,0.3577274876007502,0.5058928830594916,0.5608149812125206]      |[-0.5727441405873097,2.1949497639631455,0.27813465333334686,-0.4127047661162433,-0.6192604855429379,-0.2402279643778167,0.7315712560821198]    |\n",
      "|Yes  |1.0       |(30,[0,1,2,4,7,8,11,12,14,17,19,20,22,24],[10.0,55.20000076293945,528.3499755859375,1.0,1.0,1.0,1.0,1.0,1.0,1.0,1.0,1.0,1.0,1.0])                           |(30,[0,1,2,4,7,8,11,12,14,17,19,20,22,24],[0.1388888888888889,0.36766169913372587,0.05879875234112028,1.0,1.0,1.0,1.0,1.0,1.0,1.0,1.0,1.0,1.0,1.0])                            |[-528.8753650915495,-43.13494576274874,27.025861295286823,-0.7161923142214855,1.8145784561343035,0.3808486892201671,1.1731926452817865]       |[0.9411657870686583,0.4479645182155314,0.5961732076591275,0.48014027653985586,0.7392538261339529,0.4922629726175777,0.5563806209031678]   |[0.9905084157031547,0.2928681896432018,1.40391078222239,-1.0920210124172973,0.04865776201388552,0.38944569101265775,1.0372534378971872]        |\n",
      "|No   |0.0       |(30,[0,1,2,4,5,6,7,8,10,12,15,17,18,20,23,24,26,27],[21.0,90.05000305175781,1862.9000244140625,1.0,1.0,1.0,1.0,1.0,1.0,1.0,1.0,1.0,1.0,1.0,1.0,1.0,1.0,1.0])|(30,[0,1,2,4,5,6,7,8,10,12,15,17,18,20,23,24,26,27],[0.29166666666666663,0.7144278910622668,0.21279714592390875,1.0,1.0,1.0,1.0,1.0,1.0,1.0,1.0,1.0,1.0,1.0,1.0,1.0,1.0,1.0])  |[-1863.7218807855634,-64.50718557775028,36.46204740308332,-0.18793770065317117,0.2113363735560803,0.9171466945624587,1.3890176675336547]      |[0.7871477707818928,0.26119890617655916,0.7201114693214881,0.5998107191268198,0.36116173285216935,0.6180429359231799,0.6149544527239181]  |[1.3726758733423177,1.8205160511071088,-0.10548995015958984,-0.7229247415423743,1.7544674349400875,-0.24275672608135376,1.1606531171427226]    |\n",
      "+-----+----------+------------------------------------------------------------------------------------------------------------------------------------------------------------+-------------------------------------------------------------------------------------------------------------------------------------------------------------------------------+----------------------------------------------------------------------------------------------------------------------------------------------+------------------------------------------------------------------------------------------------------------------------------------------+-----------------------------------------------------------------------------------------------------------------------------------------------+\n",
      "only showing top 20 rows\n",
      "\n"
     ]
    }
   ],
   "source": [
    "pca_scaled_df.show(truncate=False)"
   ]
  },
  {
   "cell_type": "markdown",
   "metadata": {},
   "source": [
    "### Splitting data to train/test splits"
   ]
  },
  {
   "cell_type": "code",
   "execution_count": 25,
   "metadata": {},
   "outputs": [],
   "source": [
    "(train_data, test_data) = pca_scaled_df.randomSplit(weights=[0.7, 0.3], seed=420)"
   ]
  },
  {
   "cell_type": "code",
   "execution_count": 26,
   "metadata": {},
   "outputs": [
    {
     "name": "stdout",
     "output_type": "stream",
     "text": [
      "+-------+-----+-------------------+\n",
      "|summary|label|         labelIndex|\n",
      "+-------+-----+-------------------+\n",
      "|  count| 4840|               4840|\n",
      "|   mean| null|0.26776859504132233|\n",
      "| stddev| null| 0.4428420632218157|\n",
      "|    min|   No|                0.0|\n",
      "|    max|  Yes|                1.0|\n",
      "+-------+-----+-------------------+\n",
      "\n"
     ]
    }
   ],
   "source": [
    "train_data.describe().show()"
   ]
  },
  {
   "cell_type": "code",
   "execution_count": 27,
   "metadata": {},
   "outputs": [
    {
     "name": "stdout",
     "output_type": "stream",
     "text": [
      "+-------+-----+-------------------+\n",
      "|summary|label|         labelIndex|\n",
      "+-------+-----+-------------------+\n",
      "|  count| 2203|               2203|\n",
      "|   mean| null|0.26009986382206085|\n",
      "| stddev| null|0.43878847015331973|\n",
      "|    min|   No|                0.0|\n",
      "|    max|  Yes|                1.0|\n",
      "+-------+-----+-------------------+\n",
      "\n"
     ]
    }
   ],
   "source": [
    "test_data.describe().show()"
   ]
  },
  {
   "cell_type": "markdown",
   "metadata": {},
   "source": [
    "### Classifier model training (Grid Search with Cross Validation)"
   ]
  },
  {
   "cell_type": "markdown",
   "metadata": {},
   "source": [
    "### Model Evaluation \n",
    "\n",
    "#### Link to MulticlassClassificationEvaluator list of metric names:\n",
    "[link](https://spark.apache.org/docs/latest/api/python/pyspark.ml.html#pyspark.ml.evaluation.MulticlassClassificationEvaluator.metricName)"
   ]
  },
  {
   "cell_type": "code",
   "execution_count": 28,
   "metadata": {},
   "outputs": [],
   "source": [
    "# Test set evaluation code\n",
    "\n",
    "from pyspark.mllib.evaluation import MulticlassMetrics\n",
    "from pyspark.ml.evaluation import MulticlassClassificationEvaluator, BinaryClassificationEvaluator\n",
    "\n",
    "def evaluate_model(predictions):\n",
    "    # 1- Confusion Matrix calculation\n",
    "    #  taken from this stackoverflow post: https://stackoverflow.com/a/58405759/10086080\n",
    "    # select only prediction and label columns\n",
    "    preds_and_labels = predictions.select(['prediction', 'labelIndex'])\n",
    "    metrics = MulticlassMetrics(preds_and_labels.rdd.map(tuple))\n",
    "    print(\"Confusion Matrix:\\n{}\".format(metrics.confusionMatrix().toArray()))\n",
    "    \n",
    "    # 2- Accuracy metric calculation\n",
    "    evaluator = MulticlassClassificationEvaluator(labelCol=\"labelIndex\", predictionCol=\"prediction\", metricName=\"accuracy\")\n",
    "    accuracy = evaluator.evaluate(predictions)\n",
    "    print(\"Accuracy = {} \".format(accuracy))\n",
    "    \n",
    "    # 3- Weighted Precision metric calculation\n",
    "    evaluator = MulticlassClassificationEvaluator(labelCol=\"labelIndex\", predictionCol=\"prediction\", metricName=\"weightedPrecision\")\n",
    "    precision = evaluator.evaluate(predictions)\n",
    "    print(\"Weighted Precision = {}\".format(precision))\n",
    "    \n",
    "    \n",
    "    # 4- Weighted Recall metric calculation\n",
    "    evaluator = MulticlassClassificationEvaluator(labelCol=\"labelIndex\", predictionCol=\"prediction\", metricName=\"weightedRecall\")\n",
    "    recall = evaluator.evaluate(predictions)\n",
    "    print(\"Weighted Recall = {}\".format(recall))\n",
    "\n",
    "\n",
    "    # 5- F1-score metric calculation\n",
    "    evaluator = MulticlassClassificationEvaluator(labelCol=\"labelIndex\", predictionCol=\"prediction\", metricName=\"f1\")\n",
    "    f1 = evaluator.evaluate(predictions)\n",
    "    print(\"F1-score = {}\".format(f1))\n",
    "\n",
    "\n",
    "    # 6- Receiver Operating Characteristic Area Under Curve metric calculation\n",
    "    evaluator = BinaryClassificationEvaluator(labelCol=\"labelIndex\", rawPredictionCol=\"prediction\", metricName=\"areaUnderROC\")\n",
    "    roc_auc = evaluator.evaluate(predictions)\n",
    "    print(\"ROC AUC: {}\".format(roc_auc))"
   ]
  },
  {
   "cell_type": "markdown",
   "metadata": {},
   "source": [
    "### 1- Decision Tree Classifier Training"
   ]
  },
  {
   "cell_type": "code",
   "execution_count": 29,
   "metadata": {},
   "outputs": [],
   "source": [
    "from pyspark.ml.classification import DecisionTreeClassifier\n",
    "\n",
    "model = DecisionTreeClassifier(\n",
    "    labelCol=\"labelIndex\",\n",
    "    featuresCol=\"features\",\n",
    "    maxDepth=5,\n",
    "    maxBins=32\n",
    ")"
   ]
  },
  {
   "cell_type": "code",
   "execution_count": 30,
   "metadata": {},
   "outputs": [],
   "source": [
    "# Cross Validator takes a pipeline object containing the model not the model object itself\n",
    "pipeline = Pipeline(stages=[model])"
   ]
  },
  {
   "cell_type": "code",
   "execution_count": 31,
   "metadata": {},
   "outputs": [],
   "source": [
    "from pyspark.ml.tuning import ParamGridBuilder, CrossValidator\n",
    "\n",
    "param_grid = ParamGridBuilder() \\\n",
    "    .baseOn({model.labelCol: 'labelIndex'}) \\\n",
    "    .baseOn([model.predictionCol, 'prediction']) \\\n",
    "    .addGrid(model.maxDepth, [i for i in range(2, 10)]) \\\n",
    "    .addGrid(model.maxBins, [i for i in range(2, 60, 10)]) \\\n",
    "    .build()"
   ]
  },
  {
   "cell_type": "code",
   "execution_count": 32,
   "metadata": {},
   "outputs": [
    {
     "data": {
      "text/plain": [
       "48"
      ]
     },
     "execution_count": 32,
     "metadata": {},
     "output_type": "execute_result"
    }
   ],
   "source": [
    "len(param_grid)"
   ]
  },
  {
   "cell_type": "code",
   "execution_count": 33,
   "metadata": {},
   "outputs": [],
   "source": [
    "evaluator = MulticlassClassificationEvaluator(labelCol=\"labelIndex\", predictionCol=\"prediction\", metricName=\"accuracy\")"
   ]
  },
  {
   "cell_type": "code",
   "execution_count": 34,
   "metadata": {},
   "outputs": [],
   "source": [
    "import os\n",
    "\n",
    "cross_validator = CrossValidator(\n",
    "    estimator=pipeline,\n",
    "    estimatorParamMaps=param_grid,\n",
    "    evaluator=evaluator,\n",
    "    numFolds=10,\n",
    "    parallelism=os.cpu_count() # To parallelize over all available cpu cores\n",
    ")"
   ]
  },
  {
   "cell_type": "code",
   "execution_count": 35,
   "metadata": {},
   "outputs": [
    {
     "name": "stdout",
     "output_type": "stream",
     "text": [
      "CrossValidatorModel_a99d4f03ff2e\n"
     ]
    }
   ],
   "source": [
    "# Run cross validations\n",
    "cv_model = cross_validator.fit(train_data)\n",
    "print(cv_model)"
   ]
  },
  {
   "cell_type": "code",
   "execution_count": 36,
   "metadata": {},
   "outputs": [
    {
     "data": {
      "text/plain": [
       "48"
      ]
     },
     "execution_count": 36,
     "metadata": {},
     "output_type": "execute_result"
    }
   ],
   "source": [
    "len(cv_model.avgMetrics)"
   ]
  },
  {
   "cell_type": "code",
   "execution_count": 37,
   "metadata": {},
   "outputs": [
    {
     "data": {
      "text/plain": [
       "[0.7631323578478708,\n",
       " 0.7631323578478708,\n",
       " 0.7631323578478708,\n",
       " 0.7631323578478708,\n",
       " 0.7631323578478708,\n",
       " 0.7631323578478708,\n",
       " 0.7890916886440869,\n",
       " 0.790927449678486,\n",
       " 0.7899860830608412,\n",
       " 0.7904740425502396,\n",
       " 0.7897135592090105,\n",
       " 0.7874963536791563,\n",
       " 0.788878894851424,\n",
       " 0.790475786710366,\n",
       " 0.7915873858485531,\n",
       " 0.7912700745341136,\n",
       " 0.7900719544313968,\n",
       " 0.7880735672822865,\n",
       " 0.7805327111195519,\n",
       " 0.7911871340863054,\n",
       " 0.7882388603526967,\n",
       " 0.7912184278192747,\n",
       " 0.7883122347787409,\n",
       " 0.789116739391144,\n",
       " 0.7894785559910105,\n",
       " 0.7950869172899346,\n",
       " 0.7894557157951028,\n",
       " 0.7892809758226214,\n",
       " 0.7884561122973837,\n",
       " 0.7863986685792125,\n",
       " 0.7861619973145512,\n",
       " 0.7901557104389866,\n",
       " 0.785867492243902,\n",
       " 0.7809497914142868,\n",
       " 0.7775332511248546,\n",
       " 0.7834666823455486,\n",
       " 0.7747396994767599,\n",
       " 0.7742977205691088,\n",
       " 0.778281053792023,\n",
       " 0.7723838075031573,\n",
       " 0.7719209841755614,\n",
       " 0.7739901569223981,\n",
       " 0.7617379047647231,\n",
       " 0.7718613921641696,\n",
       " 0.774168519417617,\n",
       " 0.765606389302151,\n",
       " 0.7596434675629811,\n",
       " 0.7707353524744978]"
      ]
     },
     "execution_count": 37,
     "metadata": {},
     "output_type": "execute_result"
    }
   ],
   "source": [
    "cv_model.avgMetrics"
   ]
  },
  {
   "cell_type": "code",
   "execution_count": 38,
   "metadata": {},
   "outputs": [],
   "source": [
    "# Use test set here so we can measure the accuracy of our model on new data\n",
    "predictions = cv_model.transform(test_data)"
   ]
  },
  {
   "cell_type": "code",
   "execution_count": 39,
   "metadata": {},
   "outputs": [
    {
     "name": "stdout",
     "output_type": "stream",
     "text": [
      "Confusion Matrix:\n",
      "[[1397.  233.]\n",
      " [ 251.  322.]]\n",
      "Accuracy = 0.7802995914661824 \n",
      "Weighted Precision = 0.778113821197282\n",
      "Weighted Recall = 0.7802995914661826\n",
      "F1-score = 0.7791498669690166\n",
      "ROC AUC: 0.7095049197528881\n"
     ]
    }
   ],
   "source": [
    "evaluate_model(predictions)"
   ]
  },
  {
   "cell_type": "markdown",
   "metadata": {},
   "source": [
    "### Extacting best decision tree model from cross validator object"
   ]
  },
  {
   "cell_type": "code",
   "execution_count": 40,
   "metadata": {},
   "outputs": [],
   "source": [
    "best_model = cv_model.bestModel"
   ]
  },
  {
   "cell_type": "code",
   "execution_count": 41,
   "metadata": {},
   "outputs": [
    {
     "data": {
      "text/plain": [
       "[DecisionTreeClassificationModel: uid=DecisionTreeClassifier_55cc51418a95, depth=6, numNodes=59, numClasses=2, numFeatures=30]"
      ]
     },
     "execution_count": 41,
     "metadata": {},
     "output_type": "execute_result"
    }
   ],
   "source": [
    "best_model.stages"
   ]
  },
  {
   "cell_type": "code",
   "execution_count": 42,
   "metadata": {},
   "outputs": [],
   "source": [
    "best_model = best_model.stages[0]"
   ]
  },
  {
   "cell_type": "code",
   "execution_count": 43,
   "metadata": {},
   "outputs": [
    {
     "name": "stdout",
     "output_type": "stream",
     "text": [
      "DecisionTreeClassificationModel: uid=DecisionTreeClassifier_55cc51418a95, depth=6, numNodes=59, numClasses=2, numFeatures=30\n",
      "  If (feature 24 in {0.0})\n",
      "   If (feature 10 in {0.0})\n",
      "    If (feature 12 in {0.0})\n",
      "     Predict: 0.0\n",
      "    Else (feature 12 not in {0.0})\n",
      "     If (feature 25 in {1.0})\n",
      "      If (feature 27 in {0.0})\n",
      "       Predict: 0.0\n",
      "      Else (feature 27 not in {0.0})\n",
      "       If (feature 6 in {0.0})\n",
      "        Predict: 0.0\n",
      "       Else (feature 6 not in {0.0})\n",
      "        Predict: 1.0\n",
      "     Else (feature 25 not in {1.0})\n",
      "      Predict: 0.0\n",
      "   Else (feature 10 not in {0.0})\n",
      "    If (feature 25 in {1.0})\n",
      "     Predict: 0.0\n",
      "    Else (feature 25 not in {1.0})\n",
      "     If (feature 27 in {1.0})\n",
      "      If (feature 1 <= 104.375)\n",
      "       Predict: 0.0\n",
      "      Else (feature 1 > 104.375)\n",
      "       If (feature 6 in {0.0})\n",
      "        Predict: 0.0\n",
      "       Else (feature 6 not in {0.0})\n",
      "        Predict: 1.0\n",
      "     Else (feature 27 not in {1.0})\n",
      "      Predict: 0.0\n",
      "  Else (feature 24 not in {0.0})\n",
      "   If (feature 10 in {0.0})\n",
      "    If (feature 0 <= 4.5)\n",
      "     If (feature 18 in {0.0})\n",
      "      If (feature 0 <= 1.5)\n",
      "       If (feature 4 in {0.0})\n",
      "        Predict: 1.0\n",
      "       Else (feature 4 not in {0.0})\n",
      "        Predict: 0.0\n",
      "      Else (feature 0 > 1.5)\n",
      "       Predict: 0.0\n",
      "     Else (feature 18 not in {0.0})\n",
      "      If (feature 4 in {0.0})\n",
      "       Predict: 1.0\n",
      "      Else (feature 4 not in {0.0})\n",
      "       If (feature 26 in {0.0})\n",
      "        Predict: 0.0\n",
      "       Else (feature 26 not in {0.0})\n",
      "        Predict: 1.0\n",
      "    Else (feature 0 > 4.5)\n",
      "     If (feature 7 in {0.0})\n",
      "      If (feature 20 in {0.0})\n",
      "       If (feature 0 <= 21.5)\n",
      "        Predict: 1.0\n",
      "       Else (feature 0 > 21.5)\n",
      "        Predict: 0.0\n",
      "      Else (feature 20 not in {0.0})\n",
      "       Predict: 0.0\n",
      "     Else (feature 7 not in {0.0})\n",
      "      Predict: 0.0\n",
      "   Else (feature 10 not in {0.0})\n",
      "    If (feature 0 <= 14.5)\n",
      "     If (feature 0 <= 1.5)\n",
      "      If (feature 18 in {0.0})\n",
      "       If (feature 1 <= 77.32500076293945)\n",
      "        Predict: 0.0\n",
      "       Else (feature 1 > 77.32500076293945)\n",
      "        Predict: 1.0\n",
      "      Else (feature 18 not in {0.0})\n",
      "       Predict: 1.0\n",
      "     Else (feature 0 > 1.5)\n",
      "      If (feature 1 <= 84.07500076293945)\n",
      "       If (feature 12 in {0.0})\n",
      "        Predict: 0.0\n",
      "       Else (feature 12 not in {0.0})\n",
      "        Predict: 1.0\n",
      "      Else (feature 1 > 84.07500076293945)\n",
      "       Predict: 1.0\n",
      "    Else (feature 0 > 14.5)\n",
      "     If (feature 12 in {0.0})\n",
      "      Predict: 0.0\n",
      "     Else (feature 12 not in {0.0})\n",
      "      If (feature 8 in {1.0})\n",
      "       Predict: 0.0\n",
      "      Else (feature 8 not in {1.0})\n",
      "       If (feature 0 <= 54.5)\n",
      "        Predict: 1.0\n",
      "       Else (feature 0 > 54.5)\n",
      "        Predict: 0.0\n",
      "\n"
     ]
    }
   ],
   "source": [
    "print(best_model.toDebugString)"
   ]
  },
  {
   "cell_type": "code",
   "execution_count": 44,
   "metadata": {},
   "outputs": [
    {
     "data": {
      "text/plain": [
       "{Param(parent='DecisionTreeClassifier_55cc51418a95', name='featuresCol', doc='features column name.'): 'features',\n",
       " Param(parent='DecisionTreeClassifier_55cc51418a95', name='labelCol', doc='label column name.'): 'labelIndex',\n",
       " Param(parent='DecisionTreeClassifier_55cc51418a95', name='predictionCol', doc='prediction column name.'): 'prediction',\n",
       " Param(parent='DecisionTreeClassifier_55cc51418a95', name='probabilityCol', doc='Column name for predicted class conditional probabilities. Note: Not all models output well-calibrated probability estimates! These probabilities should be treated as confidences, not precise probabilities.'): 'probability',\n",
       " Param(parent='DecisionTreeClassifier_55cc51418a95', name='rawPredictionCol', doc='raw prediction (a.k.a. confidence) column name.'): 'rawPrediction',\n",
       " Param(parent='DecisionTreeClassifier_55cc51418a95', name='seed', doc='random seed.'): -8261018027168668045,\n",
       " Param(parent='DecisionTreeClassifier_55cc51418a95', name='cacheNodeIds', doc='If false, the algorithm will pass trees to executors to match instances with nodes. If true, the algorithm will cache node IDs for each instance. Caching can speed up training of deeper trees. Users can set how often should the cache be checkpointed or disable it by setting checkpointInterval.'): False,\n",
       " Param(parent='DecisionTreeClassifier_55cc51418a95', name='checkpointInterval', doc='set checkpoint interval (>= 1) or disable checkpoint (-1). E.g. 10 means that the cache will get checkpointed every 10 iterations. Note: this setting will be ignored if the checkpoint directory is not set in the SparkContext.'): 10,\n",
       " Param(parent='DecisionTreeClassifier_55cc51418a95', name='impurity', doc='Criterion used for information gain calculation (case-insensitive). Supported options: entropy, gini'): 'gini',\n",
       " Param(parent='DecisionTreeClassifier_55cc51418a95', name='leafCol', doc='Leaf indices column name. Predicted leaf index of each instance in each tree by preorder.'): '',\n",
       " Param(parent='DecisionTreeClassifier_55cc51418a95', name='maxBins', doc='Max number of bins for discretizing continuous features.  Must be >=2 and >= number of categories for any categorical feature.'): 12,\n",
       " Param(parent='DecisionTreeClassifier_55cc51418a95', name='maxDepth', doc='Maximum depth of the tree. (>= 0) E.g., depth 0 means 1 leaf node; depth 1 means 1 internal node + 2 leaf nodes.'): 6,\n",
       " Param(parent='DecisionTreeClassifier_55cc51418a95', name='maxMemoryInMB', doc='Maximum memory in MB allocated to histogram aggregation. If too small, then 1 node will be split per iteration, and its aggregates may exceed this size.'): 256,\n",
       " Param(parent='DecisionTreeClassifier_55cc51418a95', name='minInfoGain', doc='Minimum information gain for a split to be considered at a tree node.'): 0.0,\n",
       " Param(parent='DecisionTreeClassifier_55cc51418a95', name='minInstancesPerNode', doc='Minimum number of instances each child must have after split. If a split causes the left or right child to have fewer than minInstancesPerNode, the split will be discarded as invalid. Should be >= 1.'): 1,\n",
       " Param(parent='DecisionTreeClassifier_55cc51418a95', name='minWeightFractionPerNode', doc='Minimum fraction of the weighted sample count that each child must have after split. If a split causes the fraction of the total weight in the left or right child to be less than minWeightFractionPerNode, the split will be discarded as invalid. Should be in interval [0.0, 0.5).'): 0.0}"
      ]
     },
     "execution_count": 44,
     "metadata": {},
     "output_type": "execute_result"
    }
   ],
   "source": [
    "best_model.extractParamMap()"
   ]
  },
  {
   "cell_type": "code",
   "execution_count": 45,
   "metadata": {},
   "outputs": [],
   "source": [
    "best_model.save(\"decision-tree-classifier-model\")"
   ]
  },
  {
   "cell_type": "markdown",
   "metadata": {},
   "source": [
    "### 2- Random Forest Classifier Training"
   ]
  },
  {
   "cell_type": "code",
   "execution_count": 46,
   "metadata": {},
   "outputs": [],
   "source": [
    "from pyspark.ml.classification import RandomForestClassifier\n",
    "\n",
    "model = RandomForestClassifier(\n",
    "    labelCol=\"labelIndex\",\n",
    "    featuresCol=\"features\",\n",
    "    maxDepth=5,\n",
    "    maxBins=32,\n",
    "    impurity='gini',\n",
    "    numTrees=20\n",
    ")\n"
   ]
  },
  {
   "cell_type": "code",
   "execution_count": 47,
   "metadata": {},
   "outputs": [],
   "source": [
    "# Cross Validator takes a pipeline object containing the model not the model object itself\n",
    "pipeline = Pipeline(stages=[model])"
   ]
  },
  {
   "cell_type": "code",
   "execution_count": 48,
   "metadata": {},
   "outputs": [],
   "source": [
    "from pyspark.ml.tuning import ParamGridBuilder, CrossValidator\n",
    "\n",
    "param_grid = ParamGridBuilder() \\\n",
    "    .baseOn({model.labelCol: 'labelIndex'}) \\\n",
    "    .baseOn([model.predictionCol, 'prediction']) \\\n",
    "    .addGrid(model.maxDepth, [i for i in range(2, 10)]) \\\n",
    "    .addGrid(model.numTrees, [i for i in range(20, 1000, 100)]) \\\n",
    "    .build()"
   ]
  },
  {
   "cell_type": "code",
   "execution_count": 49,
   "metadata": {},
   "outputs": [
    {
     "data": {
      "text/plain": [
       "80"
      ]
     },
     "execution_count": 49,
     "metadata": {},
     "output_type": "execute_result"
    }
   ],
   "source": [
    "len(param_grid)"
   ]
  },
  {
   "cell_type": "code",
   "execution_count": 50,
   "metadata": {},
   "outputs": [],
   "source": [
    "evaluator = MulticlassClassificationEvaluator(labelCol=\"labelIndex\", predictionCol=\"prediction\", metricName=\"accuracy\")"
   ]
  },
  {
   "cell_type": "code",
   "execution_count": 51,
   "metadata": {},
   "outputs": [],
   "source": [
    "import os\n",
    "\n",
    "cross_validator = CrossValidator(\n",
    "    estimator=pipeline,\n",
    "    estimatorParamMaps=param_grid,\n",
    "    evaluator=evaluator,\n",
    "    numFolds=10,\n",
    "    parallelism=os.cpu_count() # To parallelize over all available cpu cores\n",
    ")"
   ]
  },
  {
   "cell_type": "code",
   "execution_count": 52,
   "metadata": {},
   "outputs": [
    {
     "name": "stdout",
     "output_type": "stream",
     "text": [
      "CrossValidatorModel_b732c016b3d8\n"
     ]
    }
   ],
   "source": [
    "# Run cross validations\n",
    "cv_model = cross_validator.fit(train_data)\n",
    "print(cv_model)"
   ]
  },
  {
   "cell_type": "code",
   "execution_count": 53,
   "metadata": {},
   "outputs": [
    {
     "data": {
      "text/plain": [
       "80"
      ]
     },
     "execution_count": 53,
     "metadata": {},
     "output_type": "execute_result"
    }
   ],
   "source": [
    "len(cv_model.avgMetrics)"
   ]
  },
  {
   "cell_type": "code",
   "execution_count": 54,
   "metadata": {},
   "outputs": [
    {
     "data": {
      "text/plain": [
       "[0.7393581105782508,\n",
       " 0.7323980218317236,\n",
       " 0.7326033606407585,\n",
       " 0.7326033606407585,\n",
       " 0.7323980218317236,\n",
       " 0.7334111090883476,\n",
       " 0.7334247158768982,\n",
       " 0.7334247158768982,\n",
       " 0.7336164478973825,\n",
       " 0.7332193770678632,\n",
       " 0.7868829917127993,\n",
       " 0.7837931334137804,\n",
       " 0.7852265648058037,\n",
       " 0.7848100476775836,\n",
       " 0.7858406804586149,\n",
       " 0.784175034985595,\n",
       " 0.7847596031178575,\n",
       " 0.7843735216151526,\n",
       " 0.7860012957905593,\n",
       " 0.7845759095898795,\n",
       " 0.7904795802375831,\n",
       " 0.7869689470266863,\n",
       " 0.7884496228330716,\n",
       " 0.7878028788983541,\n",
       " 0.7883933902876037,\n",
       " 0.7870285416981261,\n",
       " 0.7877897033665494,\n",
       " 0.7886416711492491,\n",
       " 0.7882392427029972,\n",
       " 0.7877612867077027,\n",
       " 0.7930302948240087,\n",
       " 0.7917568994643117,\n",
       " 0.791232199954169,\n",
       " 0.7916503585228633,\n",
       " 0.7914567114358203,\n",
       " 0.7908767147293307,\n",
       " 0.7920982820921977,\n",
       " 0.7912379623514117,\n",
       " 0.7924543312170587,\n",
       " 0.790842688708978,\n",
       " 0.7939031692435685,\n",
       " 0.7977998971035519,\n",
       " 0.797193502684513,\n",
       " 0.7986287462107655,\n",
       " 0.795091533901224,\n",
       " 0.7957642625031853,\n",
       " 0.7964410792987153,\n",
       " 0.7965099278787087,\n",
       " 0.7982639075394089,\n",
       " 0.7968394190692957,\n",
       " 0.7965636957261584,\n",
       " 0.7990495395712927,\n",
       " 0.8001104465812097,\n",
       " 0.8014644339752356,\n",
       " 0.8005864674522044,\n",
       " 0.8019243185503978,\n",
       " 0.8013055850851443,\n",
       " 0.801520333158447,\n",
       " 0.8014846814557882,\n",
       " 0.8013993741636442,\n",
       " 0.7986618157022903,\n",
       " 0.8005820350163437,\n",
       " 0.8030508191202589,\n",
       " 0.8015156549281713,\n",
       " 0.801114848569952,\n",
       " 0.8016750197540506,\n",
       " 0.8024380934793851,\n",
       " 0.8005503860326016,\n",
       " 0.803210295137437,\n",
       " 0.8032268043230285,\n",
       " 0.7943983758678457,\n",
       " 0.7999529191924158,\n",
       " 0.8014688409261324,\n",
       " 0.7989522680208242,\n",
       " 0.798377055177141,\n",
       " 0.7994695731038437,\n",
       " 0.7999351854687803,\n",
       " 0.8011296783183807,\n",
       " 0.7988496285157719,\n",
       " 0.800300179429591]"
      ]
     },
     "execution_count": 54,
     "metadata": {},
     "output_type": "execute_result"
    }
   ],
   "source": [
    "cv_model.avgMetrics"
   ]
  },
  {
   "cell_type": "code",
   "execution_count": 55,
   "metadata": {},
   "outputs": [],
   "source": [
    "# Use test set here so we can measure the accuracy of our model on new data\n",
    "predictions = cv_model.transform(test_data)"
   ]
  },
  {
   "cell_type": "code",
   "execution_count": 56,
   "metadata": {},
   "outputs": [
    {
     "name": "stdout",
     "output_type": "stream",
     "text": [
      "Confusion Matrix:\n",
      "[[1482.  148.]\n",
      " [ 289.  284.]]\n",
      "Accuracy = 0.8016341352700862 \n",
      "Weighted Precision = 0.7901513748925381\n",
      "Weighted Recall = 0.8016341352700862\n",
      "F1-score = 0.7918308830400727\n",
      "ROC AUC: 0.7024197261212646\n"
     ]
    }
   ],
   "source": [
    "evaluate_model(predictions)"
   ]
  },
  {
   "cell_type": "markdown",
   "metadata": {},
   "source": [
    "### Extacting best random forest model from cross validator object"
   ]
  },
  {
   "cell_type": "code",
   "execution_count": 57,
   "metadata": {},
   "outputs": [],
   "source": [
    "best_model = cv_model.bestModel"
   ]
  },
  {
   "cell_type": "code",
   "execution_count": 58,
   "metadata": {},
   "outputs": [
    {
     "data": {
      "text/plain": [
       "[RandomForestClassificationModel: uid=RandomForestClassifier_158fd6691144, numTrees=920, numClasses=2, numFeatures=30]"
      ]
     },
     "execution_count": 58,
     "metadata": {},
     "output_type": "execute_result"
    }
   ],
   "source": [
    "best_model.stages"
   ]
  },
  {
   "cell_type": "code",
   "execution_count": 59,
   "metadata": {},
   "outputs": [],
   "source": [
    "best_model = best_model.stages[0]"
   ]
  },
  {
   "cell_type": "code",
   "execution_count": 60,
   "metadata": {},
   "outputs": [
    {
     "data": {
      "text/plain": [
       "{Param(parent='RandomForestClassifier_158fd6691144', name='featuresCol', doc='features column name.'): 'features',\n",
       " Param(parent='RandomForestClassifier_158fd6691144', name='labelCol', doc='label column name.'): 'labelIndex',\n",
       " Param(parent='RandomForestClassifier_158fd6691144', name='predictionCol', doc='prediction column name.'): 'prediction',\n",
       " Param(parent='RandomForestClassifier_158fd6691144', name='probabilityCol', doc='Column name for predicted class conditional probabilities. Note: Not all models output well-calibrated probability estimates! These probabilities should be treated as confidences, not precise probabilities.'): 'probability',\n",
       " Param(parent='RandomForestClassifier_158fd6691144', name='rawPredictionCol', doc='raw prediction (a.k.a. confidence) column name.'): 'rawPrediction',\n",
       " Param(parent='RandomForestClassifier_158fd6691144', name='seed', doc='random seed.'): -5301201987066789725,\n",
       " Param(parent='RandomForestClassifier_158fd6691144', name='bootstrap', doc='Whether bootstrap samples are used when building trees.'): True,\n",
       " Param(parent='RandomForestClassifier_158fd6691144', name='cacheNodeIds', doc='If false, the algorithm will pass trees to executors to match instances with nodes. If true, the algorithm will cache node IDs for each instance. Caching can speed up training of deeper trees. Users can set how often should the cache be checkpointed or disable it by setting checkpointInterval.'): False,\n",
       " Param(parent='RandomForestClassifier_158fd6691144', name='checkpointInterval', doc='set checkpoint interval (>= 1) or disable checkpoint (-1). E.g. 10 means that the cache will get checkpointed every 10 iterations. Note: this setting will be ignored if the checkpoint directory is not set in the SparkContext.'): 10,\n",
       " Param(parent='RandomForestClassifier_158fd6691144', name='featureSubsetStrategy', doc=\"The number of features to consider for splits at each tree node. Supported options: 'auto' (choose automatically for task: If numTrees == 1, set to 'all'. If numTrees > 1 (forest), set to 'sqrt' for classification and to 'onethird' for regression), 'all' (use all features), 'onethird' (use 1/3 of the features), 'sqrt' (use sqrt(number of features)), 'log2' (use log2(number of features)), 'n' (when n is in the range (0, 1.0], use n * number of features. When n is in the range (1, number of features), use n features). default = 'auto'\"): 'auto',\n",
       " Param(parent='RandomForestClassifier_158fd6691144', name='impurity', doc='Criterion used for information gain calculation (case-insensitive). Supported options: entropy, gini'): 'gini',\n",
       " Param(parent='RandomForestClassifier_158fd6691144', name='leafCol', doc='Leaf indices column name. Predicted leaf index of each instance in each tree by preorder.'): '',\n",
       " Param(parent='RandomForestClassifier_158fd6691144', name='maxBins', doc='Max number of bins for discretizing continuous features.  Must be >=2 and >= number of categories for any categorical feature.'): 32,\n",
       " Param(parent='RandomForestClassifier_158fd6691144', name='maxDepth', doc='Maximum depth of the tree. (>= 0) E.g., depth 0 means 1 leaf node; depth 1 means 1 internal node + 2 leaf nodes.'): 8,\n",
       " Param(parent='RandomForestClassifier_158fd6691144', name='maxMemoryInMB', doc='Maximum memory in MB allocated to histogram aggregation. If too small, then 1 node will be split per iteration, and its aggregates may exceed this size.'): 256,\n",
       " Param(parent='RandomForestClassifier_158fd6691144', name='minInfoGain', doc='Minimum information gain for a split to be considered at a tree node.'): 0.0,\n",
       " Param(parent='RandomForestClassifier_158fd6691144', name='minInstancesPerNode', doc='Minimum number of instances each child must have after split. If a split causes the left or right child to have fewer than minInstancesPerNode, the split will be discarded as invalid. Should be >= 1.'): 1,\n",
       " Param(parent='RandomForestClassifier_158fd6691144', name='minWeightFractionPerNode', doc='Minimum fraction of the weighted sample count that each child must have after split. If a split causes the fraction of the total weight in the left or right child to be less than minWeightFractionPerNode, the split will be discarded as invalid. Should be in interval [0.0, 0.5).'): 0.0,\n",
       " Param(parent='RandomForestClassifier_158fd6691144', name='numTrees', doc='Number of trees to train (>= 1).'): 920,\n",
       " Param(parent='RandomForestClassifier_158fd6691144', name='subsamplingRate', doc='Fraction of the training data used for learning each decision tree, in range (0, 1].'): 1.0}"
      ]
     },
     "execution_count": 60,
     "metadata": {},
     "output_type": "execute_result"
    }
   ],
   "source": [
    "best_model.extractParamMap()"
   ]
  },
  {
   "cell_type": "code",
   "execution_count": 61,
   "metadata": {},
   "outputs": [],
   "source": [
    "best_model.save(\"random-forest-classifier-model\")"
   ]
  },
  {
   "cell_type": "markdown",
   "metadata": {},
   "source": [
    "### 3- Gradient-Boosted Tree Classifier Training"
   ]
  },
  {
   "cell_type": "code",
   "execution_count": 62,
   "metadata": {},
   "outputs": [],
   "source": [
    "from pyspark.ml.classification import GBTClassifier\n",
    "\n",
    "model = GBTClassifier(\n",
    "    labelCol=\"labelIndex\",\n",
    "    featuresCol=\"features\",\n",
    "    maxDepth=5,\n",
    "    maxBins=32,\n",
    "    maxIter=20\n",
    ")"
   ]
  },
  {
   "cell_type": "code",
   "execution_count": 63,
   "metadata": {},
   "outputs": [],
   "source": [
    "# Cross Validator takes a pipeline object containing the model not the model object itself\n",
    "pipeline = Pipeline(stages=[model])"
   ]
  },
  {
   "cell_type": "code",
   "execution_count": 64,
   "metadata": {},
   "outputs": [],
   "source": [
    "from pyspark.ml.tuning import ParamGridBuilder, CrossValidator\n",
    "\n",
    "param_grid = ParamGridBuilder() \\\n",
    "    .baseOn({model.labelCol: 'labelIndex'}) \\\n",
    "    .baseOn([model.predictionCol, 'prediction']) \\\n",
    "    .addGrid(model.maxDepth, [i for i in range(2, 10)]) \\\n",
    "    .addGrid(model.maxBins, [i for i in range(2, 60, 10)]) \\\n",
    "    .addGrid(model.maxIter, [i for i in range(20, 50, 10)]) \\\n",
    "    .build()"
   ]
  },
  {
   "cell_type": "code",
   "execution_count": 65,
   "metadata": {},
   "outputs": [
    {
     "data": {
      "text/plain": [
       "144"
      ]
     },
     "execution_count": 65,
     "metadata": {},
     "output_type": "execute_result"
    }
   ],
   "source": [
    "len(param_grid)"
   ]
  },
  {
   "cell_type": "code",
   "execution_count": 66,
   "metadata": {},
   "outputs": [],
   "source": [
    "evaluator = MulticlassClassificationEvaluator(labelCol=\"labelIndex\", predictionCol=\"prediction\", metricName=\"accuracy\")"
   ]
  },
  {
   "cell_type": "code",
   "execution_count": 67,
   "metadata": {},
   "outputs": [],
   "source": [
    "import os\n",
    "\n",
    "cross_validator = CrossValidator(\n",
    "    estimator=pipeline,\n",
    "    estimatorParamMaps=param_grid,\n",
    "    evaluator=evaluator,\n",
    "    numFolds=10,\n",
    "    parallelism=os.cpu_count() # To parallelize over all available cpu cores\n",
    ")"
   ]
  },
  {
   "cell_type": "code",
   "execution_count": 68,
   "metadata": {},
   "outputs": [
    {
     "name": "stdout",
     "output_type": "stream",
     "text": [
      "CrossValidatorModel_065adbba224a\n"
     ]
    }
   ],
   "source": [
    "# Run cross validations\n",
    "cv_model = cross_validator.fit(train_data)\n",
    "print(cv_model)"
   ]
  },
  {
   "cell_type": "code",
   "execution_count": 69,
   "metadata": {},
   "outputs": [
    {
     "data": {
      "text/plain": [
       "144"
      ]
     },
     "execution_count": 69,
     "metadata": {},
     "output_type": "execute_result"
    }
   ],
   "source": [
    "len(cv_model.avgMetrics)"
   ]
  },
  {
   "cell_type": "code",
   "execution_count": 70,
   "metadata": {},
   "outputs": [
    {
     "data": {
      "text/plain": [
       "[0.7988420159141156,\n",
       " 0.8005716109277525,\n",
       " 0.8001880067470416,\n",
       " 0.8000464981893077,\n",
       " 0.8029523280617551,\n",
       " 0.8050606315586472,\n",
       " 0.8007941270083256,\n",
       " 0.8051499184946485,\n",
       " 0.8036430978507708,\n",
       " 0.8014542013491762,\n",
       " 0.8037571834671158,\n",
       " 0.8038470676131837,\n",
       " 0.8015720570487157,\n",
       " 0.8031623743684657,\n",
       " 0.801936097043514,\n",
       " 0.7986630901556108,\n",
       " 0.8009184278516945,\n",
       " 0.8017582938020835,\n",
       " 0.7976047878931172,\n",
       " 0.7993776953024826,\n",
       " 0.8026522378641404,\n",
       " 0.8024921092357834,\n",
       " 0.804794218076331,\n",
       " 0.8063965419148367,\n",
       " 0.8027648355787715,\n",
       " 0.804211257695062,\n",
       " 0.8058676269261092,\n",
       " 0.802229056721442,\n",
       " 0.8030435764795005,\n",
       " 0.803091183431123,\n",
       " 0.803148901862717,\n",
       " 0.8060585728740209,\n",
       " 0.806508313785862,\n",
       " 0.8033924879539822,\n",
       " 0.8037958634834178,\n",
       " 0.8023473707224292,\n",
       " 0.7990206814248202,\n",
       " 0.8005458730351216,\n",
       " 0.7989272577718053,\n",
       " 0.8050371394854717,\n",
       " 0.8046692127246012,\n",
       " 0.8030345010949302,\n",
       " 0.8028766161246249,\n",
       " 0.8034857839571689,\n",
       " 0.8023975857677861,\n",
       " 0.8021279305636848,\n",
       " 0.801440738985924,\n",
       " 0.8021932042280976,\n",
       " 0.8011387808127581,\n",
       " 0.8030502992614689,\n",
       " 0.8014296223230577,\n",
       " 0.8022101029913772,\n",
       " 0.8025008404077176,\n",
       " 0.80137468463214,\n",
       " 0.793345730743328,\n",
       " 0.7950550387291007,\n",
       " 0.7941981599422087,\n",
       " 0.8031213498444792,\n",
       " 0.799797181592188,\n",
       " 0.7971291377362842,\n",
       " 0.800216570176727,\n",
       " 0.7978036929076783,\n",
       " 0.798073271491771,\n",
       " 0.8020952065466401,\n",
       " 0.7978670629291205,\n",
       " 0.7983815515330162,\n",
       " 0.8001338592990073,\n",
       " 0.798159190984543,\n",
       " 0.7982738878060741,\n",
       " 0.7981136745394969,\n",
       " 0.797584098701814,\n",
       " 0.7969881612478781,\n",
       " 0.7927488197644388,\n",
       " 0.7885637499751288,\n",
       " 0.7877272655541891,\n",
       " 0.7988326613855838,\n",
       " 0.7979293955025258,\n",
       " 0.7941613902748963,\n",
       " 0.7943560360375812,\n",
       " 0.794481151466629,\n",
       " 0.7911923129350271,\n",
       " 0.7897330331035141,\n",
       " 0.78731292485477,\n",
       " 0.7898802724287168,\n",
       " 0.7927181038495442,\n",
       " 0.7897436628774246,\n",
       " 0.7848080427906929,\n",
       " 0.7926041094503093,\n",
       " 0.7912645441266827,\n",
       " 0.7902520481795464,\n",
       " 0.7805786023047079,\n",
       " 0.7801123046901624,\n",
       " 0.7785557850236606,\n",
       " 0.7906339650825361,\n",
       " 0.786519641671709,\n",
       " 0.7848982992699747,\n",
       " 0.78888259753683,\n",
       " 0.7815171753627692,\n",
       " 0.7787292067345609,\n",
       " 0.7816510056995009,\n",
       " 0.7804942764120333,\n",
       " 0.7812254131057269,\n",
       " 0.7821457903853688,\n",
       " 0.7826822828529254,\n",
       " 0.780717786054289,\n",
       " 0.7896140354985988,\n",
       " 0.7855564773146841,\n",
       " 0.7821254710233707,\n",
       " 0.7671454612323778,\n",
       " 0.7637836579563827,\n",
       " 0.760744357186063,\n",
       " 0.7773648246425777,\n",
       " 0.7769303713075837,\n",
       " 0.7736900879276544,\n",
       " 0.7740800903820115,\n",
       " 0.7724385224164554,\n",
       " 0.7747781710175765,\n",
       " 0.773563241673938,\n",
       " 0.7747423283672181,\n",
       " 0.7725386859760488,\n",
       " 0.7661740181688986,\n",
       " 0.7668874416998622,\n",
       " 0.7662287582580993,\n",
       " 0.7707919265941618,\n",
       " 0.7668683020024734,\n",
       " 0.7655407975316029,\n",
       " 0.7616171281356997,\n",
       " 0.7576300457602496,\n",
       " 0.7542949597605706,\n",
       " 0.7674380608120447,\n",
       " 0.7656482920908801,\n",
       " 0.7664948311258403,\n",
       " 0.7661306932199565,\n",
       " 0.7641447063524791,\n",
       " 0.7634520754072578,\n",
       " 0.7651060016542579,\n",
       " 0.7656343697460404,\n",
       " 0.7615169606492296,\n",
       " 0.7619297984608523,\n",
       " 0.7604834218951373,\n",
       " 0.7583760229887362,\n",
       " 0.7642638619588279,\n",
       " 0.7641661447248626,\n",
       " 0.762586357464038]"
      ]
     },
     "execution_count": 70,
     "metadata": {},
     "output_type": "execute_result"
    }
   ],
   "source": [
    "cv_model.avgMetrics"
   ]
  },
  {
   "cell_type": "code",
   "execution_count": 71,
   "metadata": {},
   "outputs": [],
   "source": [
    "# Use test set here so we can measure the accuracy of our model on new data\n",
    "predictions = cv_model.transform(test_data)"
   ]
  },
  {
   "cell_type": "code",
   "execution_count": 72,
   "metadata": {},
   "outputs": [
    {
     "name": "stdout",
     "output_type": "stream",
     "text": [
      "Confusion Matrix:\n",
      "[[1481.  149.]\n",
      " [ 287.  286.]]\n",
      "Accuracy = 0.802088061733999 \n",
      "Weighted Precision = 0.7908000990436523\n",
      "Weighted Recall = 0.8020880617339992\n",
      "F1-score = 0.7925593305068748\n",
      "ROC AUC: 0.7038581783530873\n"
     ]
    }
   ],
   "source": [
    "evaluate_model(predictions)"
   ]
  },
  {
   "cell_type": "markdown",
   "metadata": {},
   "source": [
    "### Extacting best gradient-boosted tree model from cross validator object"
   ]
  },
  {
   "cell_type": "code",
   "execution_count": 73,
   "metadata": {},
   "outputs": [],
   "source": [
    "best_model = cv_model.bestModel"
   ]
  },
  {
   "cell_type": "code",
   "execution_count": 74,
   "metadata": {},
   "outputs": [
    {
     "data": {
      "text/plain": [
       "[GBTClassificationModel: uid = GBTClassifier_12584360e5bb, numTrees=40, numClasses=2, numFeatures=30]"
      ]
     },
     "execution_count": 74,
     "metadata": {},
     "output_type": "execute_result"
    }
   ],
   "source": [
    "best_model.stages"
   ]
  },
  {
   "cell_type": "code",
   "execution_count": 75,
   "metadata": {},
   "outputs": [],
   "source": [
    "best_model = best_model.stages[0]"
   ]
  },
  {
   "cell_type": "code",
   "execution_count": 76,
   "metadata": {},
   "outputs": [
    {
     "name": "stdout",
     "output_type": "stream",
     "text": [
      "GBTClassificationModel: uid = GBTClassifier_12584360e5bb, numTrees=40, numClasses=2, numFeatures=30\n",
      "  Tree 0 (weight 1.0):\n",
      "    If (feature 24 in {0.0})\n",
      "     If (feature 10 in {0.0})\n",
      "      If (feature 12 in {0.0})\n",
      "       Predict: -0.9600638977635783\n",
      "      Else (feature 12 not in {0.0})\n",
      "       Predict: -0.8074074074074075\n",
      "     Else (feature 10 not in {0.0})\n",
      "      If (feature 25 in {1.0})\n",
      "       Predict: -0.8733333333333333\n",
      "      Else (feature 25 not in {1.0})\n",
      "       Predict: -0.5885714285714285\n",
      "    Else (feature 24 not in {0.0})\n",
      "     If (feature 10 in {0.0})\n",
      "      If (feature 0 <= 3.5)\n",
      "       Predict: -0.11594202898550725\n",
      "      Else (feature 0 > 3.5)\n",
      "       Predict: -0.6020942408376964\n",
      "     Else (feature 10 not in {0.0})\n",
      "      If (feature 0 <= 14.5)\n",
      "       Predict: 0.41007194244604317\n",
      "      Else (feature 0 > 14.5)\n",
      "       Predict: -0.17232704402515722\n",
      "  Tree 1 (weight 0.1):\n",
      "    If (feature 12 in {0.0})\n",
      "     If (feature 27 in {0.0})\n",
      "      If (feature 2 <= 24.425000190734863)\n",
      "       Predict: -0.19883901697865397\n",
      "      Else (feature 2 > 24.425000190734863)\n",
      "       Predict: -0.48085755028145716\n",
      "     Else (feature 27 not in {0.0})\n",
      "      If (feature 11 in {0.0})\n",
      "       Predict: -0.3455286659071758\n",
      "      Else (feature 11 not in {0.0})\n",
      "       Predict: 0.09566219453613059\n",
      "    Else (feature 12 not in {0.0})\n",
      "     If (feature 0 <= 1.5)\n",
      "      If (feature 18 in {0.0})\n",
      "       Predict: -0.003730749325176649\n",
      "      Else (feature 18 not in {0.0})\n",
      "       Predict: 0.7591452655404374\n",
      "     Else (feature 0 > 1.5)\n",
      "      If (feature 8 in {1.0})\n",
      "       Predict: -0.2726660456839159\n",
      "      Else (feature 8 not in {1.0})\n",
      "       Predict: 0.15629375954123945\n",
      "  Tree 2 (weight 0.1):\n",
      "    If (feature 27 in {0.0})\n",
      "     If (feature 12 in {0.0})\n",
      "      If (feature 23 in {0.0})\n",
      "       Predict: -0.4516731779613794\n",
      "      Else (feature 23 not in {0.0})\n",
      "       Predict: -0.3186889159036301\n",
      "     Else (feature 12 not in {0.0})\n",
      "      If (feature 2 <= 207.375)\n",
      "       Predict: 0.33406308294759923\n",
      "      Else (feature 2 > 207.375)\n",
      "       Predict: -0.22969611471859339\n",
      "    Else (feature 27 not in {0.0})\n",
      "     If (feature 18 in {0.0})\n",
      "      If (feature 14 in {0.0})\n",
      "       Predict: -0.3470041752968196\n",
      "      Else (feature 14 not in {0.0})\n",
      "       Predict: 0.02631862398707275\n",
      "     Else (feature 18 not in {0.0})\n",
      "      If (feature 7 in {1.0})\n",
      "       Predict: 0.2111021149555079\n",
      "      Else (feature 7 not in {1.0})\n",
      "       Predict: 0.9895290397221939\n",
      "  Tree 3 (weight 0.1):\n",
      "    If (feature 12 in {0.0})\n",
      "     If (feature 27 in {0.0})\n",
      "      If (feature 2 <= 24.425000190734863)\n",
      "       Predict: -0.07448315988607804\n",
      "      Else (feature 2 > 24.425000190734863)\n",
      "       Predict: -0.3857900307050223\n",
      "     Else (feature 27 not in {0.0})\n",
      "      If (feature 11 in {0.0})\n",
      "       Predict: -0.29173533180094013\n",
      "      Else (feature 11 not in {0.0})\n",
      "       Predict: 0.05898636777954979\n",
      "    Else (feature 12 not in {0.0})\n",
      "     If (feature 18 in {0.0})\n",
      "      If (feature 0 <= 49.5)\n",
      "       Predict: -0.10093238112755536\n",
      "      Else (feature 0 > 49.5)\n",
      "       Predict: -0.5058791816416617\n",
      "     Else (feature 18 not in {0.0})\n",
      "      If (feature 22 in {1.0})\n",
      "       Predict: 0.004594876066900493\n",
      "      Else (feature 22 not in {1.0})\n",
      "       Predict: 0.360363743959793\n",
      "  Tree 4 (weight 0.1):\n",
      "    If (feature 27 in {0.0})\n",
      "     If (feature 18 in {0.0})\n",
      "      If (feature 2 <= 24.425000190734863)\n",
      "       Predict: -0.06042010003840734\n",
      "      Else (feature 2 > 24.425000190734863)\n",
      "       Predict: -0.34798275183426386\n",
      "     Else (feature 18 not in {0.0})\n",
      "      If (feature 2 <= 155.8499984741211)\n",
      "       Predict: 0.31807718116360534\n",
      "      Else (feature 2 > 155.8499984741211)\n",
      "       Predict: -0.19657253848825498\n",
      "    Else (feature 27 not in {0.0})\n",
      "     If (feature 0 <= 1.5)\n",
      "      If (feature 1 <= 19.824999809265137)\n",
      "       Predict: -0.9110445300371829\n",
      "      Else (feature 1 > 19.824999809265137)\n",
      "       Predict: 0.6511716916444703\n",
      "     Else (feature 0 > 1.5)\n",
      "      If (feature 8 in {1.0})\n",
      "       Predict: -0.17204859400416855\n",
      "      Else (feature 8 not in {1.0})\n",
      "       Predict: 0.19651779999758173\n",
      "  Tree 5 (weight 0.1):\n",
      "    If (feature 12 in {0.0})\n",
      "     If (feature 14 in {0.0})\n",
      "      If (feature 2 <= 24.425000190734863)\n",
      "       Predict: -0.020976324788203025\n",
      "      Else (feature 2 > 24.425000190734863)\n",
      "       Predict: -0.34120497100476793\n",
      "     Else (feature 14 not in {0.0})\n",
      "      If (feature 4 in {1.0})\n",
      "       Predict: -0.2142146783864032\n",
      "      Else (feature 4 not in {1.0})\n",
      "       Predict: 0.26530173733079454\n",
      "    Else (feature 12 not in {0.0})\n",
      "     If (feature 27 in {0.0})\n",
      "      If (feature 0 <= 49.5)\n",
      "       Predict: -0.0018756671376812257\n",
      "      Else (feature 0 > 49.5)\n",
      "       Predict: -0.40207743059967893\n",
      "     Else (feature 27 not in {0.0})\n",
      "      If (feature 1 <= 49.10000038146973)\n",
      "       Predict: 0.6841749933163459\n",
      "      Else (feature 1 > 49.10000038146973)\n",
      "       Predict: 0.1262569081477464\n",
      "  Tree 6 (weight 0.1):\n",
      "    If (feature 18 in {0.0})\n",
      "     If (feature 25 in {1.0})\n",
      "      If (feature 1 <= 90.67499923706055)\n",
      "       Predict: -0.34190365103543807\n",
      "      Else (feature 1 > 90.67499923706055)\n",
      "       Predict: -0.2595448440091075\n",
      "     Else (feature 25 not in {1.0})\n",
      "      If (feature 2 <= 7562.449951171875)\n",
      "       Predict: -0.2161189131859305\n",
      "      Else (feature 2 > 7562.449951171875)\n",
      "       Predict: 1.5853928541206757\n",
      "    Else (feature 18 not in {0.0})\n",
      "     If (feature 26 in {0.0})\n",
      "      If (feature 1 <= 59.82499885559082)\n",
      "       Predict: 0.00627773438233238\n",
      "      Else (feature 1 > 59.82499885559082)\n",
      "       Predict: -0.32146005247585147\n",
      "     Else (feature 26 not in {0.0})\n",
      "      If (feature 22 in {1.0})\n",
      "       Predict: -0.01877753619291611\n",
      "      Else (feature 22 not in {1.0})\n",
      "       Predict: 0.30801045984640585\n",
      "  Tree 7 (weight 0.1):\n",
      "    If (feature 12 in {0.0})\n",
      "     If (feature 1 <= 99.17499923706055)\n",
      "      If (feature 10 in {1.0})\n",
      "       Predict: -0.5055685052837006\n",
      "      Else (feature 10 not in {1.0})\n",
      "       Predict: -0.22887472381508112\n",
      "     Else (feature 1 > 99.17499923706055)\n",
      "      If (feature 0 <= 58.5)\n",
      "       Predict: 0.34443735166217865\n",
      "      Else (feature 0 > 58.5)\n",
      "       Predict: -0.31189624026698803\n",
      "    Else (feature 12 not in {0.0})\n",
      "     If (feature 0 <= 1.5)\n",
      "      If (feature 1 <= 45.02499961853027)\n",
      "       Predict: -0.02098733168331597\n",
      "      Else (feature 1 > 45.02499961853027)\n",
      "       Predict: 0.5146895246029687\n",
      "     Else (feature 0 > 1.5)\n",
      "      If (feature 8 in {1.0})\n",
      "       Predict: -0.20993907095126357\n",
      "      Else (feature 8 not in {1.0})\n",
      "       Predict: 0.10824767094323834\n",
      "  Tree 8 (weight 0.1):\n",
      "    If (feature 27 in {0.0})\n",
      "     If (feature 0 <= 49.5)\n",
      "      If (feature 4 in {1.0})\n",
      "       Predict: -0.16402280046054543\n",
      "      Else (feature 4 not in {1.0})\n",
      "       Predict: 0.3129893554308094\n",
      "     Else (feature 0 > 49.5)\n",
      "      If (feature 24 in {1.0})\n",
      "       Predict: -0.60635699354107\n",
      "      Else (feature 24 not in {1.0})\n",
      "       Predict: -0.26240105917170403\n",
      "    Else (feature 27 not in {0.0})\n",
      "     If (feature 14 in {0.0})\n",
      "      If (feature 21 in {0.0})\n",
      "       Predict: -0.26664201179042624\n",
      "      Else (feature 21 not in {0.0})\n",
      "       Predict: 0.06951728385906158\n",
      "     Else (feature 14 not in {0.0})\n",
      "      If (feature 1 <= 54.27499961853027)\n",
      "       Predict: 0.49171377368333763\n",
      "      Else (feature 1 > 54.27499961853027)\n",
      "       Predict: 0.12747295577939466\n",
      "  Tree 9 (weight 0.1):\n",
      "    If (feature 18 in {0.0})\n",
      "     If (feature 2 <= 24.425000190734863)\n",
      "      If (feature 4 in {1.0})\n",
      "       Predict: 0.051605048655701986\n",
      "      Else (feature 4 not in {1.0})\n",
      "       Predict: 2.5683654246606418\n",
      "     Else (feature 2 > 24.425000190734863)\n",
      "      If (feature 2 <= 45.82499885559082)\n",
      "       Predict: -0.7495616723277663\n",
      "      Else (feature 2 > 45.82499885559082)\n",
      "       Predict: -0.2074620606292058\n",
      "    Else (feature 18 not in {0.0})\n",
      "     If (feature 26 in {0.0})\n",
      "      If (feature 1 <= 59.82499885559082)\n",
      "       Predict: 0.005485765870993846\n",
      "      Else (feature 1 > 59.82499885559082)\n",
      "       Predict: -0.2528642451732179\n",
      "     Else (feature 26 not in {0.0})\n",
      "      If (feature 0 <= 58.5)\n",
      "       Predict: 0.1690846195977129\n",
      "      Else (feature 0 > 58.5)\n",
      "       Predict: -0.26993807385844426\n",
      "  Tree 10 (weight 0.1):\n",
      "    If (feature 12 in {0.0})\n",
      "     If (feature 1 <= 94.9749984741211)\n",
      "      If (feature 10 in {1.0})\n",
      "       Predict: -0.49830701833872076\n",
      "      Else (feature 10 not in {1.0})\n",
      "       Predict: -0.1845418754488821\n",
      "     Else (feature 1 > 94.9749984741211)\n",
      "      If (feature 2 <= 1839.6749877929688)\n",
      "       Predict: 1.0026867293295354\n",
      "      Else (feature 2 > 1839.6749877929688)\n",
      "       Predict: -0.1141380248211291\n",
      "    Else (feature 12 not in {0.0})\n",
      "     If (feature 0 <= 1.5)\n",
      "      If (feature 1 <= 75.7249984741211)\n",
      "       Predict: 0.21168228940244335\n",
      "      Else (feature 1 > 75.7249984741211)\n",
      "       Predict: 0.6710113234255856\n",
      "     Else (feature 0 > 1.5)\n",
      "      If (feature 8 in {1.0})\n",
      "       Predict: -0.1755660151939474\n",
      "      Else (feature 8 not in {1.0})\n",
      "       Predict: 0.09690831067558778\n",
      "  Tree 11 (weight 0.1):\n",
      "    If (feature 27 in {0.0})\n",
      "     If (feature 0 <= 49.5)\n",
      "      If (feature 4 in {1.0})\n",
      "       Predict: -0.1263190824935309\n",
      "      Else (feature 4 not in {1.0})\n",
      "       Predict: 0.2670504177776044\n",
      "     Else (feature 0 > 49.5)\n",
      "      If (feature 1 <= 93.625)\n",
      "       Predict: -0.3019423856401737\n",
      "      Else (feature 1 > 93.625)\n",
      "       Predict: -0.11695799886497124\n",
      "    Else (feature 27 not in {0.0})\n",
      "     If (feature 14 in {0.0})\n",
      "      If (feature 26 in {0.0})\n",
      "       Predict: -0.29743582141566266\n",
      "      Else (feature 26 not in {0.0})\n",
      "       Predict: 0.02519677450385975\n",
      "     Else (feature 14 not in {0.0})\n",
      "      If (feature 1 <= 54.27499961853027)\n",
      "       Predict: 0.39518627172099\n",
      "      Else (feature 1 > 54.27499961853027)\n",
      "       Predict: 0.10382159831134585\n",
      "  Tree 12 (weight 0.1):\n",
      "    If (feature 18 in {0.0})\n",
      "     If (feature 25 in {1.0})\n",
      "      If (feature 2 <= 4627.824951171875)\n",
      "       Predict: -0.26702200360633455\n",
      "      Else (feature 2 > 4627.824951171875)\n",
      "       Predict: -0.20300922982457428\n",
      "     Else (feature 25 not in {1.0})\n",
      "      If (feature 2 <= 7562.449951171875)\n",
      "       Predict: -0.11944904607959474\n",
      "      Else (feature 2 > 7562.449951171875)\n",
      "       Predict: 1.4749063330605936\n",
      "    Else (feature 18 not in {0.0})\n",
      "     If (feature 22 in {1.0})\n",
      "      If (feature 2 <= 367.75)\n",
      "       Predict: 0.1132068058679139\n",
      "      Else (feature 2 > 367.75)\n",
      "       Predict: -0.1824933186150939\n",
      "     Else (feature 22 not in {1.0})\n",
      "      If (feature 0 <= 28.5)\n",
      "       Predict: 0.3577747528922716\n",
      "      Else (feature 0 > 28.5)\n",
      "       Predict: -0.016449898421795735\n",
      "  Tree 13 (weight 0.1):\n",
      "    If (feature 12 in {0.0})\n",
      "     If (feature 2 <= 24.425000190734863)\n",
      "      If (feature 1 <= 19.824999809265137)\n",
      "       Predict: -0.1988165166782098\n",
      "      Else (feature 1 > 19.824999809265137)\n",
      "       Predict: 0.38693594268253834\n",
      "     Else (feature 2 > 24.425000190734863)\n",
      "      If (feature 14 in {0.0})\n",
      "       Predict: -0.20807668636388751\n",
      "      Else (feature 14 not in {0.0})\n",
      "       Predict: -0.05128913114642054\n",
      "    Else (feature 12 not in {0.0})\n",
      "     If (feature 26 in {0.0})\n",
      "      If (feature 0 <= 20.5)\n",
      "       Predict: 0.023749726432771203\n",
      "      Else (feature 0 > 20.5)\n",
      "       Predict: -0.2981415986519426\n",
      "     Else (feature 26 not in {0.0})\n",
      "      If (feature 8 in {1.0})\n",
      "       Predict: -0.0724926288977087\n",
      "      Else (feature 8 not in {1.0})\n",
      "       Predict: 0.17883147695367313\n",
      "  Tree 14 (weight 0.1):\n",
      "    If (feature 0 <= 58.5)\n",
      "     If (feature 21 in {0.0})\n",
      "      If (feature 4 in {1.0})\n",
      "       Predict: -0.135436810603305\n",
      "      Else (feature 4 not in {1.0})\n",
      "       Predict: 0.14964143448316491\n",
      "     Else (feature 21 not in {0.0})\n",
      "      If (feature 1 <= 40.22500038146973)\n",
      "       Predict: 1.2653883376056385\n",
      "      Else (feature 1 > 40.22500038146973)\n",
      "       Predict: 0.12845652401168675\n",
      "    Else (feature 0 > 58.5)\n",
      "     If (feature 24 in {1.0})\n",
      "      If (feature 20 in {1.0})\n",
      "       Predict: -1.0199440031597635\n",
      "      Else (feature 20 not in {1.0})\n",
      "       Predict: -0.22336205994276492\n",
      "     Else (feature 24 not in {1.0})\n",
      "      If (feature 1 <= 107.92499923706055)\n",
      "       Predict: -0.22160542580193926\n",
      "      Else (feature 1 > 107.92499923706055)\n",
      "       Predict: -0.03187398124598227\n",
      "  Tree 15 (weight 0.1):\n",
      "    If (feature 18 in {0.0})\n",
      "     If (feature 0 <= 16.5)\n",
      "      If (feature 13 in {0.0})\n",
      "       Predict: -0.07669991107808126\n",
      "      Else (feature 13 not in {0.0})\n",
      "       Predict: 0.3826543778897028\n",
      "     Else (feature 0 > 16.5)\n",
      "      If (feature 1 <= 93.625)\n",
      "       Predict: -0.21069238451271402\n",
      "      Else (feature 1 > 93.625)\n",
      "       Predict: -0.06859482454182306\n",
      "    Else (feature 18 not in {0.0})\n",
      "     If (feature 22 in {1.0})\n",
      "      If (feature 2 <= 367.75)\n",
      "       Predict: 0.09982565963418516\n",
      "      Else (feature 2 > 367.75)\n",
      "       Predict: -0.1503761523264678\n",
      "     Else (feature 22 not in {1.0})\n",
      "      If (feature 8 in {1.0})\n",
      "       Predict: -0.09719622213446517\n",
      "      Else (feature 8 not in {1.0})\n",
      "       Predict: 0.2342186676732538\n",
      "  Tree 16 (weight 0.1):\n",
      "    If (feature 25 in {1.0})\n",
      "     If (feature 2 <= 4627.824951171875)\n",
      "      If (feature 1 <= 54.27499961853027)\n",
      "       Predict: -0.1978936633448464\n",
      "      Else (feature 1 > 54.27499961853027)\n",
      "       Predict: -0.3329635949362636\n",
      "     Else (feature 2 > 4627.824951171875)\n",
      "      If (feature 0 <= 58.5)\n",
      "       Predict: 0.4642563008277878\n",
      "      Else (feature 0 > 58.5)\n",
      "       Predict: -0.1875188317063371\n",
      "    Else (feature 25 not in {1.0})\n",
      "     If (feature 21 in {0.0})\n",
      "      If (feature 0 <= 1.5)\n",
      "       Predict: 0.14687526851794913\n",
      "      Else (feature 0 > 1.5)\n",
      "       Predict: -0.12094126337969892\n",
      "     Else (feature 21 not in {0.0})\n",
      "      If (feature 1 <= 40.22500038146973)\n",
      "       Predict: 1.1698498109931303\n",
      "      Else (feature 1 > 40.22500038146973)\n",
      "       Predict: 0.09158168135752726\n",
      "  Tree 17 (weight 0.1):\n",
      "    If (feature 27 in {0.0})\n",
      "     If (feature 0 <= 49.5)\n",
      "      If (feature 8 in {1.0})\n",
      "       Predict: -0.12957363718184498\n",
      "      Else (feature 8 not in {1.0})\n",
      "       Predict: 0.0615317595296794\n",
      "     Else (feature 0 > 49.5)\n",
      "      If (feature 1 <= 90.67499923706055)\n",
      "       Predict: -0.23620157370753436\n",
      "      Else (feature 1 > 90.67499923706055)\n",
      "       Predict: -0.09220889033860422\n",
      "    Else (feature 27 not in {0.0})\n",
      "     If (feature 7 in {1.0})\n",
      "      If (feature 14 in {0.0})\n",
      "       Predict: -0.07544386285800066\n",
      "      Else (feature 14 not in {0.0})\n",
      "       Predict: 0.09209981838346057\n",
      "     Else (feature 7 not in {1.0})\n",
      "      If (feature 0 <= 22.5)\n",
      "       Predict: 0.6862761397873959\n",
      "      Else (feature 0 > 22.5)\n",
      "       Predict: -0.08840326122103734\n",
      "  Tree 18 (weight 0.1):\n",
      "    If (feature 25 in {1.0})\n",
      "     If (feature 2 <= 4627.824951171875)\n",
      "      If (feature 1 <= 54.27499961853027)\n",
      "       Predict: -0.1817709017563597\n",
      "      Else (feature 1 > 54.27499961853027)\n",
      "       Predict: -0.30604090892761543\n",
      "     Else (feature 2 > 4627.824951171875)\n",
      "      If (feature 0 <= 58.5)\n",
      "       Predict: 0.4323084716997066\n",
      "      Else (feature 0 > 58.5)\n",
      "       Predict: -0.16897621661102522\n",
      "    Else (feature 25 not in {1.0})\n",
      "     If (feature 21 in {0.0})\n",
      "      If (feature 2 <= 4257.074951171875)\n",
      "       Predict: -0.04690649049389569\n",
      "      Else (feature 2 > 4257.074951171875)\n",
      "       Predict: -0.4333677197979758\n",
      "     Else (feature 21 not in {0.0})\n",
      "      If (feature 2 <= 3326.625)\n",
      "       Predict: 0.17436824539233256\n",
      "      Else (feature 2 > 3326.625)\n",
      "       Predict: -0.04294334626406028\n",
      "  Tree 19 (weight 0.1):\n",
      "    If (feature 0 <= 1.5)\n",
      "     If (feature 1 <= 75.7249984741211)\n",
      "      If (feature 26 in {0.0})\n",
      "       Predict: -0.0814073481120456\n",
      "      Else (feature 26 not in {0.0})\n",
      "       Predict: 0.2408378613604034\n",
      "     Else (feature 1 > 75.7249984741211)\n",
      "      If (feature 6 in {0.0})\n",
      "       Predict: 0.0778380134274459\n",
      "      Else (feature 6 not in {0.0})\n",
      "       Predict: 0.5835409522818363\n",
      "    Else (feature 0 > 1.5)\n",
      "     If (feature 8 in {1.0})\n",
      "      If (feature 0 <= 3.5)\n",
      "       Predict: -0.3371391097383316\n",
      "      Else (feature 0 > 3.5)\n",
      "       Predict: -0.11876268328210826\n",
      "     Else (feature 8 not in {1.0})\n",
      "      If (feature 6 in {0.0})\n",
      "       Predict: -0.16870053316430147\n",
      "      Else (feature 6 not in {0.0})\n",
      "       Predict: 0.05944951532329564\n",
      "  Tree 20 (weight 0.1):\n",
      "    If (feature 25 in {1.0})\n",
      "     If (feature 2 <= 4627.824951171875)\n",
      "      If (feature 1 <= 54.27499961853027)\n",
      "       Predict: -0.17018232964376498\n",
      "      Else (feature 1 > 54.27499961853027)\n",
      "       Predict: -0.285134574531717\n",
      "     Else (feature 2 > 4627.824951171875)\n",
      "      If (feature 0 <= 58.5)\n",
      "       Predict: 0.400312701010078\n",
      "      Else (feature 0 > 58.5)\n",
      "       Predict: -0.15685378732044217\n",
      "    Else (feature 25 not in {1.0})\n",
      "     If (feature 23 in {0.0})\n",
      "      If (feature 0 <= 1.5)\n",
      "       Predict: 0.12745954071975\n",
      "      Else (feature 0 > 1.5)\n",
      "       Predict: -0.09481429650044038\n",
      "     Else (feature 23 not in {0.0})\n",
      "      If (feature 2 <= 3326.625)\n",
      "       Predict: 0.17184663812469703\n",
      "      Else (feature 2 > 3326.625)\n",
      "       Predict: -0.046560343686032235\n",
      "  Tree 21 (weight 0.1):\n",
      "    If (feature 25 in {1.0})\n",
      "     If (feature 2 <= 4627.824951171875)\n",
      "      If (feature 1 <= 54.27499961853027)\n",
      "       Predict: -0.1630998565188281\n",
      "      Else (feature 1 > 54.27499961853027)\n",
      "       Predict: -0.27051853979325907\n",
      "     Else (feature 2 > 4627.824951171875)\n",
      "      If (feature 0 <= 58.5)\n",
      "       Predict: 0.3647479516928395\n",
      "      Else (feature 0 > 58.5)\n",
      "       Predict: -0.14822426820230744\n",
      "    Else (feature 25 not in {1.0})\n",
      "     If (feature 21 in {0.0})\n",
      "      If (feature 2 <= 4257.074951171875)\n",
      "       Predict: -0.034648339950751866\n",
      "      Else (feature 2 > 4257.074951171875)\n",
      "       Predict: -0.3715798962723794\n",
      "     Else (feature 21 not in {0.0})\n",
      "      If (feature 1 <= 40.22500038146973)\n",
      "       Predict: 0.8936682807708305\n",
      "      Else (feature 1 > 40.22500038146973)\n",
      "       Predict: 0.06470873593829504\n",
      "  Tree 22 (weight 0.1):\n",
      "    If (feature 25 in {1.0})\n",
      "     If (feature 1 <= 90.67499923706055)\n",
      "      If (feature 12 in {1.0})\n",
      "       Predict: -0.27213860024594305\n",
      "      Else (feature 12 not in {1.0})\n",
      "       Predict: -0.15848426919157357\n",
      "     Else (feature 1 > 90.67499923706055)\n",
      "      If (feature 0 <= 58.5)\n",
      "       Predict: 0.20305877531511307\n",
      "      Else (feature 0 > 58.5)\n",
      "       Predict: -0.1387476342638935\n",
      "    Else (feature 25 not in {1.0})\n",
      "     If (feature 4 in {1.0})\n",
      "      If (feature 2 <= 7562.449951171875)\n",
      "       Predict: -0.039381066876160054\n",
      "      Else (feature 2 > 7562.449951171875)\n",
      "       Predict: 1.6758904940521073\n",
      "     Else (feature 4 not in {1.0})\n",
      "      If (feature 0 <= 58.5)\n",
      "       Predict: 0.1947655700180673\n",
      "      Else (feature 0 > 58.5)\n",
      "       Predict: -0.36328995185614554\n",
      "  Tree 23 (weight 0.1):\n",
      "    If (feature 18 in {0.0})\n",
      "     If (feature 0 <= 16.5)\n",
      "      If (feature 13 in {0.0})\n",
      "       Predict: -0.04343446495525158\n",
      "      Else (feature 13 not in {0.0})\n",
      "       Predict: 0.356774835631619\n",
      "     Else (feature 0 > 16.5)\n",
      "      If (feature 24 in {1.0})\n",
      "       Predict: -0.26926792799138727\n",
      "      Else (feature 24 not in {1.0})\n",
      "       Predict: -0.10545244226108841\n",
      "    Else (feature 18 not in {0.0})\n",
      "     If (feature 26 in {0.0})\n",
      "      If (feature 2 <= 24.425000190734863)\n",
      "       Predict: -2.080270802557002\n",
      "      Else (feature 2 > 24.425000190734863)\n",
      "       Predict: -0.08558728300319199\n",
      "     Else (feature 26 not in {0.0})\n",
      "      If (feature 8 in {1.0})\n",
      "       Predict: -0.04286058613182882\n",
      "      Else (feature 8 not in {1.0})\n",
      "       Predict: 0.13863436419744146\n",
      "  Tree 24 (weight 0.1):\n",
      "    If (feature 25 in {1.0})\n",
      "     If (feature 2 <= 4627.824951171875)\n",
      "      If (feature 1 <= 54.27499961853027)\n",
      "       Predict: -0.1468253079195612\n",
      "      Else (feature 1 > 54.27499961853027)\n",
      "       Predict: -0.24750800006129786\n",
      "     Else (feature 2 > 4627.824951171875)\n",
      "      If (feature 0 <= 58.5)\n",
      "       Predict: 0.32324458121706917\n",
      "      Else (feature 0 > 58.5)\n",
      "       Predict: -0.12875126801645603\n",
      "    Else (feature 25 not in {1.0})\n",
      "     If (feature 23 in {0.0})\n",
      "      If (feature 2 <= 367.75)\n",
      "       Predict: 0.039740019598591164\n",
      "      Else (feature 2 > 367.75)\n",
      "       Predict: -0.10842005762773613\n",
      "     Else (feature 23 not in {0.0})\n",
      "      If (feature 2 <= 3326.625)\n",
      "       Predict: 0.13900125501062077\n",
      "      Else (feature 2 > 3326.625)\n",
      "       Predict: -0.04111670102619146\n",
      "  Tree 25 (weight 0.1):\n",
      "    If (feature 25 in {1.0})\n",
      "     If (feature 2 <= 4627.824951171875)\n",
      "      If (feature 1 <= 54.27499961853027)\n",
      "       Predict: -0.14130273060082368\n",
      "      Else (feature 1 > 54.27499961853027)\n",
      "       Predict: -0.2363437622546185\n",
      "     Else (feature 2 > 4627.824951171875)\n",
      "      If (feature 0 <= 58.5)\n",
      "       Predict: 0.291179417397204\n",
      "      Else (feature 0 > 58.5)\n",
      "       Predict: -0.12225734813974276\n",
      "    Else (feature 25 not in {1.0})\n",
      "     If (feature 0 <= 1.5)\n",
      "      If (feature 1 <= 75.7249984741211)\n",
      "       Predict: 0.07556931232554157\n",
      "      Else (feature 1 > 75.7249984741211)\n",
      "       Predict: 0.45077806844484175\n",
      "     Else (feature 0 > 1.5)\n",
      "      If (feature 8 in {1.0})\n",
      "       Predict: -0.09674038045955408\n",
      "      Else (feature 8 not in {1.0})\n",
      "       Predict: 0.042629314653862806\n",
      "  Tree 26 (weight 0.1):\n",
      "    If (feature 25 in {1.0})\n",
      "     If (feature 2 <= 4627.824951171875)\n",
      "      If (feature 1 <= 54.27499961853027)\n",
      "       Predict: -0.13612283919007964\n",
      "      Else (feature 1 > 54.27499961853027)\n",
      "       Predict: -0.2261221052114214\n",
      "     Else (feature 2 > 4627.824951171875)\n",
      "      If (feature 0 <= 58.5)\n",
      "       Predict: 0.2610776114613898\n",
      "      Else (feature 0 > 58.5)\n",
      "       Predict: -0.1162213116790411\n",
      "    Else (feature 25 not in {1.0})\n",
      "     If (feature 21 in {0.0})\n",
      "      If (feature 11 in {0.0})\n",
      "       Predict: -0.09687743228080488\n",
      "      Else (feature 11 not in {0.0})\n",
      "       Predict: 0.05307353565892515\n",
      "     Else (feature 21 not in {0.0})\n",
      "      If (feature 6 in {0.0})\n",
      "       Predict: -0.08871644377594948\n",
      "      Else (feature 6 not in {0.0})\n",
      "       Predict: 0.10404413590278307\n",
      "  Tree 27 (weight 0.1):\n",
      "    If (feature 0 <= 58.5)\n",
      "     If (feature 26 in {0.0})\n",
      "      If (feature 1 <= 19.375)\n",
      "       Predict: -0.4061393392813411\n",
      "      Else (feature 1 > 19.375)\n",
      "       Predict: -0.07550510206289056\n",
      "     Else (feature 26 not in {0.0})\n",
      "      If (feature 1 <= 94.9749984741211)\n",
      "       Predict: 0.008436005812986707\n",
      "      Else (feature 1 > 94.9749984741211)\n",
      "       Predict: 0.22320934378312798\n",
      "    Else (feature 0 > 58.5)\n",
      "     If (feature 24 in {1.0})\n",
      "      If (feature 18 in {0.0})\n",
      "       Predict: -0.9837597232140877\n",
      "      Else (feature 18 not in {0.0})\n",
      "       Predict: -0.14951782112238096\n",
      "     Else (feature 24 not in {1.0})\n",
      "      If (feature 27 in {0.0})\n",
      "       Predict: -0.13623217354965614\n",
      "      Else (feature 27 not in {0.0})\n",
      "       Predict: 0.045751331700698644\n",
      "  Tree 28 (weight 0.1):\n",
      "    If (feature 24 in {0.0})\n",
      "     If (feature 1 <= 103.32500076293945)\n",
      "      If (feature 16 in {0.0})\n",
      "       Predict: -0.14738780307215318\n",
      "      Else (feature 16 not in {0.0})\n",
      "       Predict: -0.02099317240869057\n",
      "     Else (feature 1 > 103.32500076293945)\n",
      "      If (feature 2 <= 6508.300048828125)\n",
      "       Predict: 0.470327350084386\n",
      "      Else (feature 2 > 6508.300048828125)\n",
      "       Predict: -0.0810334733459119\n",
      "    Else (feature 24 not in {0.0})\n",
      "     If (feature 1 <= 107.92499923706055)\n",
      "      If (feature 8 in {1.0})\n",
      "       Predict: -0.035875298636788934\n",
      "      Else (feature 8 not in {1.0})\n",
      "       Predict: 0.09149288837865352\n",
      "     Else (feature 1 > 107.92499923706055)\n",
      "      If (feature 0 <= 3.5)\n",
      "       Predict: -2.738864376575491\n",
      "      Else (feature 0 > 3.5)\n",
      "       Predict: -0.6458447357152903\n",
      "  Tree 29 (weight 0.1):\n",
      "    If (feature 0 <= 22.5)\n",
      "     If (feature 17 in {0.0})\n",
      "      If (feature 2 <= 1075.8500366210938)\n",
      "       Predict: -0.04522806068916808\n",
      "      Else (feature 2 > 1075.8500366210938)\n",
      "       Predict: 0.21737411181051602\n",
      "     Else (feature 17 not in {0.0})\n",
      "      If (feature 1 <= 59.82499885559082)\n",
      "       Predict: 0.5582243548797513\n",
      "      Else (feature 1 > 59.82499885559082)\n",
      "       Predict: 0.08809764079768825\n",
      "    Else (feature 0 > 22.5)\n",
      "     If (feature 2 <= 2032.2999877929688)\n",
      "      If (feature 27 in {1.0})\n",
      "       Predict: -0.47431227218819494\n",
      "      Else (feature 27 not in {1.0})\n",
      "       Predict: -0.12786785967256323\n",
      "     Else (feature 2 > 2032.2999877929688)\n",
      "      If (feature 2 <= 3326.625)\n",
      "       Predict: 0.11732814283697476\n",
      "      Else (feature 2 > 3326.625)\n",
      "       Predict: -0.09103048002983888\n",
      "  Tree 30 (weight 0.1):\n",
      "    If (feature 0 <= 1.5)\n",
      "     If (feature 11 in {1.0})\n",
      "      If (feature 4 in {1.0})\n",
      "       Predict: -0.1201658944379638\n",
      "      Else (feature 4 not in {1.0})\n",
      "       Predict: 0.6575532534180268\n",
      "     Else (feature 11 not in {1.0})\n",
      "      If (feature 19 in {1.0})\n",
      "       Predict: -1.01686462277021\n",
      "      Else (feature 19 not in {1.0})\n",
      "       Predict: 0.236793233955115\n",
      "    Else (feature 0 > 1.5)\n",
      "     If (feature 27 in {0.0})\n",
      "      If (feature 2 <= 69.2249984741211)\n",
      "       Predict: -0.4016255911857338\n",
      "      Else (feature 2 > 69.2249984741211)\n",
      "       Predict: -0.06925395322102086\n",
      "     Else (feature 27 not in {0.0})\n",
      "      If (feature 0 <= 12.5)\n",
      "       Predict: -0.1062486802700811\n",
      "      Else (feature 0 > 12.5)\n",
      "       Predict: 0.07604483518119994\n",
      "  Tree 31 (weight 0.1):\n",
      "    If (feature 0 <= 5.5)\n",
      "     If (feature 1 <= 107.92499923706055)\n",
      "      If (feature 29 in {0.0})\n",
      "       Predict: 0.04622800014949669\n",
      "      Else (feature 29 not in {0.0})\n",
      "       Predict: 0.446253410633296\n",
      "     Else (feature 1 > 107.92499923706055)\n",
      "      If (feature 8 in {0.0})\n",
      "       Predict: -2.444950827530409\n",
      "      Else (feature 8 not in {0.0})\n",
      "       Predict: -2.0198741072905255\n",
      "    Else (feature 0 > 5.5)\n",
      "     If (feature 27 in {0.0})\n",
      "      If (feature 23 in {0.0})\n",
      "       Predict: -0.13133125602763795\n",
      "      Else (feature 23 not in {0.0})\n",
      "       Predict: -0.006027178429293433\n",
      "     Else (feature 27 not in {0.0})\n",
      "      If (feature 0 <= 12.5)\n",
      "       Predict: -0.18181687366393556\n",
      "      Else (feature 0 > 12.5)\n",
      "       Predict: 0.06468219551210137\n",
      "  Tree 32 (weight 0.1):\n",
      "    If (feature 25 in {1.0})\n",
      "     If (feature 18 in {0.0})\n",
      "      If (feature 1 <= 110.875)\n",
      "       Predict: -0.11897166051418485\n",
      "      Else (feature 1 > 110.875)\n",
      "       Predict: -0.205287891352314\n",
      "     Else (feature 18 not in {0.0})\n",
      "      If (feature 1 <= 110.875)\n",
      "       Predict: -0.04121499566990275\n",
      "      Else (feature 1 > 110.875)\n",
      "       Predict: 1.433051201532368\n",
      "    Else (feature 25 not in {1.0})\n",
      "     If (feature 0 <= 70.5)\n",
      "      If (feature 4 in {1.0})\n",
      "       Predict: -0.019058452787042414\n",
      "      Else (feature 4 not in {1.0})\n",
      "       Predict: 0.09680351307539199\n",
      "     Else (feature 0 > 70.5)\n",
      "      If (feature 1 <= 107.92499923706055)\n",
      "       Predict: -0.6269976158343206\n",
      "      Else (feature 1 > 107.92499923706055)\n",
      "       Predict: 0.7239138851829905\n",
      "  Tree 33 (weight 0.1):\n",
      "    If (feature 0 <= 22.5)\n",
      "     If (feature 17 in {0.0})\n",
      "      If (feature 11 in {0.0})\n",
      "       Predict: -0.057399392142955225\n",
      "      Else (feature 11 not in {0.0})\n",
      "       Predict: 0.09767231062665807\n",
      "     Else (feature 17 not in {0.0})\n",
      "      If (feature 1 <= 59.82499885559082)\n",
      "       Predict: 0.49137255061050195\n",
      "      Else (feature 1 > 59.82499885559082)\n",
      "       Predict: 0.08524240197535175\n",
      "    Else (feature 0 > 22.5)\n",
      "     If (feature 2 <= 2032.2999877929688)\n",
      "      If (feature 27 in {1.0})\n",
      "       Predict: -0.43689757540176866\n",
      "      Else (feature 27 not in {1.0})\n",
      "       Predict: -0.11030676545150067\n",
      "     Else (feature 2 > 2032.2999877929688)\n",
      "      If (feature 2 <= 3326.625)\n",
      "       Predict: 0.1015271236908269\n",
      "      Else (feature 2 > 3326.625)\n",
      "       Predict: -0.08109002732108574\n",
      "  Tree 34 (weight 0.1):\n",
      "    If (feature 25 in {1.0})\n",
      "     If (feature 2 <= 4627.824951171875)\n",
      "      If (feature 1 <= 54.27499961853027)\n",
      "       Predict: -0.10895664300467417\n",
      "      Else (feature 1 > 54.27499961853027)\n",
      "       Predict: -0.20342110259281979\n",
      "     Else (feature 2 > 4627.824951171875)\n",
      "      If (feature 0 <= 58.5)\n",
      "       Predict: 0.2258557904758664\n",
      "      Else (feature 0 > 58.5)\n",
      "       Predict: -0.0869015456073366\n",
      "    Else (feature 25 not in {1.0})\n",
      "     If (feature 0 <= 70.5)\n",
      "      If (feature 2 <= 7562.449951171875)\n",
      "       Predict: -4.0612644487395927E-4\n",
      "      Else (feature 2 > 7562.449951171875)\n",
      "       Predict: 0.895504748918146\n",
      "     Else (feature 0 > 70.5)\n",
      "      If (feature 18 in {1.0})\n",
      "       Predict: -0.7576371876997221\n",
      "      Else (feature 18 not in {1.0})\n",
      "       Predict: 0.028238372068626814\n",
      "  Tree 35 (weight 0.1):\n",
      "    If (feature 25 in {1.0})\n",
      "     If (feature 18 in {0.0})\n",
      "      If (feature 0 <= 46.5)\n",
      "       Predict: -0.15373633114948507\n",
      "      Else (feature 0 > 46.5)\n",
      "       Predict: -0.10171892359958908\n",
      "     Else (feature 18 not in {0.0})\n",
      "      If (feature 22 in {1.0})\n",
      "       Predict: -0.22659119028623692\n",
      "      Else (feature 22 not in {1.0})\n",
      "       Predict: 0.09523091451206403\n",
      "    Else (feature 25 not in {1.0})\n",
      "     If (feature 0 <= 1.5)\n",
      "      If (feature 1 <= 75.7249984741211)\n",
      "       Predict: 0.04610265331351921\n",
      "      Else (feature 1 > 75.7249984741211)\n",
      "       Predict: 0.38677798020576976\n",
      "     Else (feature 0 > 1.5)\n",
      "      If (feature 8 in {1.0})\n",
      "       Predict: -0.06778346204697375\n",
      "      Else (feature 8 not in {1.0})\n",
      "       Predict: 0.031486553061528595\n",
      "  Tree 36 (weight 0.1):\n",
      "    If (feature 25 in {1.0})\n",
      "     If (feature 2 <= 4627.824951171875)\n",
      "      If (feature 1 <= 54.27499961853027)\n",
      "       Predict: -0.102115071486492\n",
      "      Else (feature 1 > 54.27499961853027)\n",
      "       Predict: -0.19204245947295248\n",
      "     Else (feature 2 > 4627.824951171875)\n",
      "      If (feature 0 <= 58.5)\n",
      "       Predict: 0.20712073364302755\n",
      "      Else (feature 0 > 58.5)\n",
      "       Predict: -0.08033318702283289\n",
      "    Else (feature 25 not in {1.0})\n",
      "     If (feature 14 in {0.0})\n",
      "      If (feature 7 in {1.0})\n",
      "       Predict: -0.05904739050987443\n",
      "      Else (feature 7 not in {1.0})\n",
      "       Predict: 0.19666635349602418\n",
      "     Else (feature 14 not in {0.0})\n",
      "      If (feature 0 <= 53.5)\n",
      "       Predict: 0.051928842558470606\n",
      "      Else (feature 0 > 53.5)\n",
      "       Predict: -0.19627408562447876\n",
      "  Tree 37 (weight 0.1):\n",
      "    If (feature 25 in {1.0})\n",
      "     If (feature 18 in {0.0})\n",
      "      If (feature 0 <= 71.5)\n",
      "       Predict: -0.09710035296687676\n",
      "      Else (feature 0 > 71.5)\n",
      "       Predict: -0.15285424199762565\n",
      "     Else (feature 18 not in {0.0})\n",
      "      If (feature 22 in {1.0})\n",
      "       Predict: -0.21284274399660144\n",
      "      Else (feature 22 not in {1.0})\n",
      "       Predict: 0.09222783751068885\n",
      "    Else (feature 25 not in {1.0})\n",
      "     If (feature 1 <= 84.07500076293945)\n",
      "      If (feature 2 <= 3326.625)\n",
      "       Predict: -0.014590038688657839\n",
      "      Else (feature 2 > 3326.625)\n",
      "       Predict: -0.21023538145391726\n",
      "     Else (feature 1 > 84.07500076293945)\n",
      "      If (feature 0 <= 20.5)\n",
      "       Predict: 0.16755919641531558\n",
      "      Else (feature 0 > 20.5)\n",
      "       Predict: -0.008033893221834206\n",
      "  Tree 38 (weight 0.1):\n",
      "    If (feature 25 in {1.0})\n",
      "     If (feature 2 <= 4627.824951171875)\n",
      "      If (feature 1 <= 54.27499961853027)\n",
      "       Predict: -0.09635821813629059\n",
      "      Else (feature 1 > 54.27499961853027)\n",
      "       Predict: -0.1823777851307901\n",
      "     Else (feature 2 > 4627.824951171875)\n",
      "      If (feature 0 <= 58.5)\n",
      "       Predict: 0.18914635862167745\n",
      "      Else (feature 0 > 58.5)\n",
      "       Predict: -0.07376538347742043\n",
      "    Else (feature 25 not in {1.0})\n",
      "     If (feature 1 <= 94.9749984741211)\n",
      "      If (feature 2 <= 3326.625)\n",
      "       Predict: 0.0016039102574755416\n",
      "      Else (feature 2 > 3326.625)\n",
      "       Predict: -0.1852280747682353\n",
      "     Else (feature 1 > 94.9749984741211)\n",
      "      If (feature 6 in {0.0})\n",
      "       Predict: -0.1379560806336335\n",
      "      Else (feature 6 not in {0.0})\n",
      "       Predict: 0.12105458554347465\n",
      "  Tree 39 (weight 0.1):\n",
      "    If (feature 25 in {1.0})\n",
      "     If (feature 18 in {0.0})\n",
      "      If (feature 0 <= 71.5)\n",
      "       Predict: -0.0913364822261153\n",
      "      Else (feature 0 > 71.5)\n",
      "       Predict: -0.14528506010332873\n",
      "     Else (feature 18 not in {0.0})\n",
      "      If (feature 20 in {1.0})\n",
      "       Predict: -0.20866452188686468\n",
      "      Else (feature 20 not in {1.0})\n",
      "       Predict: 0.08787413409704864\n",
      "    Else (feature 25 not in {1.0})\n",
      "     If (feature 0 <= 1.5)\n",
      "      If (feature 11 in {1.0})\n",
      "       Predict: -0.07378464709932271\n",
      "      Else (feature 11 not in {1.0})\n",
      "       Predict: 0.18287628510446238\n",
      "     Else (feature 0 > 1.5)\n",
      "      If (feature 28 in {1.0})\n",
      "       Predict: -0.10805760039574223\n",
      "      Else (feature 28 not in {1.0})\n",
      "       Predict: 0.00839174792560876\n",
      "\n"
     ]
    }
   ],
   "source": [
    "print(best_model.toDebugString)"
   ]
  },
  {
   "cell_type": "code",
   "execution_count": 77,
   "metadata": {},
   "outputs": [
    {
     "data": {
      "text/plain": [
       "{Param(parent='GBTClassifier_12584360e5bb', name='featuresCol', doc='features column name.'): 'features',\n",
       " Param(parent='GBTClassifier_12584360e5bb', name='labelCol', doc='label column name.'): 'labelIndex',\n",
       " Param(parent='GBTClassifier_12584360e5bb', name='predictionCol', doc='prediction column name.'): 'prediction',\n",
       " Param(parent='GBTClassifier_12584360e5bb', name='probabilityCol', doc='Column name for predicted class conditional probabilities. Note: Not all models output well-calibrated probability estimates! These probabilities should be treated as confidences, not precise probabilities.'): 'probability',\n",
       " Param(parent='GBTClassifier_12584360e5bb', name='rawPredictionCol', doc='raw prediction (a.k.a. confidence) column name.'): 'rawPrediction',\n",
       " Param(parent='GBTClassifier_12584360e5bb', name='seed', doc='random seed.'): 2277498301948407352,\n",
       " Param(parent='GBTClassifier_12584360e5bb', name='cacheNodeIds', doc='If false, the algorithm will pass trees to executors to match instances with nodes. If true, the algorithm will cache node IDs for each instance. Caching can speed up training of deeper trees. Users can set how often should the cache be checkpointed or disable it by setting checkpointInterval.'): False,\n",
       " Param(parent='GBTClassifier_12584360e5bb', name='checkpointInterval', doc='set checkpoint interval (>= 1) or disable checkpoint (-1). E.g. 10 means that the cache will get checkpointed every 10 iterations. Note: this setting will be ignored if the checkpoint directory is not set in the SparkContext.'): 10,\n",
       " Param(parent='GBTClassifier_12584360e5bb', name='featureSubsetStrategy', doc=\"The number of features to consider for splits at each tree node. Supported options: 'auto' (choose automatically for task: If numTrees == 1, set to 'all'. If numTrees > 1 (forest), set to 'sqrt' for classification and to 'onethird' for regression), 'all' (use all features), 'onethird' (use 1/3 of the features), 'sqrt' (use sqrt(number of features)), 'log2' (use log2(number of features)), 'n' (when n is in the range (0, 1.0], use n * number of features. When n is in the range (1, number of features), use n features). default = 'auto'\"): 'all',\n",
       " Param(parent='GBTClassifier_12584360e5bb', name='impurity', doc='Criterion used for information gain calculation (case-insensitive). Supported options: variance'): 'variance',\n",
       " Param(parent='GBTClassifier_12584360e5bb', name='leafCol', doc='Leaf indices column name. Predicted leaf index of each instance in each tree by preorder.'): '',\n",
       " Param(parent='GBTClassifier_12584360e5bb', name='lossType', doc='Loss function which GBT tries to minimize (case-insensitive). Supported options: logistic'): 'logistic',\n",
       " Param(parent='GBTClassifier_12584360e5bb', name='maxBins', doc='Max number of bins for discretizing continuous features.  Must be >=2 and >= number of categories for any categorical feature.'): 42,\n",
       " Param(parent='GBTClassifier_12584360e5bb', name='maxDepth', doc='Maximum depth of the tree. (>= 0) E.g., depth 0 means 1 leaf node; depth 1 means 1 internal node + 2 leaf nodes.'): 3,\n",
       " Param(parent='GBTClassifier_12584360e5bb', name='maxIter', doc='max number of iterations (>= 0).'): 40,\n",
       " Param(parent='GBTClassifier_12584360e5bb', name='maxMemoryInMB', doc='Maximum memory in MB allocated to histogram aggregation. If too small, then 1 node will be split per iteration, and its aggregates may exceed this size.'): 256,\n",
       " Param(parent='GBTClassifier_12584360e5bb', name='minInfoGain', doc='Minimum information gain for a split to be considered at a tree node.'): 0.0,\n",
       " Param(parent='GBTClassifier_12584360e5bb', name='minInstancesPerNode', doc='Minimum number of instances each child must have after split. If a split causes the left or right child to have fewer than minInstancesPerNode, the split will be discarded as invalid. Should be >= 1.'): 1,\n",
       " Param(parent='GBTClassifier_12584360e5bb', name='minWeightFractionPerNode', doc='Minimum fraction of the weighted sample count that each child must have after split. If a split causes the fraction of the total weight in the left or right child to be less than minWeightFractionPerNode, the split will be discarded as invalid. Should be in interval [0.0, 0.5).'): 0.0,\n",
       " Param(parent='GBTClassifier_12584360e5bb', name='stepSize', doc='Step size (a.k.a. learning rate) in interval (0, 1] for shrinking the contribution of each estimator.'): 0.1,\n",
       " Param(parent='GBTClassifier_12584360e5bb', name='subsamplingRate', doc='Fraction of the training data used for learning each decision tree, in range (0, 1].'): 1.0,\n",
       " Param(parent='GBTClassifier_12584360e5bb', name='validationTol', doc='Threshold for stopping early when fit with validation is used. If the error rate on the validation input changes by less than the validationTol, then learning will stop early (before `maxIter`). This parameter is ignored when fit without validation is used.'): 0.01}"
      ]
     },
     "execution_count": 77,
     "metadata": {},
     "output_type": "execute_result"
    }
   ],
   "source": [
    "best_model.extractParamMap()"
   ]
  },
  {
   "cell_type": "code",
   "execution_count": 78,
   "metadata": {},
   "outputs": [],
   "source": [
    "best_model.save(\"gbt-classifier-model\")"
   ]
  },
  {
   "cell_type": "code",
   "execution_count": 79,
   "metadata": {},
   "outputs": [
    {
     "name": "stdout",
     "output_type": "stream",
     "text": [
      "  adding: decision-tree-classifier-model/ (stored 0%)\n",
      "  adding: decision-tree-classifier-model/data/ (stored 0%)\n",
      "  adding: decision-tree-classifier-model/data/.part-00004-ee1facae-82e3-499c-a61f-e8af73df05eb-c000.snappy.parquet.crc (stored 0%)\n",
      "  adding: decision-tree-classifier-model/data/.part-00006-ee1facae-82e3-499c-a61f-e8af73df05eb-c000.snappy.parquet.crc (stored 0%)\n",
      "  adding: decision-tree-classifier-model/data/part-00010-ee1facae-82e3-499c-a61f-e8af73df05eb-c000.snappy.parquet (deflated 66%)\n",
      "  adding: decision-tree-classifier-model/data/part-00012-ee1facae-82e3-499c-a61f-e8af73df05eb-c000.snappy.parquet (deflated 69%)\n",
      "  adding: decision-tree-classifier-model/data/.part-00011-ee1facae-82e3-499c-a61f-e8af73df05eb-c000.snappy.parquet.crc (stored 0%)\n",
      "  adding: decision-tree-classifier-model/data/part-00004-ee1facae-82e3-499c-a61f-e8af73df05eb-c000.snappy.parquet (deflated 65%)\n",
      "  adding: decision-tree-classifier-model/data/_SUCCESS (stored 0%)\n",
      "  adding: decision-tree-classifier-model/data/part-00003-ee1facae-82e3-499c-a61f-e8af73df05eb-c000.snappy.parquet (deflated 65%)\n",
      "  adding: decision-tree-classifier-model/data/part-00005-ee1facae-82e3-499c-a61f-e8af73df05eb-c000.snappy.parquet (deflated 64%)\n",
      "  adding: decision-tree-classifier-model/data/part-00000-ee1facae-82e3-499c-a61f-e8af73df05eb-c000.snappy.parquet (deflated 65%)\n",
      "  adding: decision-tree-classifier-model/data/part-00011-ee1facae-82e3-499c-a61f-e8af73df05eb-c000.snappy.parquet (deflated 64%)\n",
      "  adding: decision-tree-classifier-model/data/._SUCCESS.crc (stored 0%)\n",
      "  adding: decision-tree-classifier-model/data/part-00001-ee1facae-82e3-499c-a61f-e8af73df05eb-c000.snappy.parquet (deflated 64%)\n",
      "  adding: decision-tree-classifier-model/data/part-00006-ee1facae-82e3-499c-a61f-e8af73df05eb-c000.snappy.parquet (deflated 65%)\n",
      "  adding: decision-tree-classifier-model/data/.part-00002-ee1facae-82e3-499c-a61f-e8af73df05eb-c000.snappy.parquet.crc (stored 0%)\n",
      "  adding: decision-tree-classifier-model/data/.part-00010-ee1facae-82e3-499c-a61f-e8af73df05eb-c000.snappy.parquet.crc (stored 0%)\n",
      "  adding: decision-tree-classifier-model/data/part-00008-ee1facae-82e3-499c-a61f-e8af73df05eb-c000.snappy.parquet (deflated 66%)\n",
      "  adding: decision-tree-classifier-model/data/.part-00003-ee1facae-82e3-499c-a61f-e8af73df05eb-c000.snappy.parquet.crc (stored 0%)\n",
      "  adding: decision-tree-classifier-model/data/part-00015-ee1facae-82e3-499c-a61f-e8af73df05eb-c000.snappy.parquet (deflated 66%)\n",
      "  adding: decision-tree-classifier-model/data/.part-00001-ee1facae-82e3-499c-a61f-e8af73df05eb-c000.snappy.parquet.crc (stored 0%)\n",
      "  adding: decision-tree-classifier-model/data/.part-00008-ee1facae-82e3-499c-a61f-e8af73df05eb-c000.snappy.parquet.crc (stored 0%)\n",
      "  adding: decision-tree-classifier-model/data/part-00014-ee1facae-82e3-499c-a61f-e8af73df05eb-c000.snappy.parquet (deflated 64%)\n",
      "  adding: decision-tree-classifier-model/data/.part-00000-ee1facae-82e3-499c-a61f-e8af73df05eb-c000.snappy.parquet.crc (stored 0%)\n",
      "  adding: decision-tree-classifier-model/data/.part-00005-ee1facae-82e3-499c-a61f-e8af73df05eb-c000.snappy.parquet.crc (stored 0%)\n",
      "  adding: decision-tree-classifier-model/data/.part-00007-ee1facae-82e3-499c-a61f-e8af73df05eb-c000.snappy.parquet.crc (stored 0%)\n",
      "  adding: decision-tree-classifier-model/data/part-00007-ee1facae-82e3-499c-a61f-e8af73df05eb-c000.snappy.parquet (deflated 67%)\n",
      "  adding: decision-tree-classifier-model/data/.part-00015-ee1facae-82e3-499c-a61f-e8af73df05eb-c000.snappy.parquet.crc (stored 0%)\n",
      "  adding: decision-tree-classifier-model/data/part-00009-ee1facae-82e3-499c-a61f-e8af73df05eb-c000.snappy.parquet (deflated 65%)\n",
      "  adding: decision-tree-classifier-model/data/part-00002-ee1facae-82e3-499c-a61f-e8af73df05eb-c000.snappy.parquet (deflated 67%)\n",
      "  adding: decision-tree-classifier-model/data/part-00013-ee1facae-82e3-499c-a61f-e8af73df05eb-c000.snappy.parquet (deflated 64%)\n",
      "  adding: decision-tree-classifier-model/data/.part-00013-ee1facae-82e3-499c-a61f-e8af73df05eb-c000.snappy.parquet.crc (stored 0%)\n",
      "  adding: decision-tree-classifier-model/data/.part-00009-ee1facae-82e3-499c-a61f-e8af73df05eb-c000.snappy.parquet.crc (stored 0%)\n",
      "  adding: decision-tree-classifier-model/data/.part-00012-ee1facae-82e3-499c-a61f-e8af73df05eb-c000.snappy.parquet.crc (stored 0%)\n",
      "  adding: decision-tree-classifier-model/data/.part-00014-ee1facae-82e3-499c-a61f-e8af73df05eb-c000.snappy.parquet.crc (stored 0%)\n",
      "  adding: decision-tree-classifier-model/metadata/ (stored 0%)\n",
      "  adding: decision-tree-classifier-model/metadata/_SUCCESS (stored 0%)\n",
      "  adding: decision-tree-classifier-model/metadata/._SUCCESS.crc (stored 0%)\n",
      "  adding: decision-tree-classifier-model/metadata/.part-00000.crc (stored 0%)\n",
      "  adding: decision-tree-classifier-model/metadata/part-00000 (deflated 48%)\n"
     ]
    }
   ],
   "source": [
    "!zip -r decision-tree-classifier-model.zip decision-tree-classifier-model/"
   ]
  },
  {
   "cell_type": "code",
   "execution_count": 80,
   "metadata": {},
   "outputs": [
    {
     "name": "stdout",
     "output_type": "stream",
     "text": [
      "  adding: gbt-classifier-model/ (stored 0%)\n",
      "  adding: gbt-classifier-model/data/ (stored 0%)\n",
      "  adding: gbt-classifier-model/data/.part-00010-1e6cdfa4-6b0c-4dbd-a7bf-639b02de3ce3-c000.snappy.parquet.crc (stored 0%)\n",
      "  adding: gbt-classifier-model/data/.part-00011-1e6cdfa4-6b0c-4dbd-a7bf-639b02de3ce3-c000.snappy.parquet.crc (stored 0%)\n",
      "  adding: gbt-classifier-model/data/part-00006-1e6cdfa4-6b0c-4dbd-a7bf-639b02de3ce3-c000.snappy.parquet (deflated 49%)\n",
      "  adding: gbt-classifier-model/data/.part-00015-1e6cdfa4-6b0c-4dbd-a7bf-639b02de3ce3-c000.snappy.parquet.crc (stored 0%)\n",
      "  adding: gbt-classifier-model/data/part-00014-1e6cdfa4-6b0c-4dbd-a7bf-639b02de3ce3-c000.snappy.parquet (deflated 48%)\n",
      "  adding: gbt-classifier-model/data/.part-00000-1e6cdfa4-6b0c-4dbd-a7bf-639b02de3ce3-c000.snappy.parquet.crc (stored 0%)\n",
      "  adding: gbt-classifier-model/data/part-00011-1e6cdfa4-6b0c-4dbd-a7bf-639b02de3ce3-c000.snappy.parquet (deflated 43%)\n",
      "  adding: gbt-classifier-model/data/_SUCCESS (stored 0%)\n",
      "  adding: gbt-classifier-model/data/.part-00013-1e6cdfa4-6b0c-4dbd-a7bf-639b02de3ce3-c000.snappy.parquet.crc (stored 0%)\n",
      "  adding: gbt-classifier-model/data/part-00015-1e6cdfa4-6b0c-4dbd-a7bf-639b02de3ce3-c000.snappy.parquet (deflated 43%)\n",
      "  adding: gbt-classifier-model/data/.part-00003-1e6cdfa4-6b0c-4dbd-a7bf-639b02de3ce3-c000.snappy.parquet.crc (stored 0%)\n",
      "  adding: gbt-classifier-model/data/part-00013-1e6cdfa4-6b0c-4dbd-a7bf-639b02de3ce3-c000.snappy.parquet (deflated 43%)\n",
      "  adding: gbt-classifier-model/data/.part-00009-1e6cdfa4-6b0c-4dbd-a7bf-639b02de3ce3-c000.snappy.parquet.crc (stored 0%)\n",
      "  adding: gbt-classifier-model/data/._SUCCESS.crc (stored 0%)\n",
      "  adding: gbt-classifier-model/data/part-00004-1e6cdfa4-6b0c-4dbd-a7bf-639b02de3ce3-c000.snappy.parquet (deflated 49%)\n",
      "  adding: gbt-classifier-model/data/part-00000-1e6cdfa4-6b0c-4dbd-a7bf-639b02de3ce3-c000.snappy.parquet (deflated 50%)\n",
      "  adding: gbt-classifier-model/data/.part-00001-1e6cdfa4-6b0c-4dbd-a7bf-639b02de3ce3-c000.snappy.parquet.crc (stored 0%)\n",
      "  adding: gbt-classifier-model/data/.part-00012-1e6cdfa4-6b0c-4dbd-a7bf-639b02de3ce3-c000.snappy.parquet.crc (stored 0%)\n",
      "  adding: gbt-classifier-model/data/part-00001-1e6cdfa4-6b0c-4dbd-a7bf-639b02de3ce3-c000.snappy.parquet (deflated 43%)\n",
      "  adding: gbt-classifier-model/data/part-00002-1e6cdfa4-6b0c-4dbd-a7bf-639b02de3ce3-c000.snappy.parquet (deflated 49%)\n",
      "  adding: gbt-classifier-model/data/.part-00014-1e6cdfa4-6b0c-4dbd-a7bf-639b02de3ce3-c000.snappy.parquet.crc (stored 0%)\n",
      "  adding: gbt-classifier-model/data/part-00007-1e6cdfa4-6b0c-4dbd-a7bf-639b02de3ce3-c000.snappy.parquet (deflated 43%)\n",
      "  adding: gbt-classifier-model/data/.part-00002-1e6cdfa4-6b0c-4dbd-a7bf-639b02de3ce3-c000.snappy.parquet.crc (stored 0%)\n",
      "  adding: gbt-classifier-model/data/part-00008-1e6cdfa4-6b0c-4dbd-a7bf-639b02de3ce3-c000.snappy.parquet (deflated 49%)\n",
      "  adding: gbt-classifier-model/data/.part-00005-1e6cdfa4-6b0c-4dbd-a7bf-639b02de3ce3-c000.snappy.parquet.crc (stored 0%)\n",
      "  adding: gbt-classifier-model/data/part-00003-1e6cdfa4-6b0c-4dbd-a7bf-639b02de3ce3-c000.snappy.parquet (deflated 43%)\n",
      "  adding: gbt-classifier-model/data/.part-00004-1e6cdfa4-6b0c-4dbd-a7bf-639b02de3ce3-c000.snappy.parquet.crc (stored 0%)\n",
      "  adding: gbt-classifier-model/data/.part-00008-1e6cdfa4-6b0c-4dbd-a7bf-639b02de3ce3-c000.snappy.parquet.crc (stored 0%)\n",
      "  adding: gbt-classifier-model/data/part-00012-1e6cdfa4-6b0c-4dbd-a7bf-639b02de3ce3-c000.snappy.parquet (deflated 49%)\n",
      "  adding: gbt-classifier-model/data/.part-00007-1e6cdfa4-6b0c-4dbd-a7bf-639b02de3ce3-c000.snappy.parquet.crc (stored 0%)\n",
      "  adding: gbt-classifier-model/data/part-00005-1e6cdfa4-6b0c-4dbd-a7bf-639b02de3ce3-c000.snappy.parquet (deflated 43%)\n",
      "  adding: gbt-classifier-model/data/.part-00006-1e6cdfa4-6b0c-4dbd-a7bf-639b02de3ce3-c000.snappy.parquet.crc (stored 0%)\n",
      "  adding: gbt-classifier-model/data/part-00009-1e6cdfa4-6b0c-4dbd-a7bf-639b02de3ce3-c000.snappy.parquet (deflated 43%)\n",
      "  adding: gbt-classifier-model/data/part-00010-1e6cdfa4-6b0c-4dbd-a7bf-639b02de3ce3-c000.snappy.parquet (deflated 49%)\n",
      "  adding: gbt-classifier-model/treesMetadata/ (stored 0%)\n",
      "  adding: gbt-classifier-model/treesMetadata/part-00004-7b51fa98-ebd0-4239-ad1f-f106635b0af8-c000.snappy.parquet (deflated 70%)\n",
      "  adding: gbt-classifier-model/treesMetadata/.part-00005-7b51fa98-ebd0-4239-ad1f-f106635b0af8-c000.snappy.parquet.crc (stored 0%)\n",
      "  adding: gbt-classifier-model/treesMetadata/part-00014-7b51fa98-ebd0-4239-ad1f-f106635b0af8-c000.snappy.parquet (deflated 70%)\n",
      "  adding: gbt-classifier-model/treesMetadata/.part-00001-7b51fa98-ebd0-4239-ad1f-f106635b0af8-c000.snappy.parquet.crc (stored 0%)\n",
      "  adding: gbt-classifier-model/treesMetadata/.part-00009-7b51fa98-ebd0-4239-ad1f-f106635b0af8-c000.snappy.parquet.crc (stored 0%)\n",
      "  adding: gbt-classifier-model/treesMetadata/_SUCCESS (stored 0%)\n",
      "  adding: gbt-classifier-model/treesMetadata/.part-00015-7b51fa98-ebd0-4239-ad1f-f106635b0af8-c000.snappy.parquet.crc (stored 0%)\n",
      "  adding: gbt-classifier-model/treesMetadata/.part-00000-7b51fa98-ebd0-4239-ad1f-f106635b0af8-c000.snappy.parquet.crc (stored 0%)\n",
      "  adding: gbt-classifier-model/treesMetadata/.part-00002-7b51fa98-ebd0-4239-ad1f-f106635b0af8-c000.snappy.parquet.crc (stored 0%)\n",
      "  adding: gbt-classifier-model/treesMetadata/.part-00012-7b51fa98-ebd0-4239-ad1f-f106635b0af8-c000.snappy.parquet.crc (stored 0%)\n",
      "  adding: gbt-classifier-model/treesMetadata/part-00000-7b51fa98-ebd0-4239-ad1f-f106635b0af8-c000.snappy.parquet (deflated 71%)\n",
      "  adding: gbt-classifier-model/treesMetadata/part-00007-7b51fa98-ebd0-4239-ad1f-f106635b0af8-c000.snappy.parquet (deflated 68%)\n",
      "  adding: gbt-classifier-model/treesMetadata/._SUCCESS.crc (stored 0%)\n",
      "  adding: gbt-classifier-model/treesMetadata/.part-00010-7b51fa98-ebd0-4239-ad1f-f106635b0af8-c000.snappy.parquet.crc (stored 0%)\n",
      "  adding: gbt-classifier-model/treesMetadata/.part-00008-7b51fa98-ebd0-4239-ad1f-f106635b0af8-c000.snappy.parquet.crc (stored 0%)\n",
      "  adding: gbt-classifier-model/treesMetadata/part-00009-7b51fa98-ebd0-4239-ad1f-f106635b0af8-c000.snappy.parquet (deflated 68%)\n",
      "  adding: gbt-classifier-model/treesMetadata/.part-00013-7b51fa98-ebd0-4239-ad1f-f106635b0af8-c000.snappy.parquet.crc (stored 0%)\n",
      "  adding: gbt-classifier-model/treesMetadata/part-00012-7b51fa98-ebd0-4239-ad1f-f106635b0af8-c000.snappy.parquet (deflated 70%)\n",
      "  adding: gbt-classifier-model/treesMetadata/part-00005-7b51fa98-ebd0-4239-ad1f-f106635b0af8-c000.snappy.parquet (deflated 68%)\n",
      "  adding: gbt-classifier-model/treesMetadata/.part-00003-7b51fa98-ebd0-4239-ad1f-f106635b0af8-c000.snappy.parquet.crc (stored 0%)\n",
      "  adding: gbt-classifier-model/treesMetadata/.part-00004-7b51fa98-ebd0-4239-ad1f-f106635b0af8-c000.snappy.parquet.crc (stored 0%)\n",
      "  adding: gbt-classifier-model/treesMetadata/.part-00011-7b51fa98-ebd0-4239-ad1f-f106635b0af8-c000.snappy.parquet.crc (stored 0%)\n",
      "  adding: gbt-classifier-model/treesMetadata/part-00001-7b51fa98-ebd0-4239-ad1f-f106635b0af8-c000.snappy.parquet (deflated 69%)\n",
      "  adding: gbt-classifier-model/treesMetadata/part-00010-7b51fa98-ebd0-4239-ad1f-f106635b0af8-c000.snappy.parquet (deflated 70%)\n",
      "  adding: gbt-classifier-model/treesMetadata/part-00015-7b51fa98-ebd0-4239-ad1f-f106635b0af8-c000.snappy.parquet (deflated 68%)\n",
      "  adding: gbt-classifier-model/treesMetadata/.part-00014-7b51fa98-ebd0-4239-ad1f-f106635b0af8-c000.snappy.parquet.crc (stored 0%)\n",
      "  adding: gbt-classifier-model/treesMetadata/part-00003-7b51fa98-ebd0-4239-ad1f-f106635b0af8-c000.snappy.parquet (deflated 68%)\n",
      "  adding: gbt-classifier-model/treesMetadata/part-00002-7b51fa98-ebd0-4239-ad1f-f106635b0af8-c000.snappy.parquet (deflated 71%)\n",
      "  adding: gbt-classifier-model/treesMetadata/part-00006-7b51fa98-ebd0-4239-ad1f-f106635b0af8-c000.snappy.parquet (deflated 70%)\n",
      "  adding: gbt-classifier-model/treesMetadata/part-00011-7b51fa98-ebd0-4239-ad1f-f106635b0af8-c000.snappy.parquet (deflated 68%)\n",
      "  adding: gbt-classifier-model/treesMetadata/part-00008-7b51fa98-ebd0-4239-ad1f-f106635b0af8-c000.snappy.parquet (deflated 70%)\n",
      "  adding: gbt-classifier-model/treesMetadata/part-00013-7b51fa98-ebd0-4239-ad1f-f106635b0af8-c000.snappy.parquet (deflated 69%)\n",
      "  adding: gbt-classifier-model/treesMetadata/.part-00006-7b51fa98-ebd0-4239-ad1f-f106635b0af8-c000.snappy.parquet.crc (stored 0%)\n",
      "  adding: gbt-classifier-model/treesMetadata/.part-00007-7b51fa98-ebd0-4239-ad1f-f106635b0af8-c000.snappy.parquet.crc (stored 0%)\n",
      "  adding: gbt-classifier-model/metadata/ (stored 0%)\n",
      "  adding: gbt-classifier-model/metadata/_SUCCESS (stored 0%)\n",
      "  adding: gbt-classifier-model/metadata/._SUCCESS.crc (stored 0%)\n",
      "  adding: gbt-classifier-model/metadata/.part-00000.crc (stored 0%)\n",
      "  adding: gbt-classifier-model/metadata/part-00000 (deflated 46%)\n"
     ]
    }
   ],
   "source": [
    "!zip -r gbt-classifier-model.zip gbt-classifier-model/"
   ]
  },
  {
   "cell_type": "code",
   "execution_count": 81,
   "metadata": {},
   "outputs": [
    {
     "name": "stdout",
     "output_type": "stream",
     "text": [
      "  adding: random-forest-classifier-model/ (stored 0%)\n",
      "  adding: random-forest-classifier-model/data/ (stored 0%)\n",
      "  adding: random-forest-classifier-model/data/.part-00013-911cdd4a-3d12-4403-919e-8f3aa2c8fa7e-c000.snappy.parquet.crc (stored 0%)\n",
      "  adding: random-forest-classifier-model/data/part-00014-911cdd4a-3d12-4403-919e-8f3aa2c8fa7e-c000.snappy.parquet (deflated 15%)\n",
      "  adding: random-forest-classifier-model/data/.part-00000-911cdd4a-3d12-4403-919e-8f3aa2c8fa7e-c000.snappy.parquet.crc (stored 0%)\n",
      "  adding: random-forest-classifier-model/data/.part-00009-911cdd4a-3d12-4403-919e-8f3aa2c8fa7e-c000.snappy.parquet.crc (stored 0%)\n",
      "  adding: random-forest-classifier-model/data/.part-00004-911cdd4a-3d12-4403-919e-8f3aa2c8fa7e-c000.snappy.parquet.crc (stored 0%)\n",
      "  adding: random-forest-classifier-model/data/part-00008-911cdd4a-3d12-4403-919e-8f3aa2c8fa7e-c000.snappy.parquet (deflated 15%)\n",
      "  adding: random-forest-classifier-model/data/.part-00007-911cdd4a-3d12-4403-919e-8f3aa2c8fa7e-c000.snappy.parquet.crc (stored 0%)\n",
      "  adding: random-forest-classifier-model/data/.part-00001-911cdd4a-3d12-4403-919e-8f3aa2c8fa7e-c000.snappy.parquet.crc (stored 0%)\n",
      "  adding: random-forest-classifier-model/data/_SUCCESS (stored 0%)\n",
      "  adding: random-forest-classifier-model/data/part-00015-911cdd4a-3d12-4403-919e-8f3aa2c8fa7e-c000.snappy.parquet (deflated 16%)\n",
      "  adding: random-forest-classifier-model/data/part-00003-911cdd4a-3d12-4403-919e-8f3aa2c8fa7e-c000.snappy.parquet (deflated 14%)\n",
      "  adding: random-forest-classifier-model/data/.part-00008-911cdd4a-3d12-4403-919e-8f3aa2c8fa7e-c000.snappy.parquet.crc (stored 0%)\n",
      "  adding: random-forest-classifier-model/data/._SUCCESS.crc (stored 0%)\n",
      "  adding: random-forest-classifier-model/data/.part-00003-911cdd4a-3d12-4403-919e-8f3aa2c8fa7e-c000.snappy.parquet.crc (stored 0%)\n",
      "  adding: random-forest-classifier-model/data/part-00001-911cdd4a-3d12-4403-919e-8f3aa2c8fa7e-c000.snappy.parquet (deflated 13%)\n",
      "  adding: random-forest-classifier-model/data/part-00000-911cdd4a-3d12-4403-919e-8f3aa2c8fa7e-c000.snappy.parquet (deflated 15%)\n",
      "  adding: random-forest-classifier-model/data/part-00005-911cdd4a-3d12-4403-919e-8f3aa2c8fa7e-c000.snappy.parquet (deflated 14%)\n",
      "  adding: random-forest-classifier-model/data/part-00004-911cdd4a-3d12-4403-919e-8f3aa2c8fa7e-c000.snappy.parquet (deflated 15%)\n",
      "  adding: random-forest-classifier-model/data/.part-00012-911cdd4a-3d12-4403-919e-8f3aa2c8fa7e-c000.snappy.parquet.crc (stored 0%)\n",
      "  adding: random-forest-classifier-model/data/part-00002-911cdd4a-3d12-4403-919e-8f3aa2c8fa7e-c000.snappy.parquet (deflated 13%)\n",
      "  adding: random-forest-classifier-model/data/.part-00015-911cdd4a-3d12-4403-919e-8f3aa2c8fa7e-c000.snappy.parquet.crc (stored 0%)\n",
      "  adding: random-forest-classifier-model/data/part-00013-911cdd4a-3d12-4403-919e-8f3aa2c8fa7e-c000.snappy.parquet (deflated 16%)\n",
      "  adding: random-forest-classifier-model/data/part-00011-911cdd4a-3d12-4403-919e-8f3aa2c8fa7e-c000.snappy.parquet (deflated 15%)\n",
      "  adding: random-forest-classifier-model/data/part-00006-911cdd4a-3d12-4403-919e-8f3aa2c8fa7e-c000.snappy.parquet (deflated 15%)\n",
      "  adding: random-forest-classifier-model/data/.part-00005-911cdd4a-3d12-4403-919e-8f3aa2c8fa7e-c000.snappy.parquet.crc (stored 0%)\n",
      "  adding: random-forest-classifier-model/data/.part-00010-911cdd4a-3d12-4403-919e-8f3aa2c8fa7e-c000.snappy.parquet.crc (stored 0%)\n",
      "  adding: random-forest-classifier-model/data/part-00012-911cdd4a-3d12-4403-919e-8f3aa2c8fa7e-c000.snappy.parquet (deflated 14%)\n",
      "  adding: random-forest-classifier-model/data/.part-00002-911cdd4a-3d12-4403-919e-8f3aa2c8fa7e-c000.snappy.parquet.crc (stored 0%)\n",
      "  adding: random-forest-classifier-model/data/.part-00014-911cdd4a-3d12-4403-919e-8f3aa2c8fa7e-c000.snappy.parquet.crc (stored 0%)\n",
      "  adding: random-forest-classifier-model/data/part-00009-911cdd4a-3d12-4403-919e-8f3aa2c8fa7e-c000.snappy.parquet (deflated 16%)\n",
      "  adding: random-forest-classifier-model/data/.part-00006-911cdd4a-3d12-4403-919e-8f3aa2c8fa7e-c000.snappy.parquet.crc (stored 0%)\n",
      "  adding: random-forest-classifier-model/data/.part-00011-911cdd4a-3d12-4403-919e-8f3aa2c8fa7e-c000.snappy.parquet.crc (stored 0%)\n",
      "  adding: random-forest-classifier-model/data/part-00010-911cdd4a-3d12-4403-919e-8f3aa2c8fa7e-c000.snappy.parquet (deflated 15%)\n",
      "  adding: random-forest-classifier-model/data/part-00007-911cdd4a-3d12-4403-919e-8f3aa2c8fa7e-c000.snappy.parquet (deflated 14%)\n",
      "  adding: random-forest-classifier-model/treesMetadata/ (stored 0%)\n",
      "  adding: random-forest-classifier-model/treesMetadata/part-00008-3e43cbe8-026e-41e9-abeb-a4a13a8f7dae-c000.snappy.parquet (deflated 42%)\n",
      "  adding: random-forest-classifier-model/treesMetadata/.part-00006-3e43cbe8-026e-41e9-abeb-a4a13a8f7dae-c000.snappy.parquet.crc (stored 0%)\n",
      "  adding: random-forest-classifier-model/treesMetadata/.part-00012-3e43cbe8-026e-41e9-abeb-a4a13a8f7dae-c000.snappy.parquet.crc (stored 0%)\n",
      "  adding: random-forest-classifier-model/treesMetadata/_SUCCESS (stored 0%)\n",
      "  adding: random-forest-classifier-model/treesMetadata/.part-00002-3e43cbe8-026e-41e9-abeb-a4a13a8f7dae-c000.snappy.parquet.crc (stored 0%)\n",
      "  adding: random-forest-classifier-model/treesMetadata/part-00012-3e43cbe8-026e-41e9-abeb-a4a13a8f7dae-c000.snappy.parquet (deflated 41%)\n",
      "  adding: random-forest-classifier-model/treesMetadata/part-00006-3e43cbe8-026e-41e9-abeb-a4a13a8f7dae-c000.snappy.parquet (deflated 41%)\n",
      "  adding: random-forest-classifier-model/treesMetadata/._SUCCESS.crc (stored 0%)\n",
      "  adding: random-forest-classifier-model/treesMetadata/part-00003-3e43cbe8-026e-41e9-abeb-a4a13a8f7dae-c000.snappy.parquet (deflated 41%)\n",
      "  adding: random-forest-classifier-model/treesMetadata/.part-00013-3e43cbe8-026e-41e9-abeb-a4a13a8f7dae-c000.snappy.parquet.crc (stored 0%)\n",
      "  adding: random-forest-classifier-model/treesMetadata/.part-00010-3e43cbe8-026e-41e9-abeb-a4a13a8f7dae-c000.snappy.parquet.crc (stored 0%)\n",
      "  adding: random-forest-classifier-model/treesMetadata/.part-00011-3e43cbe8-026e-41e9-abeb-a4a13a8f7dae-c000.snappy.parquet.crc (stored 0%)\n",
      "  adding: random-forest-classifier-model/treesMetadata/.part-00005-3e43cbe8-026e-41e9-abeb-a4a13a8f7dae-c000.snappy.parquet.crc (stored 0%)\n",
      "  adding: random-forest-classifier-model/treesMetadata/.part-00001-3e43cbe8-026e-41e9-abeb-a4a13a8f7dae-c000.snappy.parquet.crc (stored 0%)\n",
      "  adding: random-forest-classifier-model/treesMetadata/part-00004-3e43cbe8-026e-41e9-abeb-a4a13a8f7dae-c000.snappy.parquet (deflated 40%)\n",
      "  adding: random-forest-classifier-model/treesMetadata/part-00007-3e43cbe8-026e-41e9-abeb-a4a13a8f7dae-c000.snappy.parquet (deflated 40%)\n",
      "  adding: random-forest-classifier-model/treesMetadata/.part-00009-3e43cbe8-026e-41e9-abeb-a4a13a8f7dae-c000.snappy.parquet.crc (stored 0%)\n",
      "  adding: random-forest-classifier-model/treesMetadata/.part-00000-3e43cbe8-026e-41e9-abeb-a4a13a8f7dae-c000.snappy.parquet.crc (stored 0%)\n",
      "  adding: random-forest-classifier-model/treesMetadata/.part-00008-3e43cbe8-026e-41e9-abeb-a4a13a8f7dae-c000.snappy.parquet.crc (stored 0%)\n",
      "  adding: random-forest-classifier-model/treesMetadata/.part-00014-3e43cbe8-026e-41e9-abeb-a4a13a8f7dae-c000.snappy.parquet.crc (stored 0%)\n",
      "  adding: random-forest-classifier-model/treesMetadata/part-00001-3e43cbe8-026e-41e9-abeb-a4a13a8f7dae-c000.snappy.parquet (deflated 41%)\n",
      "  adding: random-forest-classifier-model/treesMetadata/part-00009-3e43cbe8-026e-41e9-abeb-a4a13a8f7dae-c000.snappy.parquet (deflated 41%)\n",
      "  adding: random-forest-classifier-model/treesMetadata/.part-00007-3e43cbe8-026e-41e9-abeb-a4a13a8f7dae-c000.snappy.parquet.crc (stored 0%)\n",
      "  adding: random-forest-classifier-model/treesMetadata/part-00005-3e43cbe8-026e-41e9-abeb-a4a13a8f7dae-c000.snappy.parquet (deflated 41%)\n",
      "  adding: random-forest-classifier-model/treesMetadata/.part-00003-3e43cbe8-026e-41e9-abeb-a4a13a8f7dae-c000.snappy.parquet.crc (stored 0%)\n",
      "  adding: random-forest-classifier-model/treesMetadata/part-00014-3e43cbe8-026e-41e9-abeb-a4a13a8f7dae-c000.snappy.parquet (deflated 41%)\n",
      "  adding: random-forest-classifier-model/treesMetadata/part-00015-3e43cbe8-026e-41e9-abeb-a4a13a8f7dae-c000.snappy.parquet (deflated 41%)\n",
      "  adding: random-forest-classifier-model/treesMetadata/.part-00004-3e43cbe8-026e-41e9-abeb-a4a13a8f7dae-c000.snappy.parquet.crc (stored 0%)\n",
      "  adding: random-forest-classifier-model/treesMetadata/part-00002-3e43cbe8-026e-41e9-abeb-a4a13a8f7dae-c000.snappy.parquet (deflated 41%)\n",
      "  adding: random-forest-classifier-model/treesMetadata/part-00011-3e43cbe8-026e-41e9-abeb-a4a13a8f7dae-c000.snappy.parquet (deflated 41%)\n",
      "  adding: random-forest-classifier-model/treesMetadata/part-00010-3e43cbe8-026e-41e9-abeb-a4a13a8f7dae-c000.snappy.parquet (deflated 42%)\n",
      "  adding: random-forest-classifier-model/treesMetadata/part-00013-3e43cbe8-026e-41e9-abeb-a4a13a8f7dae-c000.snappy.parquet (deflated 41%)\n",
      "  adding: random-forest-classifier-model/treesMetadata/.part-00015-3e43cbe8-026e-41e9-abeb-a4a13a8f7dae-c000.snappy.parquet.crc (stored 0%)\n",
      "  adding: random-forest-classifier-model/treesMetadata/part-00000-3e43cbe8-026e-41e9-abeb-a4a13a8f7dae-c000.snappy.parquet (deflated 42%)\n",
      "  adding: random-forest-classifier-model/metadata/ (stored 0%)\n",
      "  adding: random-forest-classifier-model/metadata/_SUCCESS (stored 0%)\n",
      "  adding: random-forest-classifier-model/metadata/._SUCCESS.crc (stored 0%)\n",
      "  adding: random-forest-classifier-model/metadata/.part-00000.crc (stored 0%)\n",
      "  adding: random-forest-classifier-model/metadata/part-00000 (deflated 48%)\n"
     ]
    }
   ],
   "source": [
    "!zip -r random-forest-classifier-model.zip random-forest-classifier-model/"
   ]
  },
  {
   "cell_type": "code",
   "execution_count": null,
   "metadata": {},
   "outputs": [],
   "source": []
  }
 ],
 "metadata": {
  "kernelspec": {
   "display_name": "Python 3",
   "language": "python",
   "name": "python3"
  },
  "language_info": {
   "codemirror_mode": {
    "name": "ipython",
    "version": 3
   },
   "file_extension": ".py",
   "mimetype": "text/x-python",
   "name": "python",
   "nbconvert_exporter": "python",
   "pygments_lexer": "ipython3",
   "version": "3.7.4"
  }
 },
 "nbformat": 4,
 "nbformat_minor": 4
}
