{
  "nbformat": 4,
  "nbformat_minor": 0,
  "metadata": {
    "colab": {
      "name": "BD_Assignment_1.ipynb",
      "provenance": []
    },
    "kernelspec": {
      "name": "python3",
      "display_name": "Python 3"
    }
  },
  "cells": [
    {
      "cell_type": "markdown",
      "metadata": {
        "id": "s9OYYtFA2OmD"
      },
      "source": [
        "**Big Data**\n",
        "\n",
        "**2020-2021**\n",
        "\n",
        "**Programming Assignment # 1**\n",
        "\n",
        "**Guidelines:**\n",
        "\n",
        "1. The assignment should be performed individually.\n",
        "2. All submissions will be online (e-learning).\n",
        "3. Assignment should include your full name and student ID.\n",
        "4. Cutoff date for this homework is 05-1-2021 @ 12:00 PM.\n",
        "5. Any late submission will be graded 0/100.\n",
        "6. Academic Fraud: Cases of plagiarism will be handled according to university regulations.\n",
        "7. Your homework should be solved as a Jupyter notebook file\n",
        "8. You will submit a .ipynb file called YourName-ID.ipynb\n",
        "9. Show all code in each step.\n",
        "\n"
      ]
    },
    {
      "cell_type": "markdown",
      "metadata": {
        "id": "kgvj_X4_54aj"
      },
      "source": [
        "---------------------"
      ]
    },
    {
      "cell_type": "markdown",
      "metadata": {
        "id": "nyhVmCPi4WDP"
      },
      "source": [
        "## Question 1 [50/100]"
      ]
    },
    {
      "cell_type": "markdown",
      "metadata": {
        "id": "_I_hJY5f23U0"
      },
      "source": [
        "Download **Mosquitoes-Trap-Data** from this [URL](https://data.edmonton.ca/Environmental-Services/Mosquitoes-Trap-Data/5zeu-wkpv).\n",
        "\n",
        "Write a complete PySpark application to answer the follwoing question. Make sure to define the schema and prvide all necessary spark transofrmation and action code to get to the answers.   \n",
        "  \n",
        "  - **Q1.1** Report all problems you can find in the dataset and how you fixed them.\n",
        "  - **Q1.2** How many mosquitos caught in 2014?\n",
        "  - **Q1.3** How many mosquitos of each species were caught?\n",
        "  - **Q1.4** Which traps caught the most mosquitos?\n",
        "  \n",
        "\n"
      ]
    },
    {
      "cell_type": "code",
      "metadata": {
        "colab": {
          "base_uri": "https://localhost:8080/",
          "height": 35
        },
        "id": "jwE37XXu4rBA",
        "outputId": "44449cf6-303a-4749-eb06-9240403720b6"
      },
      "source": [
        "### Write you code here \n",
        "\n",
        "\"\"\"\n",
        "\n",
        "Your answers  \n",
        "\n",
        "\"\"\""
      ],
      "execution_count": 2,
      "outputs": [
        {
          "output_type": "execute_result",
          "data": {
            "application/vnd.google.colaboratory.intrinsic+json": {
              "type": "string"
            },
            "text/plain": [
              "'\\n\\nYour answers  \\n\\n'"
            ]
          },
          "metadata": {
            "tags": []
          },
          "execution_count": 2
        }
      ]
    },
    {
      "cell_type": "markdown",
      "metadata": {
        "id": "XXAFA7On457Y"
      },
      "source": [
        "-----------------"
      ]
    },
    {
      "cell_type": "markdown",
      "metadata": {
        "id": "aT8BbQ6R43ft"
      },
      "source": [
        "## Question 2 [50/100]"
      ]
    },
    {
      "cell_type": "markdown",
      "metadata": {
        "id": "SOxgizSw43gL"
      },
      "source": [
        "Download **LED Streetlight Conversion Data** from this [URL](https://data.edmonton.ca/Transportation/LED-Streetlight-Conversion/rxke-mcvd).\n",
        "\n",
        "Write a complete PySpark application to answer the follwoing questions. Make sure to define the schema and provide all necessary spark transofrmations and actions  to get to the answers.   \n",
        "  \n",
        "  - **Q2.1** Report all problems you can find in the dataset and how you fixed them.\n",
        "  - **Q2.2** How many total streetlights?\n",
        "  - **Q2.3** How many streetlights are converted to LED?\n",
        "  - **Q2.4** How many streetlights were converted by year?\n",
        "  "
      ]
    },
    {
      "cell_type": "code",
      "metadata": {
        "colab": {
          "base_uri": "https://localhost:8080/",
          "height": 35
        },
        "id": "wd0abrwe43gM",
        "outputId": "44449cf6-303a-4749-eb06-9240403720b6"
      },
      "source": [
        "### Write you code here \n",
        "\n",
        "\"\"\"\n",
        "\n",
        "Your answers  \n",
        "\n",
        "\"\"\""
      ],
      "execution_count": null,
      "outputs": [
        {
          "output_type": "execute_result",
          "data": {
            "application/vnd.google.colaboratory.intrinsic+json": {
              "type": "string"
            },
            "text/plain": [
              "'\\n\\nYour answers  \\n\\n'"
            ]
          },
          "metadata": {
            "tags": []
          },
          "execution_count": 2
        }
      ]
    }
  ]
}