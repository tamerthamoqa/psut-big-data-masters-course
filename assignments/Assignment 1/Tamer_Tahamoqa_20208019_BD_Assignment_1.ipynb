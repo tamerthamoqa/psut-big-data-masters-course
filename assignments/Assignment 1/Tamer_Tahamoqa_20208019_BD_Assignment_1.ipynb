{
 "cells": [
  {
   "cell_type": "markdown",
   "metadata": {
    "id": "s9OYYtFA2OmD"
   },
   "source": [
    "**Big Data**\n",
    "\n",
    "**2020-2021**\n",
    "\n",
    "**Programming Assignment # 1**\n",
    "\n",
    "**Student Name: Tamer Tahamoqa**\n",
    "\n",
    "**Student ID: 20208019**\n",
    "\n",
    "**Guidelines:**\n",
    "\n",
    "1. The assignment should be performed individually.\n",
    "2. All submissions will be online (e-learning).\n",
    "3. Assignment should include your full name and student ID.\n",
    "4. Cutoff date for this homework is 05-1-2021 @ 12:00 PM.\n",
    "5. Any late submission will be graded 0/100.\n",
    "6. Academic Fraud: Cases of plagiarism will be handled according to university regulations.\n",
    "7. Your homework should be solved as a Jupyter notebook file\n",
    "8. You will submit a .ipynb file called YourName-ID.ipynb\n",
    "9. Show all code in each step.\n",
    "\n"
   ]
  },
  {
   "cell_type": "code",
   "execution_count": 1,
   "metadata": {},
   "outputs": [],
   "source": [
    "# Instantiating Spark Session\n",
    "from pyspark.sql import SparkSession\n",
    "from pyspark.sql import functions as F\n",
    "\n",
    "spark = SparkSession.builder.master(\"local[*]\").getOrCreate()"
   ]
  },
  {
   "cell_type": "markdown",
   "metadata": {
    "id": "kgvj_X4_54aj"
   },
   "source": [
    "---------------------"
   ]
  },
  {
   "cell_type": "markdown",
   "metadata": {
    "id": "nyhVmCPi4WDP"
   },
   "source": [
    "## Question 1 [50/100]"
   ]
  },
  {
   "cell_type": "markdown",
   "metadata": {
    "id": "_I_hJY5f23U0"
   },
   "source": [
    "Download **Mosquitoes-Trap-Data** from this [URL](https://data.edmonton.ca/Environmental-Services/Mosquitoes-Trap-Data/5zeu-wkpv).\n",
    "\n",
    "Write a complete PySpark application to answer the follwoing question. Make sure to define the schema and prvide all necessary spark transofrmation and action code to get to the answers.   \n",
    "  \n",
    "  - **Q1.1** Report all problems you can find in the dataset and how you fixed them.\n",
    "  - **Q1.2** How many mosquitos caught in 2014?\n",
    "  - **Q1.3** How many mosquitos of each species were caught?\n",
    "  - **Q1.4** Which traps caught the most mosquitos?\n",
    "  \n",
    "\n"
   ]
  },
  {
   "cell_type": "markdown",
   "metadata": {},
   "source": [
    "### __Q1.1__ Report all problems you can find in the dataset and how you fixed them"
   ]
  },
  {
   "cell_type": "code",
   "execution_count": 2,
   "metadata": {},
   "outputs": [],
   "source": [
    "# Inferring column names from the first row and inferring the data type on read\n",
    "df_mosquito = spark.read.csv(\"Mosquitoes_Trap_Data__May_2011_to_Sep_2015_.csv\", header=True, inferSchema=True)"
   ]
  },
  {
   "cell_type": "code",
   "execution_count": 3,
   "metadata": {},
   "outputs": [
    {
     "name": "stdout",
     "output_type": "stream",
     "text": [
      "root\n",
      " |-- TRAP_DATE: string (nullable = true)\n",
      " |-- GENUS: string (nullable = true)\n",
      " |-- SPECIES: string (nullable = true)\n",
      " |-- TYPE: string (nullable = true)\n",
      " |-- GENDER: string (nullable = true)\n",
      " |-- RURAL NORTH WEST: integer (nullable = true)\n",
      " |-- RURAL NORTH EAST: integer (nullable = true)\n",
      " |-- RURAL SOUTH EAST: integer (nullable = true)\n",
      " |-- RIVER VALLEY EAST: integer (nullable = true)\n",
      " |-- RIVER VALLEY WEST: integer (nullable = true)\n",
      " |-- RESIDENTIAL NORTH: integer (nullable = true)\n",
      " |-- RURAL SOUTH WEST: integer (nullable = true)\n",
      " |-- LAGOON: integer (nullable = true)\n",
      " |-- GOLF COURSE: integer (nullable = true)\n",
      " |-- INDUSTRIAL PARK: integer (nullable = true)\n",
      " |-- RESIDENTIAL SOUTH: integer (nullable = true)\n",
      " |-- TOTAL: integer (nullable = true)\n",
      "\n"
     ]
    }
   ],
   "source": [
    "df_mosquito.printSchema()"
   ]
  },
  {
   "cell_type": "code",
   "execution_count": 4,
   "metadata": {},
   "outputs": [
    {
     "name": "stdout",
     "output_type": "stream",
     "text": [
      "+------------+-----+----------+-----------+------+----------------+----------------+----------------+-----------------+-----------------+-----------------+----------------+------+-----------+---------------+-----------------+-----+\n",
      "|   TRAP_DATE|GENUS|   SPECIES|       TYPE|GENDER|RURAL NORTH WEST|RURAL NORTH EAST|RURAL SOUTH EAST|RIVER VALLEY EAST|RIVER VALLEY WEST|RESIDENTIAL NORTH|RURAL SOUTH WEST|LAGOON|GOLF COURSE|INDUSTRIAL PARK|RESIDENTIAL SOUTH|TOTAL|\n",
      "+------------+-----+----------+-----------+------+----------------+----------------+----------------+-----------------+-----------------+-----------------+----------------+------+-----------+---------------+-----------------+-----+\n",
      "| May 17 2011| null|      null|    Unknown|Female|            null|            null|            null|             null|             null|             null|            null|  null|       null|           null|             null| null|\n",
      "| May 31 2011|Culex|      null|       null|Female|            null|            null|            null|             null|             null|             null|            null|  null|       null|           null|             null| null|\n",
      "|June 05 2012| null|      null|       null|  Male|            null|            null|            null|             null|             null|             null|            null|  null|       null|           null|             null|    0|\n",
      "| May 10 2011|Aedes|      null|       null|Female|            null|            null|            null|             null|             null|             null|            null|  null|       null|           null|             null| null|\n",
      "| May 10 2011|Aedes|      null| Black legs|Female|            null|            null|            null|             null|             null|             null|            null|  null|       null|           null|             null| null|\n",
      "| May 10 2011|Aedes|cataphylla| Black legs|Female|            null|            null|            null|             null|             null|             null|            null|  null|       null|           null|             null| null|\n",
      "| May 10 2011|Aedes|  cinereus| Black legs|Female|            null|            null|            null|             null|             null|             null|            null|  null|       null|           null|             null| null|\n",
      "| May 10 2011|Aedes|  communis| Black legs|Female|            null|            null|            null|             null|             null|             null|            null|  null|       null|           null|             null| null|\n",
      "| May 10 2011|Aedes| diantaeus| Black legs|Female|            null|            null|            null|             null|             null|             null|            null|  null|       null|           null|             null| null|\n",
      "| May 10 2011|Aedes|hexodontus| Black legs|Female|            null|            null|            null|             null|             null|             null|            null|  null|       null|           null|             null| null|\n",
      "| May 10 2011|Aedes|   impiger| Black legs|Female|            null|            null|            null|             null|             null|             null|            null|  null|       null|           null|             null| null|\n",
      "| May 10 2011|Aedes|implicatus| Black legs|Female|            null|            null|            null|             null|             null|             null|            null|  null|       null|           null|             null| null|\n",
      "| May 10 2011|Aedes| intrudens| Black legs|Female|            null|            null|            null|             null|             null|             null|            null|  null|       null|           null|             null| null|\n",
      "| May 10 2011|Aedes|   pionips| Black legs|Female|            null|            null|            null|             null|             null|             null|            null|  null|       null|           null|             null| null|\n",
      "| May 10 2011|Aedes| provocans| Black legs|Female|            null|            null|            null|             null|             null|             null|            null|  null|       null|           null|             null| null|\n",
      "| May 10 2011|Aedes|  pullatus| Black legs|Female|            null|            null|            null|             null|             null|             null|            null|  null|       null|           null|             null| null|\n",
      "| May 10 2011|Aedes|   punctor| Black legs|Female|            null|            null|            null|             null|             null|             null|            null|  null|       null|           null|             null| null|\n",
      "| May 10 2011|Aedes| spencerii| Black legs|Female|            null|            null|            null|             null|             null|             null|            null|  null|       null|           null|             null| null|\n",
      "| May 10 2011|Aedes| sticticus| Black legs|Female|            null|            null|            null|             null|             null|             null|            null|  null|       null|           null|             null| null|\n",
      "| May 10 2011|Aedes|      null|Banded legs|Female|            null|            null|            null|             null|             null|             null|            null|  null|       null|           null|             null| null|\n",
      "+------------+-----+----------+-----------+------+----------------+----------------+----------------+-----------------+-----------------+-----------------+----------------+------+-----------+---------------+-----------------+-----+\n",
      "only showing top 20 rows\n",
      "\n"
     ]
    }
   ],
   "source": [
    "df_mosquito.show(20)"
   ]
  },
  {
   "cell_type": "code",
   "execution_count": 5,
   "metadata": {},
   "outputs": [
    {
     "name": "stdout",
     "output_type": "stream",
     "text": [
      "+-------+-----------------+--------+-----------+-----------+------+------------------+-----------------+-----------------+-----------------+------------------+------------------+------------------+------------------+------------------+------------------+------------------+------------------+\n",
      "|summary|        TRAP_DATE|   GENUS|    SPECIES|       TYPE|GENDER|  RURAL NORTH WEST| RURAL NORTH EAST| RURAL SOUTH EAST|RIVER VALLEY EAST| RIVER VALLEY WEST| RESIDENTIAL NORTH|  RURAL SOUTH WEST|            LAGOON|       GOLF COURSE|   INDUSTRIAL PARK| RESIDENTIAL SOUTH|             TOTAL|\n",
      "+-------+-----------------+--------+-----------+-----------+------+------------------+-----------------+-----------------+-----------------+------------------+------------------+------------------+------------------+------------------+------------------+------------------+------------------+\n",
      "|  count|             4386|    4182|       3672|       2958|  4386|               582|              517|              431|              386|               332|               295|               432|               208|                93|                96|               362|              4120|\n",
      "|   mean|             null|    null|       null|       null|  null|25.008591065292098|76.41586073500967|18.48027842227378|18.10103626943005|16.569277108433734| 9.193220338983052|59.398148148148145|27.298076923076923|19.225806451612904|29.052083333333332|21.535911602209946| 29.35388349514563|\n",
      "| stddev|             null|    null|       null|       null|  null|123.10009470659337|447.4715693838706| 103.731782736487|  67.542330345745| 52.10886253568445|25.350199347166516| 360.9782902461661|110.23964933788102| 53.87972294081998|  136.944734899399| 70.75113485673364|372.05435924607053|\n",
      "|    min|   August 02 2011|   Aedes|alaskaensis|Banded legs|Female|                 0|                0|                0|                0|                 0|                 0|                 0|                 0|                 1|                 1|                 0|                 0|\n",
      "|    25%|             null|    null|       null|       null|  null|                 1|                1|                1|                1|                 1|                 1|                 1|                 1|                 1|                 1|                 1|                 0|\n",
      "|    50%|             null|    null|       null|       null|  null|                 2|                3|                3|                3|                 2|                 2|                 3|                 4|                 2|                 2|                 3|                 0|\n",
      "|    75%|             null|    null|       null|       null|  null|                 9|               20|               10|               11|                10|                 6|                16|                11|                 7|                 7|                14|                 1|\n",
      "|    max|September 29 2015|Mansonia|     vexans|    Unknown|  Male|              1752|             8355|             1839|             1117|               489|               210|              5274|              1009|               291|              1233|               737|             15294|\n",
      "+-------+-----------------+--------+-----------+-----------+------+------------------+-----------------+-----------------+-----------------+------------------+------------------+------------------+------------------+------------------+------------------+------------------+------------------+\n",
      "\n"
     ]
    }
   ],
   "source": [
    "df_mosquito.summary().show()"
   ]
  },
  {
   "cell_type": "code",
   "execution_count": 6,
   "metadata": {},
   "outputs": [
    {
     "data": {
      "text/plain": [
       "38"
      ]
     },
     "execution_count": 6,
     "metadata": {},
     "output_type": "execute_result"
    }
   ],
   "source": [
    "df_mosquito.select(\"SPECIES\").distinct().count()"
   ]
  },
  {
   "cell_type": "code",
   "execution_count": 7,
   "metadata": {},
   "outputs": [
    {
     "name": "stdout",
     "output_type": "stream",
     "text": [
      "+------------+\n",
      "|     SPECIES|\n",
      "+------------+\n",
      "|   intrudens|\n",
      "|  increpitus|\n",
      "|     punctor|\n",
      "|      earlei|\n",
      "|  hexodontus|\n",
      "|    dorsalis|\n",
      "|  minnesotae|\n",
      "|     impiger|\n",
      "|  mercurator|\n",
      "|  cataphylla|\n",
      "|    riparius|\n",
      "|        null|\n",
      "|   spencerii|\n",
      "|   provocans|\n",
      "|     pionips|\n",
      "|  alaskensis|\n",
      "|    tarsalis|\n",
      "|    inornata|\n",
      "| alaskaensis|\n",
      "|    cinereus|\n",
      "|  campestris|\n",
      "|  flavescens|\n",
      "|     fitchii|\n",
      "|   impatiens|\n",
      "|    incidens|\n",
      "|  perturbans|\n",
      "|    communis|\n",
      "|nigromaculis|\n",
      "|  excrucians|\n",
      "|    pullatus|\n",
      "|   territans|\n",
      "|   morsitans|\n",
      "|  canadensis|\n",
      "|   sticticus|\n",
      "|   diantaeus|\n",
      "|  implicatus|\n",
      "|      euedes|\n",
      "|      vexans|\n",
      "+------------+\n",
      "\n"
     ]
    }
   ],
   "source": [
    "df_mosquito.select(\"SPECIES\").distinct().show(38)"
   ]
  },
  {
   "cell_type": "code",
   "execution_count": 8,
   "metadata": {},
   "outputs": [
    {
     "name": "stdout",
     "output_type": "stream",
     "text": [
      "+---------+-----+-------+----+------+----------------+----------------+----------------+-----------------+-----------------+-----------------+----------------+------+-----------+---------------+-----------------+-----+\n",
      "|TRAP_DATE|GENUS|SPECIES|TYPE|GENDER|RURAL NORTH WEST|RURAL NORTH EAST|RURAL SOUTH EAST|RIVER VALLEY EAST|RIVER VALLEY WEST|RESIDENTIAL NORTH|RURAL SOUTH WEST|LAGOON|GOLF COURSE|INDUSTRIAL PARK|RESIDENTIAL SOUTH|TOTAL|\n",
      "+---------+-----+-------+----+------+----------------+----------------+----------------+-----------------+-----------------+-----------------+----------------+------+-----------+---------------+-----------------+-----+\n",
      "|        0|    0|      0|   0|     0|               0|               0|               0|                0|                0|                0|               0|     0|          0|              0|                0|    0|\n",
      "+---------+-----+-------+----+------+----------------+----------------+----------------+-----------------+-----------------+-----------------+----------------+------+-----------+---------------+-----------------+-----+\n",
      "\n"
     ]
    }
   ],
   "source": [
    "# Counting number of missing (nan) values in each column, used this blogpost as a reference:\n",
    "#  https://www.datasciencemadesimple.com/count-of-missing-nanna-and-null-values-in-pyspark/\n",
    "\n",
    "df_mosquito.select([F.count(F.when(F.isnan(col), col)).alias(col) for col in df_mosquito.columns]).show()"
   ]
  },
  {
   "cell_type": "code",
   "execution_count": 9,
   "metadata": {},
   "outputs": [
    {
     "name": "stdout",
     "output_type": "stream",
     "text": [
      "+---------+-----+-------+----+------+----------------+----------------+----------------+-----------------+-----------------+-----------------+----------------+------+-----------+---------------+-----------------+-----+\n",
      "|TRAP_DATE|GENUS|SPECIES|TYPE|GENDER|RURAL NORTH WEST|RURAL NORTH EAST|RURAL SOUTH EAST|RIVER VALLEY EAST|RIVER VALLEY WEST|RESIDENTIAL NORTH|RURAL SOUTH WEST|LAGOON|GOLF COURSE|INDUSTRIAL PARK|RESIDENTIAL SOUTH|TOTAL|\n",
      "+---------+-----+-------+----+------+----------------+----------------+----------------+-----------------+-----------------+-----------------+----------------+------+-----------+---------------+-----------------+-----+\n",
      "|        1|  205|    715|1429|     1|            3805|            3870|            3956|             4001|             4055|             4092|            3955|  4179|       4294|           4291|             4025|  267|\n",
      "+---------+-----+-------+----+------+----------------+----------------+----------------+-----------------+-----------------+-----------------+----------------+------+-----------+---------------+-----------------+-----+\n",
      "\n"
     ]
    }
   ],
   "source": [
    "# Counting number of null values in each column, used this blogpost as a reference:\n",
    "#  https://www.datasciencemadesimple.com/count-of-missing-nanna-and-null-values-in-pyspark/\n",
    "\n",
    "df_mosquito.select([F.count(F.when(F.isnull(col), col)).alias(col) for col in df_mosquito.columns]).show()"
   ]
  },
  {
   "cell_type": "code",
   "execution_count": 10,
   "metadata": {},
   "outputs": [
    {
     "name": "stdout",
     "output_type": "stream",
     "text": [
      "+----------+\n",
      "|sum(count)|\n",
      "+----------+\n",
      "|      null|\n",
      "+----------+\n",
      "\n"
     ]
    }
   ],
   "source": [
    "# Checking number of duplicate rows\n",
    "#  Used this stackoverflow answer: https://stackoverflow.com/a/48554666\n",
    "df_mosquito.groupBy(df_mosquito.columns)\\\n",
    "    .count()\\\n",
    "    .where(F.col('count') > 1)\\\n",
    "    .select(F.sum('count'))\\\n",
    "    .show()"
   ]
  },
  {
   "cell_type": "markdown",
   "metadata": {},
   "source": [
    "#### __Q1.1 Answer__:\n",
    "* I have decided to let PySpark infer the schema and use the first row in the csv file as the column names.\n",
    "* The dataset is plagued by a lot of null values due to trap failures.\n",
    "* I have decided to not eliminate any record containing null values as that would practically eliminate almost the entire dataset.\n",
    "* I tried to convert the 'TRAP_DATE' column to a PySpark DateType but I eventually decided to keep it in a string format.\n",
    "* No duplicate rows have been found in the dataset"
   ]
  },
  {
   "cell_type": "markdown",
   "metadata": {},
   "source": [
    "### __Q1.2__ How many mosquitoes caught in 2014?"
   ]
  },
  {
   "cell_type": "code",
   "execution_count": 11,
   "metadata": {},
   "outputs": [],
   "source": [
    "df_mosquito = df_mosquito.withColumn(\"YEAR\", F.split(\"TRAP_DATE\", \" \")[2])  # Add a 'Year' column"
   ]
  },
  {
   "cell_type": "code",
   "execution_count": 12,
   "metadata": {},
   "outputs": [
    {
     "name": "stdout",
     "output_type": "stream",
     "text": [
      "+------------+-----+----------+-----------+------+----------------+----------------+----------------+-----------------+-----------------+-----------------+----------------+------+-----------+---------------+-----------------+-----+----+\n",
      "|   TRAP_DATE|GENUS|   SPECIES|       TYPE|GENDER|RURAL NORTH WEST|RURAL NORTH EAST|RURAL SOUTH EAST|RIVER VALLEY EAST|RIVER VALLEY WEST|RESIDENTIAL NORTH|RURAL SOUTH WEST|LAGOON|GOLF COURSE|INDUSTRIAL PARK|RESIDENTIAL SOUTH|TOTAL|YEAR|\n",
      "+------------+-----+----------+-----------+------+----------------+----------------+----------------+-----------------+-----------------+-----------------+----------------+------+-----------+---------------+-----------------+-----+----+\n",
      "| May 17 2011| null|      null|    Unknown|Female|            null|            null|            null|             null|             null|             null|            null|  null|       null|           null|             null| null|2011|\n",
      "| May 31 2011|Culex|      null|       null|Female|            null|            null|            null|             null|             null|             null|            null|  null|       null|           null|             null| null|2011|\n",
      "|June 05 2012| null|      null|       null|  Male|            null|            null|            null|             null|             null|             null|            null|  null|       null|           null|             null|    0|2012|\n",
      "| May 10 2011|Aedes|      null|       null|Female|            null|            null|            null|             null|             null|             null|            null|  null|       null|           null|             null| null|2011|\n",
      "| May 10 2011|Aedes|      null| Black legs|Female|            null|            null|            null|             null|             null|             null|            null|  null|       null|           null|             null| null|2011|\n",
      "| May 10 2011|Aedes|cataphylla| Black legs|Female|            null|            null|            null|             null|             null|             null|            null|  null|       null|           null|             null| null|2011|\n",
      "| May 10 2011|Aedes|  cinereus| Black legs|Female|            null|            null|            null|             null|             null|             null|            null|  null|       null|           null|             null| null|2011|\n",
      "| May 10 2011|Aedes|  communis| Black legs|Female|            null|            null|            null|             null|             null|             null|            null|  null|       null|           null|             null| null|2011|\n",
      "| May 10 2011|Aedes| diantaeus| Black legs|Female|            null|            null|            null|             null|             null|             null|            null|  null|       null|           null|             null| null|2011|\n",
      "| May 10 2011|Aedes|hexodontus| Black legs|Female|            null|            null|            null|             null|             null|             null|            null|  null|       null|           null|             null| null|2011|\n",
      "| May 10 2011|Aedes|   impiger| Black legs|Female|            null|            null|            null|             null|             null|             null|            null|  null|       null|           null|             null| null|2011|\n",
      "| May 10 2011|Aedes|implicatus| Black legs|Female|            null|            null|            null|             null|             null|             null|            null|  null|       null|           null|             null| null|2011|\n",
      "| May 10 2011|Aedes| intrudens| Black legs|Female|            null|            null|            null|             null|             null|             null|            null|  null|       null|           null|             null| null|2011|\n",
      "| May 10 2011|Aedes|   pionips| Black legs|Female|            null|            null|            null|             null|             null|             null|            null|  null|       null|           null|             null| null|2011|\n",
      "| May 10 2011|Aedes| provocans| Black legs|Female|            null|            null|            null|             null|             null|             null|            null|  null|       null|           null|             null| null|2011|\n",
      "| May 10 2011|Aedes|  pullatus| Black legs|Female|            null|            null|            null|             null|             null|             null|            null|  null|       null|           null|             null| null|2011|\n",
      "| May 10 2011|Aedes|   punctor| Black legs|Female|            null|            null|            null|             null|             null|             null|            null|  null|       null|           null|             null| null|2011|\n",
      "| May 10 2011|Aedes| spencerii| Black legs|Female|            null|            null|            null|             null|             null|             null|            null|  null|       null|           null|             null| null|2011|\n",
      "| May 10 2011|Aedes| sticticus| Black legs|Female|            null|            null|            null|             null|             null|             null|            null|  null|       null|           null|             null| null|2011|\n",
      "| May 10 2011|Aedes|      null|Banded legs|Female|            null|            null|            null|             null|             null|             null|            null|  null|       null|           null|             null| null|2011|\n",
      "+------------+-----+----------+-----------+------+----------------+----------------+----------------+-----------------+-----------------+-----------------+----------------+------+-----------+---------------+-----------------+-----+----+\n",
      "only showing top 20 rows\n",
      "\n"
     ]
    }
   ],
   "source": [
    "df_mosquito.show()"
   ]
  },
  {
   "cell_type": "code",
   "execution_count": 13,
   "metadata": {},
   "outputs": [],
   "source": [
    "df_mosquito_2014 = df_mosquito.filter(df_mosquito[\"YEAR\"] == \"2014\")"
   ]
  },
  {
   "cell_type": "code",
   "execution_count": 14,
   "metadata": {},
   "outputs": [
    {
     "name": "stdout",
     "output_type": "stream",
     "text": [
      "+---------------------+---------------------+---------------------+----------------------+----------------------+----------------------+---------------------+-----------+----------------+--------------------+----------------------+----------+\n",
      "|sum(RURAL NORTH WEST)|sum(RURAL NORTH EAST)|sum(RURAL SOUTH EAST)|sum(RIVER VALLEY EAST)|sum(RIVER VALLEY WEST)|sum(RESIDENTIAL NORTH)|sum(RURAL SOUTH WEST)|sum(LAGOON)|sum(GOLF COURSE)|sum(INDUSTRIAL PARK)|sum(RESIDENTIAL SOUTH)|sum(TOTAL)|\n",
      "+---------------------+---------------------+---------------------+----------------------+----------------------+----------------------+---------------------+-----------+----------------+--------------------+----------------------+----------+\n",
      "|                  667|                16753|                 4112|                  2588|                   959|                   647|                 3400|       null|            null|                2789|                  1758|     33673|\n",
      "+---------------------+---------------------+---------------------+----------------------+----------------------+----------------------+---------------------+-----------+----------------+--------------------+----------------------+----------+\n",
      "\n"
     ]
    }
   ],
   "source": [
    "df_mosquito_2014.groupBy().sum().show()"
   ]
  },
  {
   "cell_type": "code",
   "execution_count": 15,
   "metadata": {},
   "outputs": [
    {
     "name": "stdout",
     "output_type": "stream",
     "text": [
      "+----------+\n",
      "|sum(TOTAL)|\n",
      "+----------+\n",
      "|     33673|\n",
      "+----------+\n",
      "\n"
     ]
    }
   ],
   "source": [
    "df_mosquito_2014.groupBy().sum().select(\"sum(TOTAL)\").show()"
   ]
  },
  {
   "cell_type": "markdown",
   "metadata": {},
   "source": [
    "#### __Q1.2 Answer: 33,673 mosquitoes__ were caught in 2014."
   ]
  },
  {
   "cell_type": "markdown",
   "metadata": {},
   "source": [
    "### __Q1.3__ How many mosquitoes of each species were caught?"
   ]
  },
  {
   "cell_type": "code",
   "execution_count": 16,
   "metadata": {},
   "outputs": [
    {
     "name": "stdout",
     "output_type": "stream",
     "text": [
      "+------------+---------------------+---------------------+---------------------+----------------------+----------------------+----------------------+---------------------+-----------+----------------+--------------------+----------------------+----------+\n",
      "|     Species|sum(RURAL NORTH WEST)|sum(RURAL NORTH EAST)|sum(RURAL SOUTH EAST)|sum(RIVER VALLEY EAST)|sum(RIVER VALLEY WEST)|sum(RESIDENTIAL NORTH)|sum(RURAL SOUTH WEST)|sum(LAGOON)|sum(GOLF COURSE)|sum(INDUSTRIAL PARK)|sum(RESIDENTIAL SOUTH)|sum(TOTAL)|\n",
      "+------------+---------------------+---------------------+---------------------+----------------------+----------------------+----------------------+---------------------+-----------+----------------+--------------------+----------------------+----------+\n",
      "|   intrudens|                    7|                 null|                 null|                  null|                  null|                  null|                 null|       null|            null|                null|                  null|         7|\n",
      "|  increpitus|                    1|                 null|                 null|                     2|                  null|                  null|                    3|       null|               1|                   1|                  null|         8|\n",
      "|     punctor|                 null|                 null|                 null|                  null|                  null|                  null|                 null|       null|            null|                null|                  null|         0|\n",
      "|      earlei|                  267|                   97|                   19|                    80|                     9|                     2|                   15|          2|              18|                   8|                     6|       523|\n",
      "|  hexodontus|                 null|                 null|                 null|                  null|                  null|                  null|                 null|       null|            null|                null|                  null|         0|\n",
      "|    dorsalis|                   57|                  159|                  129|                    49|                     3|                     5|                  270|        341|               2|                  53|                    56|      1124|\n",
      "|  minnesotae|                   15|                   34|                   99|                    14|                     2|                  null|                   19|       null|               8|                   4|                     2|       197|\n",
      "|     impiger|                 null|                 null|                 null|                  null|                  null|                  null|                 null|       null|            null|                null|                  null|         0|\n",
      "|  mercurator|                 null|                 null|                 null|                     2|                  null|                  null|                 null|       null|            null|                null|                  null|         2|\n",
      "|  cataphylla|                 null|                 null|                 null|                  null|                  null|                  null|                 null|       null|            null|                null|                  null|         0|\n",
      "|    riparius|                   52|                   11|                 null|                     7|                     4|                     2|                   19|       null|            null|                null|                     9|       104|\n",
      "|        null|                 6049|                 5247|                 2659|                  3357|                  1577|                   865|                 2651|        710|            1084|                 670|                  3141|     28010|\n",
      "|   spencerii|                   55|                   65|                  186|                    31|                    12|                    23|                  200|        189|            null|                  14|                   148|       923|\n",
      "|   provocans|                    1|                 null|                 null|                  null|                  null|                  null|                 null|       null|            null|                null|                  null|         1|\n",
      "|     pionips|                 null|                 null|                 null|                  null|                  null|                  null|                 null|       null|            null|                null|                  null|         0|\n",
      "|  alaskensis|                   45|                   21|                   18|                     5|                    10|                     3|                   21|       null|               6|                   2|                    10|       141|\n",
      "|    tarsalis|                   24|                    9|                   18|                     1|                  null|                     2|                    8|          2|               3|                   2|                     7|        76|\n",
      "|    inornata|                 3038|                 3278|                  762|                   239|                   446|                   316|                 2571|        266|             108|                  38|                   744|     11806|\n",
      "| alaskaensis|                    1|                    1|                    2|                  null|                  null|                  null|                    3|       null|            null|                   1|                  null|         8|\n",
      "|    cinereus|                    1|                 null|                 null|                  null|                  null|                  null|                 null|       null|            null|                null|                  null|         1|\n",
      "|  campestris|                 null|                   12|                    6|                     2|                  null|                     1|                   12|          7|            null|                   1|                     4|        45|\n",
      "|  flavescens|                  185|                   93|                  180|                    28|                    11|                     7|                  241|        117|              12|                  16|                    63|       953|\n",
      "|     fitchii|                  101|                   26|                    4|                    11|                    21|                     6|                   63|          5|               4|                   1|                    41|       283|\n",
      "|   impatiens|                    4|                   29|                   13|                  null|                     2|                  null|                    3|       null|               2|                   2|                  null|        55|\n",
      "|    incidens|                   22|                    7|                   43|                     3|                  null|                  null|                    2|       null|               1|                null|                     1|        79|\n",
      "|  perturbans|                   38|                   19|                    3|                     4|                    70|                     1|                   14|       null|               7|                   1|                  null|       157|\n",
      "|    communis|                 null|                 null|                 null|                  null|                  null|                     1|                 null|       null|            null|                null|                  null|         1|\n",
      "|nigromaculis|                    3|                    2|                    1|                     4|                     1|                  null|                 null|          1|            null|                null|                  null|        12|\n",
      "|  excrucians|                   87|                   32|                    3|                    14|                    20|                    17|                    8|          2|               3|                   1|                     6|       193|\n",
      "|    pullatus|                 null|                 null|                 null|                  null|                  null|                  null|                 null|       null|            null|                null|                  null|         0|\n",
      "|   territans|                  122|                   17|                   10|                    10|                    28|                    24|                   16|          5|              21|                  11|                    34|       298|\n",
      "|   morsitans|                   25|                    9|                   18|                     1|                    11|                     4|                   16|       null|               6|                   2|                     9|       101|\n",
      "|  canadensis|                    1|                    2|                 null|                  null|                  null|                  null|                 null|       null|            null|                null|                  null|         3|\n",
      "|   sticticus|                    6|                 null|                 null|                  null|                  null|                  null|                    4|          1|            null|                null|                  null|        11|\n",
      "|   diantaeus|                 null|                 null|                 null|                  null|                  null|                  null|                 null|       null|            null|                null|                  null|         0|\n",
      "|  implicatus|                 null|                    1|                 null|                  null|                  null|                     1|                    2|       null|            null|                null|                  null|         4|\n",
      "|      euedes|                   58|                   16|                    1|                    10|                    11|                     9|                   42|          2|               5|                   2|                    11|       167|\n",
      "|      vexans|                 4290|                30320|                 3791|                  3113|                  3263|                  1423|                19457|       4028|             497|                1959|                  3504|     75645|\n",
      "+------------+---------------------+---------------------+---------------------+----------------------+----------------------+----------------------+---------------------+-----------+----------------+--------------------+----------------------+----------+\n",
      "\n"
     ]
    }
   ],
   "source": [
    "df_mosquito.groupBy(\"Species\").sum().show(38)  # 38 species (one for 'null' species value)"
   ]
  },
  {
   "cell_type": "markdown",
   "metadata": {},
   "source": [
    "#### __Q1.3 Answer__:"
   ]
  },
  {
   "cell_type": "code",
   "execution_count": 17,
   "metadata": {},
   "outputs": [
    {
     "name": "stdout",
     "output_type": "stream",
     "text": [
      "+------------+----------+\n",
      "|     Species|sum(TOTAL)|\n",
      "+------------+----------+\n",
      "|      vexans|     75645|\n",
      "|        null|     28010|\n",
      "|    inornata|     11806|\n",
      "|    dorsalis|      1124|\n",
      "|  flavescens|       953|\n",
      "|   spencerii|       923|\n",
      "|      earlei|       523|\n",
      "|   territans|       298|\n",
      "|     fitchii|       283|\n",
      "|  minnesotae|       197|\n",
      "|  excrucians|       193|\n",
      "|      euedes|       167|\n",
      "|  perturbans|       157|\n",
      "|  alaskensis|       141|\n",
      "|    riparius|       104|\n",
      "|   morsitans|       101|\n",
      "|    incidens|        79|\n",
      "|    tarsalis|        76|\n",
      "|   impatiens|        55|\n",
      "|  campestris|        45|\n",
      "|nigromaculis|        12|\n",
      "|   sticticus|        11|\n",
      "|  increpitus|         8|\n",
      "| alaskaensis|         8|\n",
      "|   intrudens|         7|\n",
      "|  implicatus|         4|\n",
      "|  canadensis|         3|\n",
      "|  mercurator|         2|\n",
      "|    communis|         1|\n",
      "|   provocans|         1|\n",
      "|    cinereus|         1|\n",
      "|     punctor|         0|\n",
      "|  hexodontus|         0|\n",
      "|     pionips|         0|\n",
      "|     impiger|         0|\n",
      "|  cataphylla|         0|\n",
      "|    pullatus|         0|\n",
      "|   diantaeus|         0|\n",
      "+------------+----------+\n",
      "\n"
     ]
    }
   ],
   "source": [
    "df_mosquito.groupBy(\"Species\").sum().select(\"Species\", \"sum(TOTAL)\").orderBy(\"sum(TOTAL)\", ascending=False).show(38)  # 38 species (one for 'null' species value)"
   ]
  },
  {
   "cell_type": "markdown",
   "metadata": {},
   "source": [
    "### __Q1.4__ Which traps caught the most mosquitoes?\n",
    "\n",
    "Note: I am assuming this means which field had the most amount of caught mosquitoes."
   ]
  },
  {
   "cell_type": "code",
   "execution_count": 18,
   "metadata": {},
   "outputs": [
    {
     "name": "stdout",
     "output_type": "stream",
     "text": [
      "+---------------------+---------------------+---------------------+----------------------+----------------------+----------------------+---------------------+-----------+----------------+--------------------+----------------------+----------+\n",
      "|sum(RURAL NORTH WEST)|sum(RURAL NORTH EAST)|sum(RURAL SOUTH EAST)|sum(RIVER VALLEY EAST)|sum(RIVER VALLEY WEST)|sum(RESIDENTIAL NORTH)|sum(RURAL SOUTH WEST)|sum(LAGOON)|sum(GOLF COURSE)|sum(INDUSTRIAL PARK)|sum(RESIDENTIAL SOUTH)|sum(TOTAL)|\n",
      "+---------------------+---------------------+---------------------+----------------------+----------------------+----------------------+---------------------+-----------+----------------+--------------------+----------------------+----------+\n",
      "|                14555|                39507|                 7965|                  6987|                  5501|                  2712|                25660|       5678|            1788|                2789|                  7796|    120938|\n",
      "+---------------------+---------------------+---------------------+----------------------+----------------------+----------------------+---------------------+-----------+----------------+--------------------+----------------------+----------+\n",
      "\n"
     ]
    }
   ],
   "source": [
    "df_mosquito.groupBy().sum().show()"
   ]
  },
  {
   "cell_type": "markdown",
   "metadata": {},
   "source": [
    "#### __Q1.4 Answer__: The __RURAL NORTH EAST__ location had the most amount of caught mosquitoes out of all locations."
   ]
  },
  {
   "cell_type": "markdown",
   "metadata": {
    "id": "XXAFA7On457Y"
   },
   "source": [
    "-----------------"
   ]
  },
  {
   "cell_type": "markdown",
   "metadata": {
    "id": "aT8BbQ6R43ft"
   },
   "source": [
    "## Question 2 [50/100]"
   ]
  },
  {
   "cell_type": "markdown",
   "metadata": {
    "id": "SOxgizSw43gL"
   },
   "source": [
    "Download **LED Streetlight Conversion Data** from this [URL](https://data.edmonton.ca/Transportation/LED-Streetlight-Conversion/rxke-mcvd).\n",
    "\n",
    "Write a complete PySpark application to answer the follwoing questions. Make sure to define the schema and provide all necessary spark transofrmations and actions  to get to the answers.   \n",
    "  \n",
    "  - **Q2.1** Report all problems you can find in the dataset and how you fixed them.\n",
    "  - **Q2.2** How many total streetlights?\n",
    "  - **Q2.3** How many streetlights are converted to LED?\n",
    "  - **Q2.4** How many streetlights were converted by year?\n",
    "  "
   ]
  },
  {
   "cell_type": "markdown",
   "metadata": {},
   "source": [
    "### __Q2.1__ Report all problems you can find in the dataset and how you fixed them"
   ]
  },
  {
   "cell_type": "code",
   "execution_count": 19,
   "metadata": {},
   "outputs": [],
   "source": [
    "# Inferring column names from the first row and inferring the data type on read\n",
    "df_streetlight = spark.read.csv(\"LED_Streetlight_Conversion.csv\", header=True, inferSchema=True)"
   ]
  },
  {
   "cell_type": "code",
   "execution_count": 20,
   "metadata": {},
   "outputs": [
    {
     "name": "stdout",
     "output_type": "stream",
     "text": [
      "root\n",
      " |-- Type: string (nullable = true)\n",
      " |-- Watts: integer (nullable = true)\n",
      " |-- Start Date: string (nullable = true)\n",
      " |-- Ownership: string (nullable = true)\n",
      " |-- Latitude: double (nullable = true)\n",
      " |-- Longitude: double (nullable = true)\n",
      " |-- Location: string (nullable = true)\n",
      "\n"
     ]
    }
   ],
   "source": [
    "df_streetlight.printSchema()"
   ]
  },
  {
   "cell_type": "code",
   "execution_count": 21,
   "metadata": {},
   "outputs": [
    {
     "name": "stdout",
     "output_type": "stream",
     "text": [
      "+----+-----+----------------+---------+------------------+-------------------+--------------------+\n",
      "|Type|Watts|      Start Date|Ownership|          Latitude|          Longitude|            Location|\n",
      "+----+-----+----------------+---------+------------------+-------------------+--------------------+\n",
      "| LED|  237|February 21 2020|      COE| 53.52467142817719|-113.61566462018001|(5932487.12484, 2...|\n",
      "| LED|   22|December 19 2017|      COE| 53.47035024680297|-113.65637562043075|(5926428.2609995,...|\n",
      "| LED|   43|December 19 2017|      COE|  53.4720334816896|-113.66173224778211|(5926613.87644131...|\n",
      "| LED|   22|December 19 2017|      COE| 53.47083969350626|-113.65686969582687|(5926482.5703075,...|\n",
      "| LED|   35|December 19 2017|      COE|53.470074318816785|-113.65843946794233|(5926396.89636846...|\n",
      "| LED|   37|February 21 2020|      COE|53.523965853007276| -113.6148103041073|(5932408.9113597,...|\n",
      "| LED|   43|December 19 2017|      COE| 53.47134418731741|-113.66215489764367|(5926537.03634357...|\n",
      "| LED|   43|December 19 2017|      COE| 53.47034970225731|-113.65709132641942|(5926427.97162046...|\n",
      "| LED|   43|December 19 2017|      COE|  53.4719061491598|-113.66100898879095|(5926599.93450661...|\n",
      "| LED|   35|December 19 2017|      COE| 53.47196585825606| -113.6593422806407|(5926607.10656291...|\n",
      "| LED|   35|December 19 2017|      COE| 53.47139006280275|-113.65825721454142|(5926543.37482739...|\n",
      "| LED|   43|December 19 2017|      COE| 53.47137687416863|-113.66092636365846|(5926541.06105374...|\n",
      "| LED|  108|November 07 2019|      COE|  53.5194381731557| -113.5671843258411|(5931923.1820992,...|\n",
      "| LED|   43|December 19 2017|      COE| 53.47213856667661| -113.6619665659506|(5926625.496877, ...|\n",
      "| LED|   43|December 19 2017|      COE|53.470823941051805|-113.66181401669839|(5926479.24885356...|\n",
      "| LED|   43|December 19 2017|      COE| 53.47031012466916|-113.66097019558961|(5926422.33568345...|\n",
      "| LED|   43|December 19 2017|      COE|53.470413784592274|-113.65991560105195|(5926434.20477812...|\n",
      "| LED|   43|December 19 2017|      COE| 53.47187234377568|-113.66062088779337|(5926596.29510921...|\n",
      "| LED|   55|December 19 2017|      COE|53.471124914003966|-113.66004114835523|(5926513.30193445...|\n",
      "| LED|   37|February 21 2020|      COE| 53.52481026290193|-113.61480355720495|(5932502.88330251...|\n",
      "+----+-----+----------------+---------+------------------+-------------------+--------------------+\n",
      "only showing top 20 rows\n",
      "\n"
     ]
    }
   ],
   "source": [
    "df_streetlight.show(20)"
   ]
  },
  {
   "cell_type": "code",
   "execution_count": 22,
   "metadata": {},
   "outputs": [
    {
     "name": "stdout",
     "output_type": "stream",
     "text": [
      "+-------+------+------------------+-----------------+---------+-------------------+-------------------+--------------------+\n",
      "|summary|  Type|             Watts|       Start Date|Ownership|           Latitude|          Longitude|            Location|\n",
      "+-------+------+------------------+-----------------+---------+-------------------+-------------------+--------------------+\n",
      "|  count|117349|            117316|           117348|   117349|             117349|             117349|              117349|\n",
      "|   mean|  null|105.95969006785093|             null|     null|  53.52645098249954|-113.51066671363635|                null|\n",
      "| stddev|  null| 80.15090880880888|             null|     null|0.06082064301295191|0.07781926465097863|                null|\n",
      "|    min|   HPS|                14|    April 01 1988|      COE|  53.33809790153047|-113.71311636184305|(5911740.64670252...|\n",
      "|    25%|  null|                60|             null|     null|  53.47801453742578|-113.56654716458246|                null|\n",
      "|    50%|  null|                86|             null|     null| 53.530339754730285|-113.50415458879168|                null|\n",
      "|    75%|  null|               150|             null|     null| 53.572711342932095|-113.45028802375778|                null|\n",
      "|    max|    MV|              1000|September 30 2016|      COE| 53.709033019147036|-113.29590753390248|(5953089.32, 3801...|\n",
      "+-------+------+------------------+-----------------+---------+-------------------+-------------------+--------------------+\n",
      "\n"
     ]
    }
   ],
   "source": [
    "df_streetlight.summary().show()"
   ]
  },
  {
   "cell_type": "code",
   "execution_count": 23,
   "metadata": {},
   "outputs": [
    {
     "name": "stdout",
     "output_type": "stream",
     "text": [
      "+----+\n",
      "|Type|\n",
      "+----+\n",
      "| INC|\n",
      "| LED|\n",
      "| HPS|\n",
      "|  MV|\n",
      "|  MH|\n",
      "+----+\n",
      "\n"
     ]
    }
   ],
   "source": [
    "df_streetlight.select(\"Type\").distinct().show()"
   ]
  },
  {
   "cell_type": "code",
   "execution_count": 24,
   "metadata": {},
   "outputs": [
    {
     "name": "stdout",
     "output_type": "stream",
     "text": [
      "+----+-----+----------+---------+--------+---------+--------+\n",
      "|Type|Watts|Start Date|Ownership|Latitude|Longitude|Location|\n",
      "+----+-----+----------+---------+--------+---------+--------+\n",
      "|   0|    0|         0|        0|       0|        0|       0|\n",
      "+----+-----+----------+---------+--------+---------+--------+\n",
      "\n"
     ]
    }
   ],
   "source": [
    "# Counting number of missing (nan) values in each column, used this blogpost as a reference:\n",
    "#  https://www.datasciencemadesimple.com/count-of-missing-nanna-and-null-values-in-pyspark/\n",
    "\n",
    "df_streetlight.select([F.count(F.when(F.isnan(col), col)).alias(col) for col in df_streetlight.columns]).show()"
   ]
  },
  {
   "cell_type": "code",
   "execution_count": 25,
   "metadata": {},
   "outputs": [
    {
     "name": "stdout",
     "output_type": "stream",
     "text": [
      "+----+-----+----------+---------+--------+---------+--------+\n",
      "|Type|Watts|Start Date|Ownership|Latitude|Longitude|Location|\n",
      "+----+-----+----------+---------+--------+---------+--------+\n",
      "|   0|   33|         1|        0|       0|        0|       0|\n",
      "+----+-----+----------+---------+--------+---------+--------+\n",
      "\n"
     ]
    }
   ],
   "source": [
    "# Counting number of null values in each column, used this blogpost as a reference:\n",
    "#  https://www.datasciencemadesimple.com/count-of-missing-nanna-and-null-values-in-pyspark/\n",
    "\n",
    "df_streetlight.select([F.count(F.when(F.isnull(col), col)).alias(col) for col in df_streetlight.columns]).show()"
   ]
  },
  {
   "cell_type": "code",
   "execution_count": 26,
   "metadata": {},
   "outputs": [
    {
     "name": "stdout",
     "output_type": "stream",
     "text": [
      "+----------+\n",
      "|sum(count)|\n",
      "+----------+\n",
      "|      4749|\n",
      "+----------+\n",
      "\n"
     ]
    }
   ],
   "source": [
    "# Checking number of duplicate rows\n",
    "#  Used this stackoverflow answer: https://stackoverflow.com/a/48554666\n",
    "df_streetlight.groupBy(df_streetlight.columns)\\\n",
    "    .count()\\\n",
    "    .where(F.col('count') > 1)\\\n",
    "    .select(F.sum('count'))\\\n",
    "    .show()"
   ]
  },
  {
   "cell_type": "code",
   "execution_count": 27,
   "metadata": {},
   "outputs": [],
   "source": [
    "# Removing duplicate rows\n",
    "df_streetlight = df_streetlight.dropDuplicates()"
   ]
  },
  {
   "cell_type": "code",
   "execution_count": 28,
   "metadata": {},
   "outputs": [
    {
     "data": {
      "text/plain": [
       "114902"
      ]
     },
     "execution_count": 28,
     "metadata": {},
     "output_type": "execute_result"
    }
   ],
   "source": [
    "df_streetlight.count()"
   ]
  },
  {
   "cell_type": "markdown",
   "metadata": {},
   "source": [
    "#### __Q2.1 Answer__:\n",
    "* I have decided to let PySpark infer the schema and use the first row in the csv file as the column names.\n",
    "* There is one record with a null date value and 33 records with null watts values.\n",
    "* I have decided to not eliminate any record containing null values for the analysis.\n",
    "* 4749 duplicate rows have been found and removed from the dataset"
   ]
  },
  {
   "cell_type": "markdown",
   "metadata": {},
   "source": [
    "### __Q2.2__ How many total streetlights?"
   ]
  },
  {
   "cell_type": "code",
   "execution_count": 29,
   "metadata": {},
   "outputs": [
    {
     "data": {
      "text/plain": [
       "114902"
      ]
     },
     "execution_count": 29,
     "metadata": {},
     "output_type": "execute_result"
    }
   ],
   "source": [
    "df_streetlight.count()"
   ]
  },
  {
   "cell_type": "markdown",
   "metadata": {},
   "source": [
    "#### __Q2.2 Answer__: 114,902 streetlights"
   ]
  },
  {
   "cell_type": "markdown",
   "metadata": {},
   "source": [
    "### __Q2.3__ How many streetlights are converted to LED?"
   ]
  },
  {
   "cell_type": "code",
   "execution_count": 30,
   "metadata": {},
   "outputs": [
    {
     "data": {
      "text/plain": [
       "50492"
      ]
     },
     "execution_count": 30,
     "metadata": {},
     "output_type": "execute_result"
    }
   ],
   "source": [
    "df_streetlight.filter(df_streetlight[\"Type\"] == \"LED\").count()"
   ]
  },
  {
   "cell_type": "markdown",
   "metadata": {},
   "source": [
    "#### __Q2.3 Answer__: 50,492 streetlights were converted to LED"
   ]
  },
  {
   "cell_type": "markdown",
   "metadata": {},
   "source": [
    "### __Q2.4__ How many streetlights were converted by year?"
   ]
  },
  {
   "cell_type": "code",
   "execution_count": 31,
   "metadata": {},
   "outputs": [],
   "source": [
    "df_streetlight = df_streetlight.withColumn(\"Year\", F.split(\"Start Date\", \" \")[2])  # Add a 'Year' column"
   ]
  },
  {
   "cell_type": "code",
   "execution_count": 32,
   "metadata": {},
   "outputs": [
    {
     "name": "stdout",
     "output_type": "stream",
     "text": [
      "+----+-----+-----------------+---------+------------------+-------------------+--------------------+----+\n",
      "|Type|Watts|       Start Date|Ownership|          Latitude|          Longitude|            Location|Year|\n",
      "+----+-----+-----------------+---------+------------------+-------------------+--------------------+----+\n",
      "| LED|   51|  January 15 2018|      COE| 53.53287863556411|-113.46888339036123|(5933462.98184977...|2018|\n",
      "| LED|   51|  January 15 2018|      COE| 53.53232697346642|-113.47003087340482|(5933401.0242782,...|2018|\n",
      "| LED|   72|     July 24 2013|      COE| 53.52836144525659|-113.64023322880963|(5932889.25894843...|2013|\n",
      "| LED|   43| December 23 2011|      COE|53.544666080163026|-113.45023087385474|(5934784.11410638...|2011|\n",
      "| LED|   34|  January 01 2015|      COE| 53.59385871760341|-113.52498558573531|(5940222.86090743...|2015|\n",
      "| LED|   34|  January 01 2015|      COE|  53.5982783677076|-113.53071237680531|(5940712.18804645...|2015|\n",
      "| LED|   65|  January 25 2016|      COE| 53.63205786295841|-113.43632360920843|(5944516.678, 372...|2016|\n",
      "| LED|   40|    April 04 2018|      COE|53.528334778056546|-113.63426716872917|(5932888.3054, 24...|2018|\n",
      "| LED|   35|     July 24 2013|      COE| 53.52496321195198| -113.6331526503394|(5932513.48273787...|2013|\n",
      "| LED|   43|     June 05 2012|      COE|  53.5131666826789|-113.51842067383289|(5931246.018, 319...|2012|\n",
      "| LED|   43|     June 05 2012|      COE| 53.51411404839645|-113.52055211035922|(5931350.491, 318...|2012|\n",
      "| LED|   68| November 05 2019|      COE| 53.53292729602645|-113.41878115067186|(5933494.32868996...|2019|\n",
      "| LED|   72|    March 19 2019|      COE| 53.50985743666873|-113.51985764813394|(5930877.11, 3185...|2019|\n",
      "| LED|   90| December 21 2017|      COE| 53.57526850626006|-113.44442368867554|(5938192.66450893...|2017|\n",
      "| LED|  125|   August 03 2018|      COE|53.541163217124954|-113.40365884428397|(5934419.13640058...|2018|\n",
      "| LED|  145|   August 03 2018|      COE| 53.54096649944941|-113.41083916284967|(5934393.28447878...|2018|\n",
      "| LED|   58| December 10 2018|      COE| 53.49038979207052|-113.57695513799852|(5928686.67803212...|2018|\n",
      "| LED|   55|    April 05 2019|      COE|53.510937169567136|-113.52892683436237|(5930993.25155072...|2019|\n",
      "| LED|   43|     July 01 2018|      COE|53.407231140400754|-113.57964705446052|(5919431.50154096...|2018|\n",
      "| LED|   68|September 13 2019|      COE| 53.53325671115548|-113.56542720282688|(5933461.67477906...|2019|\n",
      "+----+-----+-----------------+---------+------------------+-------------------+--------------------+----+\n",
      "only showing top 20 rows\n",
      "\n"
     ]
    }
   ],
   "source": [
    "df_streetlight.show()"
   ]
  },
  {
   "cell_type": "code",
   "execution_count": 33,
   "metadata": {},
   "outputs": [
    {
     "data": {
      "text/plain": [
       "49"
      ]
     },
     "execution_count": 33,
     "metadata": {},
     "output_type": "execute_result"
    }
   ],
   "source": [
    "df_streetlight.select(\"Year\").distinct().count()"
   ]
  },
  {
   "cell_type": "code",
   "execution_count": 34,
   "metadata": {},
   "outputs": [
    {
     "name": "stdout",
     "output_type": "stream",
     "text": [
      "+----+\n",
      "|Year|\n",
      "+----+\n",
      "|null|\n",
      "|1974|\n",
      "|1976|\n",
      "|1977|\n",
      "|1978|\n",
      "|1979|\n",
      "|1980|\n",
      "|1981|\n",
      "|1982|\n",
      "|1983|\n",
      "|1984|\n",
      "|1985|\n",
      "|1986|\n",
      "|1987|\n",
      "|1988|\n",
      "|1989|\n",
      "|1990|\n",
      "|1991|\n",
      "|1992|\n",
      "|1993|\n",
      "|1994|\n",
      "|1995|\n",
      "|1996|\n",
      "|1997|\n",
      "|1998|\n",
      "|1999|\n",
      "|2000|\n",
      "|2001|\n",
      "|2002|\n",
      "|2003|\n",
      "|2004|\n",
      "|2005|\n",
      "|2006|\n",
      "|2007|\n",
      "|2008|\n",
      "|2009|\n",
      "|2010|\n",
      "|2011|\n",
      "|2012|\n",
      "|2013|\n",
      "|2014|\n",
      "|2015|\n",
      "|2016|\n",
      "|2017|\n",
      "|2018|\n",
      "|2019|\n",
      "|2020|\n",
      "|2027|\n",
      "|3008|\n",
      "+----+\n",
      "\n"
     ]
    }
   ],
   "source": [
    "df_streetlight.select(\"Year\").distinct().orderBy(\"Year\").show(49)"
   ]
  },
  {
   "cell_type": "markdown",
   "metadata": {},
   "source": [
    "#### __Q2.4 Answer__:"
   ]
  },
  {
   "cell_type": "code",
   "execution_count": 35,
   "metadata": {},
   "outputs": [
    {
     "name": "stdout",
     "output_type": "stream",
     "text": [
      "+----+-----+\n",
      "|Year|count|\n",
      "+----+-----+\n",
      "|2002|14062|\n",
      "|2016|12470|\n",
      "|2012| 8088|\n",
      "|2018| 7136|\n",
      "|2015| 6411|\n",
      "|2011| 5927|\n",
      "|2013| 5600|\n",
      "|2017| 4631|\n",
      "|2014| 4549|\n",
      "|2019| 3114|\n",
      "|2008| 2866|\n",
      "|2010| 2706|\n",
      "|2003| 2524|\n",
      "|1985| 2402|\n",
      "|2005| 2352|\n",
      "|2004| 2087|\n",
      "|2007| 2055|\n",
      "|1990| 1764|\n",
      "|1991| 1718|\n",
      "|1993| 1688|\n",
      "|2009| 1623|\n",
      "|1989| 1594|\n",
      "|2006| 1587|\n",
      "|1992| 1376|\n",
      "|1984| 1259|\n",
      "|2000| 1244|\n",
      "|1994| 1242|\n",
      "|1998| 1168|\n",
      "|2001| 1160|\n",
      "|1999| 1064|\n",
      "|1986| 1051|\n",
      "|1988|  984|\n",
      "|2020|  869|\n",
      "|1997|  746|\n",
      "|1995|  744|\n",
      "|1980|  619|\n",
      "|1987|  589|\n",
      "|1979|  424|\n",
      "|1982|  399|\n",
      "|1996|  390|\n",
      "|1981|  216|\n",
      "|1983|  195|\n",
      "|1978|   96|\n",
      "|1977|   85|\n",
      "|1976|   24|\n",
      "|null|    1|\n",
      "|1974|    1|\n",
      "|3008|    1|\n",
      "|2027|    1|\n",
      "+----+-----+\n",
      "\n"
     ]
    }
   ],
   "source": [
    "df_streetlight.groupBy(\"Year\").count().orderBy(\"count\", ascending=False).show(49)  # 49 distinct years (one for 'null' year value)"
   ]
  },
  {
   "cell_type": "code",
   "execution_count": null,
   "metadata": {},
   "outputs": [],
   "source": []
  }
 ],
 "metadata": {
  "colab": {
   "name": "BD_Assignment_1.ipynb",
   "provenance": []
  },
  "kernelspec": {
   "display_name": "Python 3",
   "language": "python",
   "name": "python3"
  },
  "language_info": {
   "codemirror_mode": {
    "name": "ipython",
    "version": 3
   },
   "file_extension": ".py",
   "mimetype": "text/x-python",
   "name": "python",
   "nbconvert_exporter": "python",
   "pygments_lexer": "ipython3",
   "version": "3.7.3"
  }
 },
 "nbformat": 4,
 "nbformat_minor": 4
}
