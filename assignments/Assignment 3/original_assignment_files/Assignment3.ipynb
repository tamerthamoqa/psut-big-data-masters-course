{
  "nbformat": 4,
  "nbformat_minor": 0,
  "metadata": {
    "colab": {
      "name": "Assignment3.ipynb",
      "provenance": [],
      "collapsed_sections": []
    },
    "kernelspec": {
      "name": "python3",
      "display_name": "Python 3"
    }
  },
  "cells": [
    {
      "cell_type": "markdown",
      "metadata": {
        "id": "stjZ7fFzVRDY"
      },
      "source": [
        "<center><img src=\"https://drive.google.com/uc?export=view&id=1f0tvL6DLzfOQ_xHNdaBe_6fDUd27lc6U\" alt=\"PSUT\"  width=\"180px\"> \n",
        "<p> \n",
        "King Hussein School for Computing Sciences <br>\n",
        "Department of Data Science <br>\n",
        "\n",
        "<b>Big Data 2020-2021 </b> \n",
        "</p></center>\n",
        "\n",
        "\n",
        "<hr>\n",
        "<h4><b>Grading </b></h4>\n",
        "\n",
        "<table border>\n",
        "<tr>\n",
        "<td> <b>Question</b></td>\n",
        "<td> <b>Mark</b></td>\n",
        "</tr>\n",
        "\n",
        "<tr>\n",
        "<td> <b>Q1</b></td>\n",
        "<td>  /1</td>\n",
        "</tr>\n",
        "\n",
        "<tr>\n",
        "<td> <b>Q2</b></td>\n",
        "<td>  /2</td>\n",
        "</tr>\n",
        "\n",
        "<tr>\n",
        "<td> <b>Q3</b></td>\n",
        "<td>  /1</td>\n",
        "</tr>\n",
        "\n",
        "<tr>\n",
        "<td> <b>Q4</b></td>\n",
        "<td>  /2</td>\n",
        "</tr>\n",
        "\n",
        "<tr>\n",
        "<td> <b>Q5</b></td>\n",
        "<td>  /1</td>\n",
        "</tr>\n",
        "<tr>\n",
        "<td> <b>Q6</b></td>\n",
        "<td>  /2</td>\n",
        "</tr>\n",
        "<tr>\n",
        "<td> <b>Q7</b></td>\n",
        "<td>  /1</td>\n",
        "</tr>\n",
        "<td> <b>Total</b></td>\n",
        "<th colspan=3> /10</th> \n",
        "</tr>\n",
        "</table>\n",
        "\n",
        "\n",
        "\n",
        "<h4><b>Programming Assignment Guidelines</b></h4>\n",
        "<ul>\n",
        "\n",
        "\n",
        "<li>  The assignment should be performed individually.\n",
        "<li>  Cutoff date for this homeworkis 22/01/2021 @ 23:59\n",
        "<li>  Any late assignment will not be accepted.\n",
        "<li>  Academic Fraud: Cases of plagiarism will be dealt with according to university regulations.\n",
        "<li>  Your homework should be written in a jupyter notebook file\n",
        "<li>  Use Pyspark API in all questions and show all code in each step.\n",
        "</ul>\n"
      ]
    },
    {
      "cell_type": "markdown",
      "metadata": {
        "id": "aqt6ndX3iAPX"
      },
      "source": [
        "# Q1: Extract and Join Data \n",
        "\n",
        "Extract the data from the files (File1.csv) and (File2.json) as two Spark Dataframe and call them DF1 and DF2. \n",
        "\n",
        "  - How many rows and columns in DF1 and DF2? What are the names of columns in DF1 and DF2?\n",
        "\n",
        "  - Apply inner join on DF1 and DF2 on the ID column and name the new dataframe DF3. Calculate average,max,min, and median for each numerical column in DF3\n",
        "\n"
      ]
    },
    {
      "cell_type": "markdown",
      "metadata": {
        "id": "hMIMRoPziOYq"
      },
      "source": [
        "# Q2: Dealing with missing values \n",
        "\n",
        "   - How many missing values in each column in DF3? \n",
        "   - What is the percentage of missing value in each column in DF3?\n",
        "   - Impute missing values in the numerical columns by its median. \n",
        "   - Impute missing values the categorical columns by its mode.\n",
        "   "
      ]
    },
    {
      "cell_type": "markdown",
      "metadata": {
        "id": "VEBnD2tAiTHw"
      },
      "source": [
        "# Q3: Dealing with duplicated rows without the ID column.\n",
        "   \n",
        "   - Create DF4 by droping the ID column from DF3.\n",
        "   - How many duplicated rows in DF4?\n",
        "   - Create DF5 after dropping all duplicated rows in DF4."
      ]
    },
    {
      "cell_type": "markdown",
      "metadata": {
        "id": "PLlf8b_5iZRI"
      },
      "source": [
        "# Q4: Dealing with inconsistancy in categorial colums \n",
        "\n",
        "   - Idintify columns that has inconsistent categorical values?\n",
        "   - Provide a  transformation to fix the inconsistancy.\n",
        "  \n",
        "   "
      ]
    },
    {
      "cell_type": "markdown",
      "metadata": {
        "id": "V_1pINYWir6S"
      },
      "source": [
        "# Q5: Dealing with categorical columns:\n",
        "\n",
        "- Propose a transformation to convert the categorical columns in DF5 into numerical columns.\n",
        "- Create a dataframe DF6 that has the new transformations "
      ]
    },
    {
      "cell_type": "markdown",
      "metadata": {
        "id": "03oGdN1Wi2dd"
      },
      "source": [
        "# Q6: Linear Regression Model \n",
        "- Propose a transformation to split the Dataframe DF6 into into training and testing splits. Use X_train, y_train to store the features columns and label column for the training part, respectively, and use X_test,y_test to store the features columns and label column for the testig part, respectively. Use 70% of the rows for training and 30% of rows for testing.\n",
        "\n",
        "- Instantiate and train a Regression models (Linear regression or Decision Tree regression using) on  X_train, y_train.\n",
        "- Generate y_predict by passing X_test to the model\n",
        "- Calculate mean_squared_error or MSE and R2 using y_test and y_predict?\n"
      ]
    },
    {
      "cell_type": "markdown",
      "metadata": {
        "id": "Xp-IG61j14rl"
      },
      "source": [
        "# Q7: Scaling and normalization \n",
        "\n",
        "- Use  StandardScaler to normalize the featured in DF6 and split the DF6 into 30% testing and 70% training, then build linear regression model and calculate  R2 and MSE.\n",
        "\n",
        "- Use from MinMaxScaler to scale the featured in DF6 and split the DF6 into 30% testing and 70% training, then build linear regression model and calculate R2 and MSE.\n",
        "\n",
        "\n",
        "- Based on R2 and MSE, which model perform better? Justify your answer. \n"
      ]
    },
    {
      "cell_type": "code",
      "metadata": {
        "id": "ahreE2Yqvy0U"
      },
      "source": [
        ""
      ],
      "execution_count": null,
      "outputs": []
    }
  ]
}