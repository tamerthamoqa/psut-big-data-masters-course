{
  "nbformat": 4,
  "nbformat_minor": 0,
  "metadata": {
    "colab": {
      "name": "BD_Assignment2.ipynb",
      "provenance": [],
      "collapsed_sections": []
    },
    "kernelspec": {
      "name": "python3",
      "display_name": "Python 3"
    }
  },
  "cells": [
    {
      "cell_type": "markdown",
      "metadata": {
        "id": "stjZ7fFzVRDY"
      },
      "source": [
        "<center><img src=\"https://drive.google.com/uc?export=view&id=1f0tvL6DLzfOQ_xHNdaBe_6fDUd27lc6U\" alt=\"PSUT\"  width=\"180px\"> \n",
        "<p> \n",
        "King Hussein School for Computing Sciences <br>\n",
        "Department of Data Science <br>\n",
        "\n",
        "<b>Big Data 2020-2021 </b> \n",
        "</p></center>\n",
        "\n",
        "\n",
        "<hr>\n",
        "<h4><b>Grading </b></h4>\n",
        "\n",
        "<table border>\n",
        "<tr>\n",
        "<td> <b>Question</b></td>\n",
        "<td> <b>Mark</b></td>\n",
        "</tr>\n",
        "\n",
        "<tr>\n",
        "<td> <b>Q1</b></td>\n",
        "<td>  /2</td>\n",
        "</tr>\n",
        "\n",
        "<tr>\n",
        "<td> <b>Q2</b></td>\n",
        "<td>  /2</td>\n",
        "</tr>\n",
        "\n",
        "<tr>\n",
        "<td> <b>Q3</b></td>\n",
        "<td>  /2</td>\n",
        "</tr>\n",
        "\n",
        "<tr>\n",
        "<td> <b>Q4</b></td>\n",
        "<td>  /4</td>\n",
        "</tr>\n",
        "\n",
        "<td> <b>Total</b></td>\n",
        "<th colspan=3> /10</th> \n",
        "</tr>\n",
        "</table>\n",
        "\n",
        "\n",
        "\n",
        "<h4><b>Programming Assignment Guidelines</b></h4>\n",
        "<ul>\n",
        "\n",
        "\n",
        "<li>  The assignment should be performed individually.\n",
        "<li>  Cutoff date for this homeworkis 19/01/2021 @ 23:59\n",
        "<li>  Any late assignment will not be accepted.\n",
        "<li>  Academic Fraud: Cases of plagiarism will be dealt with according to university regulations.\n",
        "<li>  Your homework should be written in ajupyter notebook file\n",
        "<li>  Show all code in each step.\n",
        "</ul>\n"
      ]
    },
    {
      "cell_type": "markdown",
      "metadata": {
        "id": "j-HFlwFaUYoE"
      },
      "source": [
        "\n",
        "# Questions\n",
        "\n",
        "## The Dataset file contains 9 columns (A,B,C,.., H, Class). Note that the data is \";\" seperated file. Download the dataset file from E-learning System or use this [Link](https://drive.google.com/uc?export=download&id=1r4SnJcvE3x0YMqeiB3uAtevegKO6MbNr) then use Spark to load the dataset as a spark DataFrame. \n",
        "\n",
        "**Q1 *Min-max normalization*:**\n",
        "\n",
        "> Use Spark API to transform all numeric columns using Min-Max scaling approach.Then store all normalized columns except the class column in a separate file (name it NormalizedFile.csv), the file should include 8 columns.\n",
        "\n",
        "**Q2. *Z-score normalization*:**\n",
        "\n",
        "> Use Spark API to transform all numeric columns using z-score approach. Then store all normalized columns except the class column in a separate file (name it ZSCORENormalizedFile.csv), the file should include 8 columns.\n",
        "\n",
        "**Q3. *K-means* on Normalized and Scaled features:**\n",
        "\n",
        "> Use Spark API to to train kmeans clustering model to cluster the dataset file (NormalizedFile.csv) and then the dataset file (ZSCORENormalizedFile.csv) by using k=2 for each model, and display the cluster number for all rows in both cases. Compare the result for clustering ZSCORENormalizedFile.csv and NormalizedFile.csv. Can Identify which model did better and why? \n",
        "\n",
        "\n",
        "**Q4. *KNN* classifier.** \n",
        "\n",
        "\n",
        "> Use Spark API to train a KNN model on 75% of the Dataset and provide accuracy and confusion matrix using 25% of the Dataset. Compare the performance of the classifer based on Normalized and Scaled features in NormalizedFile.csv and ZSCORENormalizedFile.csv\n",
        "\n",
        "\n"
      ]
    },
    {
      "cell_type": "code",
      "metadata": {
        "id": "ahreE2Yqvy0U"
      },
      "source": [
        ""
      ],
      "execution_count": null,
      "outputs": []
    }
  ]
}